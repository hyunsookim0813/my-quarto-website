{
 "cells": [
  {
   "cell_type": "markdown",
   "id": "96bd2b94",
   "metadata": {},
   "source": [
    "---\n",
    "title: '빅분기 실기 - 1유형 문제풀이'\n",
    "author: 'Hyunsoo Kim'\n",
    "date: '2023-10-19'\n",
    "categories: [Python, Pandas, Numpy]\n",
    "jupyter: python3\n",
    "page-layout: full\n",
    "---"
   ]
  },
  {
   "cell_type": "markdown",
   "id": "4ec7fd9a",
   "metadata": {},
   "source": [
    "> 실기 1 유형\n",
    "\n",
    "- 출처 : [MetaCodeM](https://www.youtube.com/watch?v=qh09KQOMMFs)\n",
    "- 참고 : [시험환경 체험](https://dataq.goorm.io/exam/116674/%EC%B2%B4%ED%97%98%ED%95%98%EA%B8%B0/quiz/1)"
   ]
  },
  {
   "cell_type": "markdown",
   "id": "666c33ba",
   "metadata": {},
   "source": [
    "# 1유형 문제풀이"
   ]
  },
  {
   "cell_type": "markdown",
   "id": "3b3ae13c",
   "metadata": {},
   "source": [
    "## &#9989; 데이터 다루기 유형\n",
    "\n",
    "> 1. 데이터 타입(object, int, float, bool 등)\n",
    "> 2. 기초통계량(평균, 중앙값, 사분위수, IQR, 표준편차 등)\n",
    "> 3. 데이터 인덱싱, 필터링, 정렬, 변경 등\n",
    "> 4. 중복값, 결측치, 이상치 처리 (제거 or 대체)\n",
    "> 5. 데이터 Scaling (데이터 표준화(z), 데이터 정규화(min-max))\n",
    "> 6. 데이터 합치기\n",
    "> 7. 날짜/시간 데이터, index 다루기"
   ]
  },
  {
   "cell_type": "markdown",
   "id": "ce1bf714",
   "metadata": {},
   "source": [
    "## &#9989; 핵심문제 27개 (1~10)"
   ]
  },
  {
   "cell_type": "code",
   "execution_count": 1,
   "id": "564524cd",
   "metadata": {},
   "outputs": [
    {
     "data": {
      "text/html": [
       "<div>\n",
       "<style scoped>\n",
       "    .dataframe tbody tr th:only-of-type {\n",
       "        vertical-align: middle;\n",
       "    }\n",
       "\n",
       "    .dataframe tbody tr th {\n",
       "        vertical-align: top;\n",
       "    }\n",
       "\n",
       "    .dataframe thead th {\n",
       "        text-align: right;\n",
       "    }\n",
       "</style>\n",
       "<table border=\"1\" class=\"dataframe\">\n",
       "  <thead>\n",
       "    <tr style=\"text-align: right;\">\n",
       "      <th></th>\n",
       "      <th>car</th>\n",
       "      <th>mpg</th>\n",
       "      <th>cyl</th>\n",
       "      <th>disp</th>\n",
       "      <th>hp</th>\n",
       "      <th>drat</th>\n",
       "      <th>wt</th>\n",
       "      <th>qsec</th>\n",
       "      <th>vs</th>\n",
       "      <th>am</th>\n",
       "      <th>gear</th>\n",
       "      <th>carb</th>\n",
       "    </tr>\n",
       "  </thead>\n",
       "  <tbody>\n",
       "    <tr>\n",
       "      <th>0</th>\n",
       "      <td>Mazda RX4</td>\n",
       "      <td>21.0</td>\n",
       "      <td>6</td>\n",
       "      <td>160.0</td>\n",
       "      <td>110</td>\n",
       "      <td>3.90</td>\n",
       "      <td>2.620</td>\n",
       "      <td>16.46</td>\n",
       "      <td>0</td>\n",
       "      <td>1</td>\n",
       "      <td>4</td>\n",
       "      <td>4</td>\n",
       "    </tr>\n",
       "    <tr>\n",
       "      <th>1</th>\n",
       "      <td>Mazda RX4 Wag</td>\n",
       "      <td>21.0</td>\n",
       "      <td>6</td>\n",
       "      <td>160.0</td>\n",
       "      <td>110</td>\n",
       "      <td>3.90</td>\n",
       "      <td>2.875</td>\n",
       "      <td>17.02</td>\n",
       "      <td>0</td>\n",
       "      <td>1</td>\n",
       "      <td>4</td>\n",
       "      <td>4</td>\n",
       "    </tr>\n",
       "    <tr>\n",
       "      <th>2</th>\n",
       "      <td>Datsun 710</td>\n",
       "      <td>22.8</td>\n",
       "      <td>4</td>\n",
       "      <td>108.0</td>\n",
       "      <td>93</td>\n",
       "      <td>3.85</td>\n",
       "      <td>2.320</td>\n",
       "      <td>18.61</td>\n",
       "      <td>1</td>\n",
       "      <td>1</td>\n",
       "      <td>4</td>\n",
       "      <td>1</td>\n",
       "    </tr>\n",
       "    <tr>\n",
       "      <th>3</th>\n",
       "      <td>Hornet 4 Drive</td>\n",
       "      <td>21.4</td>\n",
       "      <td>6</td>\n",
       "      <td>258.0</td>\n",
       "      <td>110</td>\n",
       "      <td>3.08</td>\n",
       "      <td>3.215</td>\n",
       "      <td>19.44</td>\n",
       "      <td>1</td>\n",
       "      <td>0</td>\n",
       "      <td>3</td>\n",
       "      <td>1</td>\n",
       "    </tr>\n",
       "    <tr>\n",
       "      <th>4</th>\n",
       "      <td>Hornet Sportabout</td>\n",
       "      <td>18.7</td>\n",
       "      <td>8</td>\n",
       "      <td>360.0</td>\n",
       "      <td>175</td>\n",
       "      <td>3.15</td>\n",
       "      <td>3.440</td>\n",
       "      <td>17.02</td>\n",
       "      <td>0</td>\n",
       "      <td>0</td>\n",
       "      <td>3</td>\n",
       "      <td>2</td>\n",
       "    </tr>\n",
       "  </tbody>\n",
       "</table>\n",
       "</div>"
      ],
      "text/plain": [
       "                 car   mpg  cyl   disp   hp  drat     wt   qsec  vs  am  gear  \\\n",
       "0          Mazda RX4  21.0    6  160.0  110  3.90  2.620  16.46   0   1     4   \n",
       "1      Mazda RX4 Wag  21.0    6  160.0  110  3.90  2.875  17.02   0   1     4   \n",
       "2         Datsun 710  22.8    4  108.0   93  3.85  2.320  18.61   1   1     4   \n",
       "3     Hornet 4 Drive  21.4    6  258.0  110  3.08  3.215  19.44   1   0     3   \n",
       "4  Hornet Sportabout  18.7    8  360.0  175  3.15  3.440  17.02   0   0     3   \n",
       "\n",
       "   carb  \n",
       "0     4  \n",
       "1     4  \n",
       "2     1  \n",
       "3     1  \n",
       "4     2  "
      ]
     },
     "execution_count": 1,
     "metadata": {},
     "output_type": "execute_result"
    }
   ],
   "source": [
    "# 데이터 불러오기\n",
    "import pandas as pd\n",
    "import numpy as np\n",
    "df = pd.read_csv(\"mtcars.txt\")\n",
    "df.head()"
   ]
  },
  {
   "cell_type": "code",
   "execution_count": 2,
   "id": "0e531aeb",
   "metadata": {},
   "outputs": [],
   "source": [
    "# 문제 1\n",
    "# mpg 변수의 제 1사분위수를 구하고 정수값으로 출력하시오\n",
    "df = pd.read_csv(\"mtcars.txt\")"
   ]
  },
  {
   "cell_type": "code",
   "execution_count": 3,
   "id": "0fbb59bc",
   "metadata": {},
   "outputs": [
    {
     "name": "stdout",
     "output_type": "stream",
     "text": [
      "15\n"
     ]
    }
   ],
   "source": [
    "# (풀이)\n",
    "Q1 = df['mpg'].quantile(.25)\n",
    "print(round(Q1))"
   ]
  },
  {
   "cell_type": "code",
   "execution_count": 4,
   "id": "1c96118e",
   "metadata": {},
   "outputs": [],
   "source": [
    "# 문제 2\n",
    "# mpg 값이 19이상 21이하인 데이터의 수를 구하시오\n",
    "df = pd.read_csv(\"mtcars.txt\")"
   ]
  },
  {
   "cell_type": "code",
   "execution_count": 5,
   "id": "b073602c",
   "metadata": {},
   "outputs": [
    {
     "name": "stdout",
     "output_type": "stream",
     "text": [
      "5\n"
     ]
    }
   ],
   "source": [
    "# (풀이 1)\n",
    "cond1 = (df[(df['mpg']>=19) & (df['mpg']<=21)])\n",
    "print(len(cond1))\n",
    "\n",
    "# (풀이 2)\n",
    "# cond1 = (df['mpg']>=19)\n",
    "# cond2 = (df['mpg']<=21)\n",
    "# print(len(df[cond1&cond2]))"
   ]
  },
  {
   "cell_type": "code",
   "execution_count": 6,
   "id": "a237d31f",
   "metadata": {},
   "outputs": [],
   "source": [
    "# 문제 3\n",
    "# hp 변수의 IQR 값을 구하시오\n",
    "df = pd.read_csv(\"mtcars.txt\")"
   ]
  },
  {
   "cell_type": "code",
   "execution_count": 7,
   "id": "065ec701",
   "metadata": {},
   "outputs": [
    {
     "name": "stdout",
     "output_type": "stream",
     "text": [
      "83.5\n"
     ]
    }
   ],
   "source": [
    "# (풀이)\n",
    "Q1 = df['hp'].quantile(.25)\n",
    "Q3 = df['hp'].quantile(.75)\n",
    "IQR = Q3 - Q1\n",
    "print(IQR)"
   ]
  },
  {
   "cell_type": "code",
   "execution_count": 8,
   "id": "6f038089",
   "metadata": {},
   "outputs": [],
   "source": [
    "# 문제 4 \n",
    "# wt 변수의 상위 10개 값의 총합을 구하여 소수점을 버리고 정수로 출력하시오\n",
    "df = pd.read_csv(\"mtcars.txt\")"
   ]
  },
  {
   "cell_type": "code",
   "execution_count": 9,
   "id": "25a0bdf5",
   "metadata": {},
   "outputs": [
    {
     "name": "stdout",
     "output_type": "stream",
     "text": [
      "42\n"
     ]
    }
   ],
   "source": [
    "# (풀이)\n",
    "top10 = df.sort_values('wt', ascending=False)\n",
    "sum_top10 = sum(top10['wt'].head(10))\n",
    "print(int(sum_top10))\n",
    "\n",
    "# top_10 = df.sort_values('wt',ascending=False).head(10)\n",
    "# print(int(sum(top_10['wt']))) #주의: 소수점 반올림이 아니라 버리는 문제"
   ]
  },
  {
   "cell_type": "code",
   "execution_count": 10,
   "id": "a965854d",
   "metadata": {},
   "outputs": [],
   "source": [
    "# 문제 5\n",
    "# 전체 자동차에서 cyl가 6인 비율이 얼마인지 소수점 첫째짜리까지 출력하시오\n",
    "df = pd.read_csv(\"mtcars.txt\")"
   ]
  },
  {
   "cell_type": "code",
   "execution_count": 11,
   "id": "d0419357",
   "metadata": {},
   "outputs": [
    {
     "name": "stdout",
     "output_type": "stream",
     "text": [
      "0.2\n"
     ]
    }
   ],
   "source": [
    "cond1 = len(df[df['cyl']==6])\n",
    "cond2 = len(df['cyl'])\n",
    "print(round(cond1/cond2, 1))"
   ]
  },
  {
   "cell_type": "code",
   "execution_count": 12,
   "id": "5e4426fe",
   "metadata": {},
   "outputs": [],
   "source": [
    "# 문제 6\n",
    "# 첫번째 행부터 순서대로 10개 뽑은 후 mpg 열의 평균값을 반올림하여 정수로 출력하시오\n",
    "df = pd.read_csv(\"mtcars.txt\")"
   ]
  },
  {
   "cell_type": "code",
   "execution_count": 13,
   "id": "5a79a375",
   "metadata": {},
   "outputs": [
    {
     "name": "stdout",
     "output_type": "stream",
     "text": [
      "20\n"
     ]
    }
   ],
   "source": [
    "# (풀이)\n",
    "cond1 = df.head(10) # df[:10], df.loc[0:9]\n",
    "mean_mpg = cond1['mpg'].mean()\n",
    "print(round(mean_mpg))"
   ]
  },
  {
   "cell_type": "code",
   "execution_count": 14,
   "id": "0acf498a",
   "metadata": {},
   "outputs": [],
   "source": [
    "# 문제 7\n",
    "# 첫번째 행부터 순서대로 50% 까지 데이터를 뽑아 wt 변수의 중앙값을 구하시오\n",
    "df = pd.read_csv(\"mtcars.txt\")"
   ]
  },
  {
   "cell_type": "code",
   "execution_count": 15,
   "id": "ac2e84ec",
   "metadata": {},
   "outputs": [
    {
     "name": "stdout",
     "output_type": "stream",
     "text": [
      "3.44\n"
     ]
    }
   ],
   "source": [
    "# (풀이)\n",
    "# 50% 데이터에 해당하는 행의 수 (정수로 구하기)\n",
    "p50 = int(len(df)*0.5)\n",
    "df50 = df[:p50]\n",
    "print(df50['wt'].median())\n",
    "\n",
    "# len(df)/2\n",
    "# cond1 = df[:17]\n",
    "# cond2 = cond1['wt'].median()\n",
    "# print(cond2)"
   ]
  },
  {
   "cell_type": "code",
   "execution_count": 86,
   "id": "96f8b759",
   "metadata": {},
   "outputs": [
    {
     "data": {
      "text/html": [
       "<div>\n",
       "<style scoped>\n",
       "    .dataframe tbody tr th:only-of-type {\n",
       "        vertical-align: middle;\n",
       "    }\n",
       "\n",
       "    .dataframe tbody tr th {\n",
       "        vertical-align: top;\n",
       "    }\n",
       "\n",
       "    .dataframe thead th {\n",
       "        text-align: right;\n",
       "    }\n",
       "</style>\n",
       "<table border=\"1\" class=\"dataframe\">\n",
       "  <thead>\n",
       "    <tr style=\"text-align: right;\">\n",
       "      <th></th>\n",
       "      <th>날짜</th>\n",
       "      <th>제품</th>\n",
       "      <th>판매수</th>\n",
       "      <th>개당수익</th>\n",
       "    </tr>\n",
       "  </thead>\n",
       "  <tbody>\n",
       "    <tr>\n",
       "      <th>0</th>\n",
       "      <td>20220103</td>\n",
       "      <td>A</td>\n",
       "      <td>3.0</td>\n",
       "      <td>300</td>\n",
       "    </tr>\n",
       "    <tr>\n",
       "      <th>1</th>\n",
       "      <td>20220105</td>\n",
       "      <td>B</td>\n",
       "      <td>NaN</td>\n",
       "      <td>400</td>\n",
       "    </tr>\n",
       "    <tr>\n",
       "      <th>2</th>\n",
       "      <td>None</td>\n",
       "      <td>None</td>\n",
       "      <td>5.0</td>\n",
       "      <td>500</td>\n",
       "    </tr>\n",
       "    <tr>\n",
       "      <th>3</th>\n",
       "      <td>20230127</td>\n",
       "      <td>B</td>\n",
       "      <td>10.0</td>\n",
       "      <td>600</td>\n",
       "    </tr>\n",
       "    <tr>\n",
       "      <th>4</th>\n",
       "      <td>20220203</td>\n",
       "      <td>A</td>\n",
       "      <td>10.0</td>\n",
       "      <td>400</td>\n",
       "    </tr>\n",
       "  </tbody>\n",
       "</table>\n",
       "</div>"
      ],
      "text/plain": [
       "         날짜    제품   판매수  개당수익\n",
       "0  20220103     A   3.0   300\n",
       "1  20220105     B   NaN   400\n",
       "2      None  None   5.0   500\n",
       "3  20230127     B  10.0   600\n",
       "4  20220203     A  10.0   400"
      ]
     },
     "execution_count": 86,
     "metadata": {},
     "output_type": "execute_result"
    }
   ],
   "source": [
    "# 문제 8\n",
    "# 결측값이 있는 데이터의 수를 출력하시오\n",
    "\n",
    "# 데이터 생성(수정금지)\n",
    "df = pd.DataFrame({\n",
    "    '날짜' : ['20220103','20220105',None,'20230127','20220203','20220205',\n",
    "            '20230210','20230223','20230312','20230422','20220505','20230511'],\n",
    "    '제품' : ['A','B',None,'B','A',None,'A','B','A','B','A','A'],\n",
    "    '판매수' : [3,None,5,10,10,10,15,15,20,None,30,40],\n",
    "    '개당수익' : [300,400,500,600,400,500,500,600,600,700,600,600]\n",
    "})\n",
    "df.head()"
   ]
  },
  {
   "cell_type": "code",
   "execution_count": 17,
   "id": "def480bf",
   "metadata": {},
   "outputs": [
    {
     "name": "stdout",
     "output_type": "stream",
     "text": [
      "5\n"
     ]
    }
   ],
   "source": [
    "# (풀이)\n",
    "m_value = df.isnull().sum()\n",
    "print(m_value.sum())"
   ]
  },
  {
   "cell_type": "code",
   "execution_count": 18,
   "id": "a79e0469",
   "metadata": {},
   "outputs": [],
   "source": [
    "# 문제 9 \n",
    "# '판매수' 컬럼의 결측값을 판매수의 중앙값으로 대체하고 판매수의 \n",
    "#  평균값을 정수로 출력하시오\n",
    "df = pd.DataFrame({\n",
    "    '날짜' : ['20220103','20220105',None,'20230127','20220203','20220205',\n",
    "            '20230210','20230223','20230312','20230422','20220505','20230511'],\n",
    "    '제품' : ['A','B',None,'B','A',None,'A','B','A','B','A','A'],\n",
    "    '판매수' : [3,None,5,10,10,10,15,15,20,None,30,40],\n",
    "    '개당수익' : [300,400,500,600,400,500,500,600,600,700,600,600]\n",
    "})"
   ]
  },
  {
   "cell_type": "code",
   "execution_count": 19,
   "id": "5d760fcf",
   "metadata": {},
   "outputs": [
    {
     "name": "stdout",
     "output_type": "stream",
     "text": [
      "15\n"
     ]
    }
   ],
   "source": [
    "# (풀이)\n",
    "df[df['판매수'].isnull()]\n",
    "median = df['판매수'].median()\n",
    "df['판매수'] = df['판매수'].fillna(median)\n",
    "mean = df['판매수'].mean()\n",
    "print(int(mean))"
   ]
  },
  {
   "cell_type": "code",
   "execution_count": 20,
   "id": "55f6408b",
   "metadata": {},
   "outputs": [],
   "source": [
    "# 문제 10\n",
    "# 판매수 컬럼에 결측치가 있는 행을 제거하고\n",
    "# 첫번째 행부터 순서대로 50%까지 데이터를 추출하여\n",
    "# 판매수 변수의 Q1(제1사분위수) 값을 정수로 출력하시오\n",
    "df = pd.DataFrame({\n",
    "    '날짜' : ['20220103','20220105',None,'20230127','20220203','20220205',\n",
    "            '20230210','20230223','20230312','20230422','20220505','20230511'],\n",
    "    '제품' : ['A','B',None,'B','A',None,'A','B','A','B','A','A'],\n",
    "    '판매수' : [3,None,5,10,10,10,15,15,20,None,30,40],\n",
    "    '개당수익' : [300,400,500,600,400,500,500,600,600,700,600,600]\n",
    "})"
   ]
  },
  {
   "cell_type": "code",
   "execution_count": 21,
   "id": "015d7efe",
   "metadata": {},
   "outputs": [
    {
     "name": "stdout",
     "output_type": "stream",
     "text": [
      "5\n"
     ]
    }
   ],
   "source": [
    "# (풀이)\n",
    "# 결측치 삭제(행 기준)\n",
    "df = df['판매수'].dropna()\n",
    "# 첫번째 행부터 순서대로 50%까지의 데이터 추출\n",
    "per50 = int(len(df)*0.5)\n",
    "df = df[:per50]\n",
    "# 값구하기\n",
    "print(round(df.quantile(.25)))\n",
    "\n",
    "# df[df['판매수'].isnull()]\n",
    "# df['판매수'] = df['판매수'].dropna()\n",
    "# int(len(df['판매수'])/2)\n",
    "# cond1 = df['판매수'].head(6)\n",
    "# Q1 = cond1.quantile(.25)\n",
    "# print(int(Q1))"
   ]
  },
  {
   "cell_type": "markdown",
   "id": "2ff60b57",
   "metadata": {},
   "source": [
    "## &#9989; 핵심문제 27개 (11~20)"
   ]
  },
  {
   "cell_type": "code",
   "execution_count": 22,
   "id": "6f71baca",
   "metadata": {},
   "outputs": [
    {
     "data": {
      "text/html": [
       "<div>\n",
       "<style scoped>\n",
       "    .dataframe tbody tr th:only-of-type {\n",
       "        vertical-align: middle;\n",
       "    }\n",
       "\n",
       "    .dataframe tbody tr th {\n",
       "        vertical-align: top;\n",
       "    }\n",
       "\n",
       "    .dataframe thead th {\n",
       "        text-align: right;\n",
       "    }\n",
       "</style>\n",
       "<table border=\"1\" class=\"dataframe\">\n",
       "  <thead>\n",
       "    <tr style=\"text-align: right;\">\n",
       "      <th></th>\n",
       "      <th>car</th>\n",
       "      <th>mpg</th>\n",
       "      <th>cyl</th>\n",
       "      <th>disp</th>\n",
       "      <th>hp</th>\n",
       "      <th>drat</th>\n",
       "      <th>wt</th>\n",
       "      <th>qsec</th>\n",
       "      <th>vs</th>\n",
       "      <th>am</th>\n",
       "      <th>gear</th>\n",
       "      <th>carb</th>\n",
       "    </tr>\n",
       "  </thead>\n",
       "  <tbody>\n",
       "    <tr>\n",
       "      <th>0</th>\n",
       "      <td>Mazda RX4</td>\n",
       "      <td>21.0</td>\n",
       "      <td>6</td>\n",
       "      <td>160.0</td>\n",
       "      <td>110</td>\n",
       "      <td>3.90</td>\n",
       "      <td>2.620</td>\n",
       "      <td>16.46</td>\n",
       "      <td>0</td>\n",
       "      <td>1</td>\n",
       "      <td>4</td>\n",
       "      <td>4</td>\n",
       "    </tr>\n",
       "    <tr>\n",
       "      <th>1</th>\n",
       "      <td>Mazda RX4 Wag</td>\n",
       "      <td>21.0</td>\n",
       "      <td>6</td>\n",
       "      <td>160.0</td>\n",
       "      <td>110</td>\n",
       "      <td>3.90</td>\n",
       "      <td>2.875</td>\n",
       "      <td>17.02</td>\n",
       "      <td>0</td>\n",
       "      <td>1</td>\n",
       "      <td>4</td>\n",
       "      <td>4</td>\n",
       "    </tr>\n",
       "    <tr>\n",
       "      <th>2</th>\n",
       "      <td>Datsun 710</td>\n",
       "      <td>22.8</td>\n",
       "      <td>4</td>\n",
       "      <td>108.0</td>\n",
       "      <td>93</td>\n",
       "      <td>3.85</td>\n",
       "      <td>2.320</td>\n",
       "      <td>18.61</td>\n",
       "      <td>1</td>\n",
       "      <td>1</td>\n",
       "      <td>4</td>\n",
       "      <td>1</td>\n",
       "    </tr>\n",
       "    <tr>\n",
       "      <th>3</th>\n",
       "      <td>Hornet 4 Drive</td>\n",
       "      <td>21.4</td>\n",
       "      <td>6</td>\n",
       "      <td>258.0</td>\n",
       "      <td>110</td>\n",
       "      <td>3.08</td>\n",
       "      <td>3.215</td>\n",
       "      <td>19.44</td>\n",
       "      <td>1</td>\n",
       "      <td>0</td>\n",
       "      <td>3</td>\n",
       "      <td>1</td>\n",
       "    </tr>\n",
       "    <tr>\n",
       "      <th>4</th>\n",
       "      <td>Hornet Sportabout</td>\n",
       "      <td>18.7</td>\n",
       "      <td>8</td>\n",
       "      <td>360.0</td>\n",
       "      <td>175</td>\n",
       "      <td>3.15</td>\n",
       "      <td>3.440</td>\n",
       "      <td>17.02</td>\n",
       "      <td>0</td>\n",
       "      <td>0</td>\n",
       "      <td>3</td>\n",
       "      <td>2</td>\n",
       "    </tr>\n",
       "  </tbody>\n",
       "</table>\n",
       "</div>"
      ],
      "text/plain": [
       "                 car   mpg  cyl   disp   hp  drat     wt   qsec  vs  am  gear  \\\n",
       "0          Mazda RX4  21.0    6  160.0  110  3.90  2.620  16.46   0   1     4   \n",
       "1      Mazda RX4 Wag  21.0    6  160.0  110  3.90  2.875  17.02   0   1     4   \n",
       "2         Datsun 710  22.8    4  108.0   93  3.85  2.320  18.61   1   1     4   \n",
       "3     Hornet 4 Drive  21.4    6  258.0  110  3.08  3.215  19.44   1   0     3   \n",
       "4  Hornet Sportabout  18.7    8  360.0  175  3.15  3.440  17.02   0   0     3   \n",
       "\n",
       "   carb  \n",
       "0     4  \n",
       "1     4  \n",
       "2     1  \n",
       "3     1  \n",
       "4     2  "
      ]
     },
     "execution_count": 22,
     "metadata": {},
     "output_type": "execute_result"
    }
   ],
   "source": [
    "df = pd.read_csv('mtcars.txt')\n",
    "df.head()"
   ]
  },
  {
   "cell_type": "code",
   "execution_count": 23,
   "id": "27802f96",
   "metadata": {},
   "outputs": [],
   "source": [
    "# 문제 11\n",
    "# cyl가 4인 자동차와 6인 자동차 그룹의 mpg 평균값이 차이를 절대값으로 정수로 출력하시오\n",
    "df = pd.read_csv('mtcars.txt')"
   ]
  },
  {
   "cell_type": "code",
   "execution_count": 24,
   "id": "1fd4b2f7",
   "metadata": {},
   "outputs": [
    {
     "name": "stdout",
     "output_type": "stream",
     "text": [
      "7\n"
     ]
    }
   ],
   "source": [
    "# (풀이)\n",
    "cyl_4 = df[df['cyl']==4]\n",
    "cyl_4_mean = cyl_4['mpg'].mean()\n",
    "\n",
    "cyl_6 = df[df['cyl']==6]\n",
    "cyl_6_mean = cyl_6['mpg'].mean()\n",
    "\n",
    "print(round(abs(cyl_4_mean - cyl_6_mean)))"
   ]
  },
  {
   "cell_type": "code",
   "execution_count": 25,
   "id": "a0108b9c",
   "metadata": {},
   "outputs": [],
   "source": [
    "# 문제 12\n",
    "# hp 변수에 대해 데이터표준화(Z-score)를 진행하고 이상치의 수를 구하시오\n",
    "# (단, 이상치는 Z값이 1.5를 초과하거나 -1.5미만인 값이다)\n",
    "df = pd.read_csv('mtcars.txt')"
   ]
  },
  {
   "cell_type": "code",
   "execution_count": 26,
   "id": "46369dd2",
   "metadata": {},
   "outputs": [
    {
     "name": "stdout",
     "output_type": "stream",
     "text": [
      "2\n"
     ]
    }
   ],
   "source": [
    "# (풀이)\n",
    "# Z = (X-평균) / 표준편차\n",
    "std = df['hp'].std()\n",
    "mean_hp = df['hp'].mean()\n",
    "df['zscore'] = (df['hp']-mean_hp)/std\n",
    "\n",
    "cond1 = (df['zscore']>1.5)\n",
    "cond2 = (df['zscore']<-1.5)\n",
    "print(len(df[cond1] + df[cond2]))"
   ]
  },
  {
   "cell_type": "code",
   "execution_count": 27,
   "id": "b5c3c095",
   "metadata": {},
   "outputs": [],
   "source": [
    "# 문제 13\n",
    "# mpg 컬럼을 최소최대 Scaling을 진행한 후 0.7보다 큰 값을 가지는 레코드 수를 구하라\n",
    "df = pd.read_csv('mtcars.txt')"
   ]
  },
  {
   "cell_type": "code",
   "execution_count": 28,
   "id": "1c0bd038",
   "metadata": {},
   "outputs": [
    {
     "name": "stdout",
     "output_type": "stream",
     "text": [
      "5\n"
     ]
    }
   ],
   "source": [
    "# (풀이)\n",
    "from sklearn.preprocessing import MinMaxScaler\n",
    "mscaler = MinMaxScaler()\n",
    "df['mpg'] = mscaler.fit_transform(df[['mpg']])\n",
    "print(len(df[df['mpg']>0.7]))\n",
    "\n",
    "# 공식 : (x-min) / (max-min)\n",
    "# min_mpg = df['mpg'].min()\n",
    "# max_mpg = df['mpg'].max()\n",
    "# df['mpg'] = (df['mpg'] - min_mpg)/(max_mpg - min_mpg)\n",
    "# cond1 = (df['mpg']>0.7)\n",
    "# print(len(df[cond1]))"
   ]
  },
  {
   "cell_type": "code",
   "execution_count": 29,
   "id": "8a312a10",
   "metadata": {},
   "outputs": [],
   "source": [
    "# 문제 14\n",
    "# wt 컬럼에 대해 상자그림 기준으로 이상치의 개수를 구하시오\n",
    "df = pd.read_csv('mtcars.txt')"
   ]
  },
  {
   "cell_type": "code",
   "execution_count": 30,
   "id": "d653def0",
   "metadata": {},
   "outputs": [
    {
     "name": "stdout",
     "output_type": "stream",
     "text": [
      "3\n"
     ]
    }
   ],
   "source": [
    "# (풀이)\n",
    "# 이상치 : Q1, Q3 로부터 1.5*IQR을 넘어가는 값\n",
    "Q1 = df['wt'].quantile(.25)\n",
    "Q3 = df['wt'].quantile(.75)\n",
    "IQR = Q3-Q1\n",
    "\n",
    "upper = Q3 + (1.5*IQR)\n",
    "lower = Q1 - (1.5*IQR)\n",
    "\n",
    "cond1 = (df['wt'] > upper)\n",
    "cond2 = (df['wt'] < lower)\n",
    "\n",
    "print(len(df[cond1] + df[cond2]))"
   ]
  },
  {
   "cell_type": "code",
   "execution_count": 55,
   "id": "02c7c6b2",
   "metadata": {},
   "outputs": [
    {
     "data": {
      "text/html": [
       "<div>\n",
       "<style scoped>\n",
       "    .dataframe tbody tr th:only-of-type {\n",
       "        vertical-align: middle;\n",
       "    }\n",
       "\n",
       "    .dataframe tbody tr th {\n",
       "        vertical-align: top;\n",
       "    }\n",
       "\n",
       "    .dataframe thead th {\n",
       "        text-align: right;\n",
       "    }\n",
       "</style>\n",
       "<table border=\"1\" class=\"dataframe\">\n",
       "  <thead>\n",
       "    <tr style=\"text-align: right;\">\n",
       "      <th></th>\n",
       "      <th>날짜</th>\n",
       "      <th>제품</th>\n",
       "      <th>판매수</th>\n",
       "      <th>개당수익</th>\n",
       "    </tr>\n",
       "  </thead>\n",
       "  <tbody>\n",
       "    <tr>\n",
       "      <th>0</th>\n",
       "      <td>20220103</td>\n",
       "      <td>A</td>\n",
       "      <td>3.0</td>\n",
       "      <td>300</td>\n",
       "    </tr>\n",
       "    <tr>\n",
       "      <th>1</th>\n",
       "      <td>20220105</td>\n",
       "      <td>B</td>\n",
       "      <td>NaN</td>\n",
       "      <td>400</td>\n",
       "    </tr>\n",
       "    <tr>\n",
       "      <th>2</th>\n",
       "      <td>None</td>\n",
       "      <td>None</td>\n",
       "      <td>5.0</td>\n",
       "      <td>500</td>\n",
       "    </tr>\n",
       "    <tr>\n",
       "      <th>3</th>\n",
       "      <td>20230127</td>\n",
       "      <td>B</td>\n",
       "      <td>10.0</td>\n",
       "      <td>600</td>\n",
       "    </tr>\n",
       "    <tr>\n",
       "      <th>4</th>\n",
       "      <td>20220203</td>\n",
       "      <td>A</td>\n",
       "      <td>10.0</td>\n",
       "      <td>400</td>\n",
       "    </tr>\n",
       "    <tr>\n",
       "      <th>5</th>\n",
       "      <td>20220205</td>\n",
       "      <td>None</td>\n",
       "      <td>10.0</td>\n",
       "      <td>500</td>\n",
       "    </tr>\n",
       "    <tr>\n",
       "      <th>6</th>\n",
       "      <td>20230210</td>\n",
       "      <td>A</td>\n",
       "      <td>15.0</td>\n",
       "      <td>500</td>\n",
       "    </tr>\n",
       "    <tr>\n",
       "      <th>7</th>\n",
       "      <td>20230223</td>\n",
       "      <td>B</td>\n",
       "      <td>15.0</td>\n",
       "      <td>600</td>\n",
       "    </tr>\n",
       "    <tr>\n",
       "      <th>8</th>\n",
       "      <td>20230312</td>\n",
       "      <td>A</td>\n",
       "      <td>20.0</td>\n",
       "      <td>600</td>\n",
       "    </tr>\n",
       "    <tr>\n",
       "      <th>9</th>\n",
       "      <td>20230422</td>\n",
       "      <td>B</td>\n",
       "      <td>NaN</td>\n",
       "      <td>700</td>\n",
       "    </tr>\n",
       "    <tr>\n",
       "      <th>10</th>\n",
       "      <td>20220505</td>\n",
       "      <td>A</td>\n",
       "      <td>30.0</td>\n",
       "      <td>600</td>\n",
       "    </tr>\n",
       "    <tr>\n",
       "      <th>11</th>\n",
       "      <td>20230511</td>\n",
       "      <td>A</td>\n",
       "      <td>40.0</td>\n",
       "      <td>600</td>\n",
       "    </tr>\n",
       "  </tbody>\n",
       "</table>\n",
       "</div>"
      ],
      "text/plain": [
       "          날짜    제품   판매수  개당수익\n",
       "0   20220103     A   3.0   300\n",
       "1   20220105     B   NaN   400\n",
       "2       None  None   5.0   500\n",
       "3   20230127     B  10.0   600\n",
       "4   20220203     A  10.0   400\n",
       "5   20220205  None  10.0   500\n",
       "6   20230210     A  15.0   500\n",
       "7   20230223     B  15.0   600\n",
       "8   20230312     A  20.0   600\n",
       "9   20230422     B   NaN   700\n",
       "10  20220505     A  30.0   600\n",
       "11  20230511     A  40.0   600"
      ]
     },
     "execution_count": 55,
     "metadata": {},
     "output_type": "execute_result"
    }
   ],
   "source": [
    "# 문제 15\n",
    "# 판매수 컬럼의 결측치를 최소값으로 대체하고\n",
    "# 결측치가 있을 때와 최소값으로 대체했을 때\n",
    "# 평균값의 차이를 절대값으로 정수로 출력하시오\n",
    "\n",
    "# 데이터 생성(수정금지)\n",
    "df = pd.DataFrame({\n",
    "    '날짜' : ['20220103','20220105',None,'20230127','20220203','20220205',\n",
    "            '20230210','20230223','20230312','20230422','20220505','20230511'],\n",
    "    '제품' : ['A','B',None,'B','A',None,'A','B','A','B','A','A'],\n",
    "    '판매수' : [3,None,5,10,10,10,15,15,20,None,30,40],\n",
    "    '개당수익' : [300,400,500,600,400,500,500,600,600,700,600,600]\n",
    "})\n",
    "df"
   ]
  },
  {
   "cell_type": "code",
   "execution_count": 32,
   "id": "31e18b4f",
   "metadata": {},
   "outputs": [
    {
     "name": "stdout",
     "output_type": "stream",
     "text": [
      "2\n"
     ]
    }
   ],
   "source": [
    "# (풀이)\n",
    "# 데이터 복사\n",
    "df2 = df.copy()\n",
    "# 최소값으로 결측치 대체\n",
    "min = df['판매수'].min()\n",
    "df2['판매수'] = df2['판매수'].fillna(min)\n",
    "\n",
    "# 결측치가 있을때, 대체했을때 평균\n",
    "m_yes = df['판매수'].mean()\n",
    "m_no = df2['판매수'].mean()\n",
    "\n",
    "print(round(abs(m_yes - m_no)))"
   ]
  },
  {
   "cell_type": "code",
   "execution_count": 33,
   "id": "565c532f",
   "metadata": {},
   "outputs": [],
   "source": [
    "# 문제 16\n",
    "# vs변수가 0이 아닌 차량 중에 mpg 값이 가장 큰 차량의 hp 값을 출력하시오\n",
    "df = pd.read_csv('mtcars.txt')"
   ]
  },
  {
   "cell_type": "code",
   "execution_count": 34,
   "id": "f3367303",
   "metadata": {},
   "outputs": [
    {
     "name": "stdout",
     "output_type": "stream",
     "text": [
      "65\n"
     ]
    }
   ],
   "source": [
    "# (풀이)\n",
    "cond1 = df[df['vs']!=0]\n",
    "# mpg 값이 가장 큰 차량(내림차순)\n",
    "cond1 = cond1.sort_values('mpg',ascending=False)\n",
    "# cond1\n",
    "print(cond1['hp'].iloc[0])"
   ]
  },
  {
   "cell_type": "code",
   "execution_count": 35,
   "id": "b6ce3c16",
   "metadata": {},
   "outputs": [],
   "source": [
    "# 문제 17\n",
    "# gear 변수값이 3, 4인 두 그룹의 hp 표준편차값의 차이를 절대값으로 \n",
    "# 소수점 첫째자리까지 출력하시오\n",
    "df = pd.read_csv('mtcars.txt')"
   ]
  },
  {
   "cell_type": "code",
   "execution_count": 36,
   "id": "97d8555c",
   "metadata": {},
   "outputs": [
    {
     "name": "stdout",
     "output_type": "stream",
     "text": [
      "21.8\n"
     ]
    }
   ],
   "source": [
    "# (풀이)\n",
    "# 두개 그룹으로 필터링\n",
    "cond1 = df[df['gear']==3]\n",
    "cond2 = df[df['gear']==4]\n",
    "# std 구하기\n",
    "std3 = cond1['hp'].std()\n",
    "std4 = cond2['hp'].std()\n",
    "\n",
    "print(round(abs(std3 - std4),1))"
   ]
  },
  {
   "cell_type": "code",
   "execution_count": 39,
   "id": "c95ac04d",
   "metadata": {},
   "outputs": [],
   "source": [
    "# 문제 18\n",
    "# gear 변수의 갑별로 그룹화하여 mpg 평균값을 산출하고\n",
    "# 평균값이 높은 그룹의 mpg 제3사분위수 값을 구하시오\n",
    "df = pd.read_csv('mtcars.txt')"
   ]
  },
  {
   "cell_type": "code",
   "execution_count": 38,
   "id": "3e4b38ad",
   "metadata": {},
   "outputs": [
    {
     "name": "stdout",
     "output_type": "stream",
     "text": [
      "28.075\n"
     ]
    }
   ],
   "source": [
    "# (풀이)\n",
    "df['gear'].unique()\n",
    "gear3 = df[df['gear']==3]\n",
    "gear4 = df[df['gear']==4]\n",
    "gear5 = df[df['gear']==5]\n",
    "\n",
    "m_3 = gear3['mpg'].mean()\n",
    "m_4 = gear4['mpg'].mean()\n",
    "m_5 = gear5['mpg'].mean()\n",
    "\n",
    "(m_3, m_4, m_5) # m_4의 평균값이 가장 큼\n",
    "Q3 = gear4['mpg'].quantile(.75)\n",
    "print(Q3)"
   ]
  },
  {
   "cell_type": "code",
   "execution_count": 42,
   "id": "86502739",
   "metadata": {},
   "outputs": [
    {
     "name": "stdout",
     "output_type": "stream",
     "text": [
      "28.075\n"
     ]
    }
   ],
   "source": [
    "# (풀이_v2)\n",
    "# gear, mpg 변수만 필터링\n",
    "df = df.loc[:, ['gear', 'mpg']]\n",
    "\n",
    "# gear 변수로 그룹화하여 mpg 평균값 보기\n",
    "# print(df.groupby('gear').mean()) # gear 4그룹이 제일 높음\n",
    "\n",
    "# gear=4인 그룹의 mpg Q3 구하기\n",
    "gear4 = df[df['gear']==4]\n",
    "print(gear4['mpg'].quantile(.75))"
   ]
  },
  {
   "cell_type": "code",
   "execution_count": 43,
   "id": "b0ce5201",
   "metadata": {},
   "outputs": [],
   "source": [
    "# 문제 19\n",
    "# hp 항목의 상위 7번째 값으로 상위 7개 값을 변환한 후,\n",
    "# hp가 150 이상인 데이터를 추출하여 hp의 평균값을 반올림하여 정수로 출력하시오\n",
    "df = pd.read_csv('mtcars.txt')"
   ]
  },
  {
   "cell_type": "code",
   "execution_count": 49,
   "id": "a58c965e",
   "metadata": {},
   "outputs": [
    {
     "name": "stdout",
     "output_type": "stream",
     "text": [
      "187\n"
     ]
    }
   ],
   "source": [
    "# (풀이)\n",
    "# hp 열 기준으로 내림차순 정렬\n",
    "df = df.sort_values('hp', ascending=False)\n",
    "\n",
    "# 인덱스 초기화 - 내림차순으로 정렬시 최초의 인덱스로 있기에\n",
    "df = df.reset_index(drop=True) # drop=True 는 기존 index 삭제\n",
    "# print(df)\n",
    "\n",
    "# hp 상위 7번째 값 확인\n",
    "top7 = df['hp'].loc[6] # top7 = 205\n",
    "\n",
    "# np.where 활용\n",
    "import numpy as np\n",
    "df['hp'] = np.where(df['hp'] >= 205, top7, df['hp'])\n",
    "# np.where(조건, 조건에 해당할 때 값, 그렇지 않을 때 값)\n",
    "\n",
    "# hp 150이상인 데이터\n",
    "cond1 = (df['hp']>=150)\n",
    "df = df[cond1]\n",
    "print(round(df['hp'].mean()))"
   ]
  },
  {
   "cell_type": "code",
   "execution_count": 50,
   "id": "751e4de5",
   "metadata": {},
   "outputs": [],
   "source": [
    "# 문제 20\n",
    "# car 변수에 Merc 무구가 포함된 자동차의 mpg 평균값을 정수로 출력하시오\n",
    "df = pd.read_csv('mtcars.txt')"
   ]
  },
  {
   "cell_type": "code",
   "execution_count": 53,
   "id": "4097c936",
   "metadata": {},
   "outputs": [
    {
     "name": "stdout",
     "output_type": "stream",
     "text": [
      "19\n"
     ]
    }
   ],
   "source": [
    "# (풀이)\n",
    "df2 = df[df['car'].str.contains('Merc')] # 문자열 추출 알아두기\n",
    "print(round(df2['mpg'].mean()))\n",
    "\n",
    "# 시험환경에서 답구하는 방법(reset_index() 사용 후)\n",
    "# 시험에서는 car가 index로 되어 있음\n",
    "# df.reset_index(inplace=True)\n",
    "# df2 = df[df['index'].str.contains(\"Merc\")] \n",
    "# print(round(df2['mpg'].mean()))"
   ]
  },
  {
   "cell_type": "markdown",
   "id": "8848cf2a",
   "metadata": {},
   "source": [
    "## &#9989; 핵심문제 27개 (21~27)"
   ]
  },
  {
   "cell_type": "code",
   "execution_count": 85,
   "id": "0d5d638f",
   "metadata": {},
   "outputs": [
    {
     "data": {
      "text/html": [
       "<div>\n",
       "<style scoped>\n",
       "    .dataframe tbody tr th:only-of-type {\n",
       "        vertical-align: middle;\n",
       "    }\n",
       "\n",
       "    .dataframe tbody tr th {\n",
       "        vertical-align: top;\n",
       "    }\n",
       "\n",
       "    .dataframe thead th {\n",
       "        text-align: right;\n",
       "    }\n",
       "</style>\n",
       "<table border=\"1\" class=\"dataframe\">\n",
       "  <thead>\n",
       "    <tr style=\"text-align: right;\">\n",
       "      <th></th>\n",
       "      <th>날짜</th>\n",
       "      <th>제품</th>\n",
       "      <th>판매수</th>\n",
       "      <th>개당수익</th>\n",
       "    </tr>\n",
       "  </thead>\n",
       "  <tbody>\n",
       "    <tr>\n",
       "      <th>0</th>\n",
       "      <td>20220103</td>\n",
       "      <td>A</td>\n",
       "      <td>3</td>\n",
       "      <td>300</td>\n",
       "    </tr>\n",
       "    <tr>\n",
       "      <th>1</th>\n",
       "      <td>20220105</td>\n",
       "      <td>B</td>\n",
       "      <td>5</td>\n",
       "      <td>400</td>\n",
       "    </tr>\n",
       "    <tr>\n",
       "      <th>2</th>\n",
       "      <td>20230105</td>\n",
       "      <td>A</td>\n",
       "      <td>5</td>\n",
       "      <td>500</td>\n",
       "    </tr>\n",
       "    <tr>\n",
       "      <th>3</th>\n",
       "      <td>20230127</td>\n",
       "      <td>B</td>\n",
       "      <td>10</td>\n",
       "      <td>600</td>\n",
       "    </tr>\n",
       "    <tr>\n",
       "      <th>4</th>\n",
       "      <td>20220203</td>\n",
       "      <td>A</td>\n",
       "      <td>10</td>\n",
       "      <td>400</td>\n",
       "    </tr>\n",
       "  </tbody>\n",
       "</table>\n",
       "</div>"
      ],
      "text/plain": [
       "         날짜 제품  판매수  개당수익\n",
       "0  20220103  A    3   300\n",
       "1  20220105  B    5   400\n",
       "2  20230105  A    5   500\n",
       "3  20230127  B   10   600\n",
       "4  20220203  A   10   400"
      ]
     },
     "execution_count": 85,
     "metadata": {},
     "output_type": "execute_result"
    }
   ],
   "source": [
    "# 문제 21\n",
    "# 22년 1분기 A제품의 매출액을 구하시오\n",
    "# (매출액 = 판매수*개당수익)\n",
    "\n",
    "# 데이터 생성(수정금지)\n",
    "df = pd.DataFrame({\n",
    "    '날짜' : ['20220103','20220105','20230105','20230127','20220203','20220205',\n",
    "            '20230210','20230223','20230312','20230422','20220505','20230511'],\n",
    "    '제품' : ['A','B','A','B','A','B','A','B','A','B','A','A'],\n",
    "    '판매수' : [3,5,5,10,10,10,15,15,20,25,30,40],\n",
    "    '개당수익' : [300,400,500,600,400,500,500,600,600,700,600,600]\n",
    "})\n",
    "df.head()"
   ]
  },
  {
   "cell_type": "code",
   "execution_count": 76,
   "id": "f5d6cec2",
   "metadata": {},
   "outputs": [],
   "source": [
    "# # (풀이)\n",
    "# cond1 = df[df['날짜']<='20220431']\n",
    "# cond2 = cond1[cond1['제품']=='A']\n",
    "# cond2['매출액'] = (cond2['판매수']*cond2['개당수익'])\n",
    "# cond2\n",
    "\n",
    "# print(cond2['매출액'].sum())"
   ]
  },
  {
   "cell_type": "code",
   "execution_count": 74,
   "id": "4e147a23",
   "metadata": {},
   "outputs": [
    {
     "name": "stdout",
     "output_type": "stream",
     "text": [
      "11900\n"
     ]
    },
    {
     "name": "stderr",
     "output_type": "stream",
     "text": [
      "C:\\Users\\Hyunsoo Kim\\AppData\\Local\\Temp\\ipykernel_2420\\876841120.py:3: SettingWithCopyWarning: \n",
      "A value is trying to be set on a copy of a slice from a DataFrame.\n",
      "Try using .loc[row_indexer,col_indexer] = value instead\n",
      "\n",
      "See the caveats in the documentation: https://pandas.pydata.org/pandas-docs/stable/user_guide/indexing.html#returning-a-view-versus-a-copy\n",
      "  df['날짜'] = pd.to_datetime(df['날짜'])\n",
      "C:\\Users\\Hyunsoo Kim\\AppData\\Local\\Temp\\ipykernel_2420\\876841120.py:6: SettingWithCopyWarning: \n",
      "A value is trying to be set on a copy of a slice from a DataFrame.\n",
      "Try using .loc[row_indexer,col_indexer] = value instead\n",
      "\n",
      "See the caveats in the documentation: https://pandas.pydata.org/pandas-docs/stable/user_guide/indexing.html#returning-a-view-versus-a-copy\n",
      "  df['year'] = df['날짜'].dt.year\n",
      "C:\\Users\\Hyunsoo Kim\\AppData\\Local\\Temp\\ipykernel_2420\\876841120.py:7: SettingWithCopyWarning: \n",
      "A value is trying to be set on a copy of a slice from a DataFrame.\n",
      "Try using .loc[row_indexer,col_indexer] = value instead\n",
      "\n",
      "See the caveats in the documentation: https://pandas.pydata.org/pandas-docs/stable/user_guide/indexing.html#returning-a-view-versus-a-copy\n",
      "  df['month'] = df['날짜'].dt.month\n",
      "C:\\Users\\Hyunsoo Kim\\AppData\\Local\\Temp\\ipykernel_2420\\876841120.py:8: SettingWithCopyWarning: \n",
      "A value is trying to be set on a copy of a slice from a DataFrame.\n",
      "Try using .loc[row_indexer,col_indexer] = value instead\n",
      "\n",
      "See the caveats in the documentation: https://pandas.pydata.org/pandas-docs/stable/user_guide/indexing.html#returning-a-view-versus-a-copy\n",
      "  df['day'] = df['날짜'].dt.day\n",
      "C:\\Users\\Hyunsoo Kim\\AppData\\Local\\Temp\\ipykernel_2420\\876841120.py:11: SettingWithCopyWarning: \n",
      "A value is trying to be set on a copy of a slice from a DataFrame.\n",
      "Try using .loc[row_indexer,col_indexer] = value instead\n",
      "\n",
      "See the caveats in the documentation: https://pandas.pydata.org/pandas-docs/stable/user_guide/indexing.html#returning-a-view-versus-a-copy\n",
      "  df['매출액'] = df['판매수'] * df['개당수익']\n"
     ]
    }
   ],
   "source": [
    "# (풀이_v2)\n",
    "# 데이터 타입 datetime으로 변경\n",
    "df['날짜'] = pd.to_datetime(df['날짜'])\n",
    "\n",
    "# 년, 월, 일 변수(열) 추가하기\n",
    "df['year'] = df['날짜'].dt.year\n",
    "df['month'] = df['날짜'].dt.month\n",
    "df['day'] = df['날짜'].dt.day\n",
    "\n",
    "# 매출액 변수 추가하기\n",
    "df['매출액'] = df['판매수'] * df['개당수익']\n",
    "\n",
    "# 22년으로 필터링\n",
    "df = df[df['year']==2022]\n",
    "df.head()\n",
    "\n",
    "# 1,2,3월 매출액 계산\n",
    "m1 = df[df['month']==1]['매출액'].sum()\n",
    "m2 = df[df['month']==2]['매출액'].sum()\n",
    "m3 = df[df['month']==3]['매출액'].sum()\n",
    "print(m1+m2+m3)"
   ]
  },
  {
   "cell_type": "code",
   "execution_count": 84,
   "id": "981fef0b",
   "metadata": {},
   "outputs": [
    {
     "data": {
      "text/html": [
       "<div>\n",
       "<style scoped>\n",
       "    .dataframe tbody tr th:only-of-type {\n",
       "        vertical-align: middle;\n",
       "    }\n",
       "\n",
       "    .dataframe tbody tr th {\n",
       "        vertical-align: top;\n",
       "    }\n",
       "\n",
       "    .dataframe thead th {\n",
       "        text-align: right;\n",
       "    }\n",
       "</style>\n",
       "<table border=\"1\" class=\"dataframe\">\n",
       "  <thead>\n",
       "    <tr style=\"text-align: right;\">\n",
       "      <th></th>\n",
       "      <th>날짜</th>\n",
       "      <th>제품</th>\n",
       "      <th>판매수</th>\n",
       "      <th>개당수익</th>\n",
       "    </tr>\n",
       "  </thead>\n",
       "  <tbody>\n",
       "    <tr>\n",
       "      <th>0</th>\n",
       "      <td>20220103</td>\n",
       "      <td>A</td>\n",
       "      <td>3</td>\n",
       "      <td>300</td>\n",
       "    </tr>\n",
       "    <tr>\n",
       "      <th>1</th>\n",
       "      <td>20220105</td>\n",
       "      <td>B</td>\n",
       "      <td>5</td>\n",
       "      <td>400</td>\n",
       "    </tr>\n",
       "    <tr>\n",
       "      <th>2</th>\n",
       "      <td>20230105</td>\n",
       "      <td>A</td>\n",
       "      <td>5</td>\n",
       "      <td>500</td>\n",
       "    </tr>\n",
       "    <tr>\n",
       "      <th>3</th>\n",
       "      <td>20230127</td>\n",
       "      <td>B</td>\n",
       "      <td>10</td>\n",
       "      <td>600</td>\n",
       "    </tr>\n",
       "    <tr>\n",
       "      <th>4</th>\n",
       "      <td>20220203</td>\n",
       "      <td>A</td>\n",
       "      <td>10</td>\n",
       "      <td>400</td>\n",
       "    </tr>\n",
       "  </tbody>\n",
       "</table>\n",
       "</div>"
      ],
      "text/plain": [
       "         날짜 제품  판매수  개당수익\n",
       "0  20220103  A    3   300\n",
       "1  20220105  B    5   400\n",
       "2  20230105  A    5   500\n",
       "3  20230127  B   10   600\n",
       "4  20220203  A   10   400"
      ]
     },
     "execution_count": 84,
     "metadata": {},
     "output_type": "execute_result"
    }
   ],
   "source": [
    "# 문제 22\n",
    "# 22년과 23년의 총 매출액 차이를 절대값으로 구하시오\n",
    "# (매출액 = 판매수*개당수익)\n",
    "\n",
    "# 데이터 생성(수정금지)\n",
    "df = pd.DataFrame({\n",
    "    '날짜' : ['20220103','20220105','20230105','20230127','20220203','20220205',\n",
    "            '20230210','20230223','20230312','20230422','20220505','20230511'],\n",
    "    '제품' : ['A','B','A','B','A','B','A','B','A','B','A','A'],\n",
    "    '판매수' : [3,5,5,10,10,10,15,15,20,25,30,40],\n",
    "    '개당수익' : [300,400,500,600,400,500,500,600,600,700,600,600]\n",
    "})\n",
    "df.head()"
   ]
  },
  {
   "cell_type": "code",
   "execution_count": 81,
   "id": "2ed1e3a3",
   "metadata": {},
   "outputs": [
    {
     "name": "stdout",
     "output_type": "stream",
     "text": [
      "48600\n"
     ]
    }
   ],
   "source": [
    "# (풀이)\n",
    "# 데이터 타입 datetime으로 변경\n",
    "df['날짜'] = pd.to_datetime(df['날짜'])\n",
    "\n",
    "# 년 변수(열) 추가하기\n",
    "df['year'] = df['날짜'].dt.year\n",
    "\n",
    "# 매출액 변수 추가하기\n",
    "df['매출액'] = df['판매수'] * df['개당수익']\n",
    "\n",
    "cond22 = df[df['year']==2022]\n",
    "cond23 = df[df['year']==2023]\n",
    "\n",
    "print(abs((cond22['매출액'].sum()) - (cond23['매출액'].sum())))"
   ]
  },
  {
   "cell_type": "code",
   "execution_count": 88,
   "id": "cf9b2f61",
   "metadata": {},
   "outputs": [
    {
     "data": {
      "text/html": [
       "<div>\n",
       "<style scoped>\n",
       "    .dataframe tbody tr th:only-of-type {\n",
       "        vertical-align: middle;\n",
       "    }\n",
       "\n",
       "    .dataframe tbody tr th {\n",
       "        vertical-align: top;\n",
       "    }\n",
       "\n",
       "    .dataframe thead th {\n",
       "        text-align: right;\n",
       "    }\n",
       "</style>\n",
       "<table border=\"1\" class=\"dataframe\">\n",
       "  <thead>\n",
       "    <tr style=\"text-align: right;\">\n",
       "      <th></th>\n",
       "      <th>날짜</th>\n",
       "      <th>제품</th>\n",
       "      <th>판매수</th>\n",
       "      <th>개당수익</th>\n",
       "    </tr>\n",
       "  </thead>\n",
       "  <tbody>\n",
       "    <tr>\n",
       "      <th>0</th>\n",
       "      <td>20220103</td>\n",
       "      <td>A</td>\n",
       "      <td>3</td>\n",
       "      <td>300</td>\n",
       "    </tr>\n",
       "    <tr>\n",
       "      <th>1</th>\n",
       "      <td>20220105</td>\n",
       "      <td>B</td>\n",
       "      <td>5</td>\n",
       "      <td>400</td>\n",
       "    </tr>\n",
       "    <tr>\n",
       "      <th>2</th>\n",
       "      <td>20230105</td>\n",
       "      <td>A</td>\n",
       "      <td>5</td>\n",
       "      <td>500</td>\n",
       "    </tr>\n",
       "    <tr>\n",
       "      <th>3</th>\n",
       "      <td>20230127</td>\n",
       "      <td>B</td>\n",
       "      <td>10</td>\n",
       "      <td>600</td>\n",
       "    </tr>\n",
       "    <tr>\n",
       "      <th>4</th>\n",
       "      <td>20220203</td>\n",
       "      <td>A</td>\n",
       "      <td>10</td>\n",
       "      <td>400</td>\n",
       "    </tr>\n",
       "  </tbody>\n",
       "</table>\n",
       "</div>"
      ],
      "text/plain": [
       "         날짜 제품  판매수  개당수익\n",
       "0  20220103  A    3   300\n",
       "1  20220105  B    5   400\n",
       "2  20230105  A    5   500\n",
       "3  20230127  B   10   600\n",
       "4  20220203  A   10   400"
      ]
     },
     "execution_count": 88,
     "metadata": {},
     "output_type": "execute_result"
    }
   ],
   "source": [
    "# 문제 23\n",
    "# 23년 총 매출액이 큰 제품의 23년 판매수를 구하시오\n",
    "# (매출액 = 판매수*개당수익)\n",
    "\n",
    "# 데이터 생성(수정금지)\n",
    "df = pd.DataFrame({\n",
    "    '날짜' : ['20220103','20220105','20230105','20230127','20220203','20220205',\n",
    "            '20230210','20230223','20230312','20230422','20220505','20230511'],\n",
    "    '제품' : ['A','B','A','B','A','B','A','B','A','B','A','A'],\n",
    "    '판매수' : [3,5,5,10,10,10,15,15,20,25,30,40],\n",
    "    '개당수익' : [300,400,500,600,400,500,500,600,600,700,600,600]\n",
    "})\n",
    "df.head()"
   ]
  },
  {
   "cell_type": "code",
   "execution_count": 94,
   "id": "6a1701fa",
   "metadata": {},
   "outputs": [
    {
     "name": "stdout",
     "output_type": "stream",
     "text": [
      "80\n"
     ]
    }
   ],
   "source": [
    "# 데이터 타입 datetime으로 변경\n",
    "df['날짜'] = pd.to_datetime(df['날짜'])\n",
    "\n",
    "# 년 변수(열) 추가하기\n",
    "df['year'] = df['날짜'].dt.year\n",
    "\n",
    "# 매출액 변수 추가하기\n",
    "df['매출액'] = df['판매수'] * df['개당수익']\n",
    "\n",
    "df = df[df['year']==2023]\n",
    "# df.head()\n",
    "\n",
    "# 23년 A 매출액과 B 매출액 별도로 구하기\n",
    "# A 매출액\n",
    "df_a = df[df['제품']=='A']\n",
    "a_sales = df_a['매출액'].sum()\n",
    "# print(a_sales) # 46000\n",
    "\n",
    "# B 매출액\n",
    "df_b = df[df['제품']=='B']\n",
    "b_sales = df_b['매출액'].sum()\n",
    "# print(b_sales) # 32500\n",
    "\n",
    "# A 제품의 23년 판매수\n",
    "a_sum = df_a['판매수'].sum()\n",
    "print(a_sum)"
   ]
  },
  {
   "cell_type": "code",
   "execution_count": 104,
   "id": "ed5fea02",
   "metadata": {},
   "outputs": [
    {
     "data": {
      "text/html": [
       "<div>\n",
       "<style scoped>\n",
       "    .dataframe tbody tr th:only-of-type {\n",
       "        vertical-align: middle;\n",
       "    }\n",
       "\n",
       "    .dataframe tbody tr th {\n",
       "        vertical-align: top;\n",
       "    }\n",
       "\n",
       "    .dataframe thead th {\n",
       "        text-align: right;\n",
       "    }\n",
       "</style>\n",
       "<table border=\"1\" class=\"dataframe\">\n",
       "  <thead>\n",
       "    <tr style=\"text-align: right;\">\n",
       "      <th></th>\n",
       "      <th>날짜</th>\n",
       "      <th>제품</th>\n",
       "      <th>판매수</th>\n",
       "      <th>개당수익</th>\n",
       "    </tr>\n",
       "  </thead>\n",
       "  <tbody>\n",
       "    <tr>\n",
       "      <th>0</th>\n",
       "      <td>20220103</td>\n",
       "      <td>A</td>\n",
       "      <td>3</td>\n",
       "      <td>300</td>\n",
       "    </tr>\n",
       "    <tr>\n",
       "      <th>1</th>\n",
       "      <td>20220105</td>\n",
       "      <td>B</td>\n",
       "      <td>5</td>\n",
       "      <td>400</td>\n",
       "    </tr>\n",
       "    <tr>\n",
       "      <th>2</th>\n",
       "      <td>20230105</td>\n",
       "      <td>A</td>\n",
       "      <td>5</td>\n",
       "      <td>500</td>\n",
       "    </tr>\n",
       "    <tr>\n",
       "      <th>3</th>\n",
       "      <td>20230127</td>\n",
       "      <td>B</td>\n",
       "      <td>10</td>\n",
       "      <td>600</td>\n",
       "    </tr>\n",
       "    <tr>\n",
       "      <th>4</th>\n",
       "      <td>20220203</td>\n",
       "      <td>A</td>\n",
       "      <td>10</td>\n",
       "      <td>400</td>\n",
       "    </tr>\n",
       "  </tbody>\n",
       "</table>\n",
       "</div>"
      ],
      "text/plain": [
       "         날짜 제품  판매수  개당수익\n",
       "0  20220103  A    3   300\n",
       "1  20220105  B    5   400\n",
       "2  20230105  A    5   500\n",
       "3  20230127  B   10   600\n",
       "4  20220203  A   10   400"
      ]
     },
     "execution_count": 104,
     "metadata": {},
     "output_type": "execute_result"
    }
   ],
   "source": [
    "# 문제 24\n",
    "# 매출액이 4천원 초과, 1만원 미만인 데이터 수를 출력하시오\n",
    "# (매출액 = 판매수*개당수익)\n",
    "\n",
    "# 데이터 생성(수정금지)\n",
    "df = pd.DataFrame({\n",
    "    '날짜' : ['20220103','20220105','20230105','20230127','20220203','20220205',\n",
    "            '20230210','20230223','20230312','20230422','20220505','20230511'],\n",
    "    '제품' : ['A','B','A','B','A','B','A','B','A','B','A','A'],\n",
    "    '판매수' : [3,5,5,10,10,10,15,15,20,25,30,40],\n",
    "    '개당수익' : [300,400,500,600,400,500,500,600,600,700,600,600]\n",
    "})\n",
    "df.head()"
   ]
  },
  {
   "cell_type": "code",
   "execution_count": 105,
   "id": "aa9ec22f",
   "metadata": {},
   "outputs": [
    {
     "name": "stdout",
     "output_type": "stream",
     "text": [
      "4\n"
     ]
    }
   ],
   "source": [
    "# (풀이)\n",
    "df['매출액'] = df['판매수'] * df['개당수익']\n",
    "cond1 = df['매출액']>4000\n",
    "cond2 = df['매출액']<10000\n",
    "\n",
    "df = df[cond1&cond2]\n",
    "print(len(df))"
   ]
  },
  {
   "cell_type": "code",
   "execution_count": 114,
   "id": "baec0da9",
   "metadata": {},
   "outputs": [
    {
     "data": {
      "text/html": [
       "<div>\n",
       "<style scoped>\n",
       "    .dataframe tbody tr th:only-of-type {\n",
       "        vertical-align: middle;\n",
       "    }\n",
       "\n",
       "    .dataframe tbody tr th {\n",
       "        vertical-align: top;\n",
       "    }\n",
       "\n",
       "    .dataframe thead th {\n",
       "        text-align: right;\n",
       "    }\n",
       "</style>\n",
       "<table border=\"1\" class=\"dataframe\">\n",
       "  <thead>\n",
       "    <tr style=\"text-align: right;\">\n",
       "      <th></th>\n",
       "      <th>time</th>\n",
       "      <th>물품</th>\n",
       "      <th>판매수</th>\n",
       "      <th>개당수익</th>\n",
       "    </tr>\n",
       "  </thead>\n",
       "  <tbody>\n",
       "    <tr>\n",
       "      <th>0</th>\n",
       "      <td>2023-09-24 12:25:00</td>\n",
       "      <td>A</td>\n",
       "      <td>5</td>\n",
       "      <td>500</td>\n",
       "    </tr>\n",
       "    <tr>\n",
       "      <th>1</th>\n",
       "      <td>2023-09-24 16:48:25</td>\n",
       "      <td>B</td>\n",
       "      <td>10</td>\n",
       "      <td>600</td>\n",
       "    </tr>\n",
       "    <tr>\n",
       "      <th>2</th>\n",
       "      <td>2023-09-24 21:11:50</td>\n",
       "      <td>A</td>\n",
       "      <td>15</td>\n",
       "      <td>500</td>\n",
       "    </tr>\n",
       "    <tr>\n",
       "      <th>3</th>\n",
       "      <td>2023-09-25 01:35:15</td>\n",
       "      <td>B</td>\n",
       "      <td>15</td>\n",
       "      <td>600</td>\n",
       "    </tr>\n",
       "    <tr>\n",
       "      <th>4</th>\n",
       "      <td>2023-09-25 05:58:40</td>\n",
       "      <td>A</td>\n",
       "      <td>20</td>\n",
       "      <td>600</td>\n",
       "    </tr>\n",
       "    <tr>\n",
       "      <th>5</th>\n",
       "      <td>2023-09-25 10:22:05</td>\n",
       "      <td>B</td>\n",
       "      <td>25</td>\n",
       "      <td>700</td>\n",
       "    </tr>\n",
       "    <tr>\n",
       "      <th>6</th>\n",
       "      <td>2023-09-25 14:45:30</td>\n",
       "      <td>A</td>\n",
       "      <td>40</td>\n",
       "      <td>600</td>\n",
       "    </tr>\n",
       "  </tbody>\n",
       "</table>\n",
       "</div>"
      ],
      "text/plain": [
       "                 time 물품  판매수  개당수익\n",
       "0 2023-09-24 12:25:00  A    5   500\n",
       "1 2023-09-24 16:48:25  B   10   600\n",
       "2 2023-09-24 21:11:50  A   15   500\n",
       "3 2023-09-25 01:35:15  B   15   600\n",
       "4 2023-09-25 05:58:40  A   20   600\n",
       "5 2023-09-25 10:22:05  B   25   700\n",
       "6 2023-09-25 14:45:30  A   40   600"
      ]
     },
     "execution_count": 114,
     "metadata": {},
     "output_type": "execute_result"
    }
   ],
   "source": [
    "# 문제 25\n",
    "# 23년 9월 24일 16:00~22:00 사이에 전체 제품의 판매수를 구하시오\n",
    "\n",
    "# 데이터 생성(수정금지)\n",
    "df = pd.DataFrame({\n",
    "    '물품' : ['A','B','A','B','A','B','A'],\n",
    "    '판매수' : [5,10,15,15,20,25,40],\n",
    "    '개당수익' : [500,600,500,600,600,700,600]})\n",
    "time = pd.date_range('2023-09-24 12:25:00','2023-09-25 14:45:30', periods=7)\n",
    "df['time'] = time\n",
    "df = df[['time', '물품', '판매수', '개당수익']]\n",
    "df"
   ]
  },
  {
   "cell_type": "code",
   "execution_count": 110,
   "id": "a332163a",
   "metadata": {},
   "outputs": [
    {
     "name": "stdout",
     "output_type": "stream",
     "text": [
      "25\n"
     ]
    }
   ],
   "source": [
    "# (풀이)\n",
    "# 컬럼과 인덱스에 둘다 time 변수를 놓고 풀이\n",
    "# 데이터 타입 datetime으로 변경 (항상 df.info()로 데이터 타입 확인할 것)\n",
    "df['time'] = pd.to_datetime(df['time'])\n",
    "\n",
    "# index 새로 지정\n",
    "df = df.set_index('time', drop=False) # default는 True\n",
    "\n",
    "# 9월 24일 필터링 // df['변수'].between( , )\n",
    "df_after = df[df['time'].between('2023-09-24', '2023-09-25')] # 25일은 미포함\n",
    "\n",
    "# 시간 필터링 16:00 ~ 22:00 (주의: 시간이 index에 위치해야 함)\n",
    "df = df_after.between_time(start_time='16:00', end_time='22:00') # 포함 기준\n",
    "\n",
    "# 전체 판매수 구하기\n",
    "print(df['판매수'].sum())\n"
   ]
  },
  {
   "cell_type": "code",
   "execution_count": 115,
   "id": "355d4c97",
   "metadata": {},
   "outputs": [
    {
     "name": "stdout",
     "output_type": "stream",
     "text": [
      "25\n"
     ]
    }
   ],
   "source": [
    "# (풀이2) // 위에 df 새로 불러와서 실행해보기\n",
    "# 데이터 타입 datetime으로 변경\n",
    "df['time'] = pd.to_datetime(df['time'])\n",
    "\n",
    "# index 새로 지정\n",
    "df = df.set_index('time')\n",
    "\n",
    "# loc 함수로 필터링\n",
    "df = df.loc[(df.index >= '2023-09-24 16:00:00') & (df.index <= '2023-09-24 22:00:00')]\n",
    "\n",
    "# 전체 판매수 구하기\n",
    "print(df['판매수'].sum())"
   ]
  },
  {
   "cell_type": "code",
   "execution_count": 120,
   "id": "8e9dcfdb",
   "metadata": {},
   "outputs": [
    {
     "data": {
      "text/html": [
       "<div>\n",
       "<style scoped>\n",
       "    .dataframe tbody tr th:only-of-type {\n",
       "        vertical-align: middle;\n",
       "    }\n",
       "\n",
       "    .dataframe tbody tr th {\n",
       "        vertical-align: top;\n",
       "    }\n",
       "\n",
       "    .dataframe thead th {\n",
       "        text-align: right;\n",
       "    }\n",
       "</style>\n",
       "<table border=\"1\" class=\"dataframe\">\n",
       "  <thead>\n",
       "    <tr style=\"text-align: right;\">\n",
       "      <th></th>\n",
       "      <th>물품</th>\n",
       "      <th>판매수</th>\n",
       "      <th>개당수익</th>\n",
       "    </tr>\n",
       "    <tr>\n",
       "      <th>time</th>\n",
       "      <th></th>\n",
       "      <th></th>\n",
       "      <th></th>\n",
       "    </tr>\n",
       "  </thead>\n",
       "  <tbody>\n",
       "    <tr>\n",
       "      <th>2023-09-24 12:25:00</th>\n",
       "      <td>A</td>\n",
       "      <td>5</td>\n",
       "      <td>500</td>\n",
       "    </tr>\n",
       "    <tr>\n",
       "      <th>2023-09-24 16:48:25</th>\n",
       "      <td>B</td>\n",
       "      <td>10</td>\n",
       "      <td>600</td>\n",
       "    </tr>\n",
       "    <tr>\n",
       "      <th>2023-09-24 21:11:50</th>\n",
       "      <td>A</td>\n",
       "      <td>15</td>\n",
       "      <td>500</td>\n",
       "    </tr>\n",
       "    <tr>\n",
       "      <th>2023-09-25 01:35:15</th>\n",
       "      <td>B</td>\n",
       "      <td>15</td>\n",
       "      <td>600</td>\n",
       "    </tr>\n",
       "    <tr>\n",
       "      <th>2023-09-25 05:58:40</th>\n",
       "      <td>A</td>\n",
       "      <td>20</td>\n",
       "      <td>600</td>\n",
       "    </tr>\n",
       "    <tr>\n",
       "      <th>2023-09-25 10:22:05</th>\n",
       "      <td>B</td>\n",
       "      <td>25</td>\n",
       "      <td>700</td>\n",
       "    </tr>\n",
       "    <tr>\n",
       "      <th>2023-09-25 14:45:30</th>\n",
       "      <td>A</td>\n",
       "      <td>40</td>\n",
       "      <td>600</td>\n",
       "    </tr>\n",
       "  </tbody>\n",
       "</table>\n",
       "</div>"
      ],
      "text/plain": [
       "                    물품  판매수  개당수익\n",
       "time                             \n",
       "2023-09-24 12:25:00  A    5   500\n",
       "2023-09-24 16:48:25  B   10   600\n",
       "2023-09-24 21:11:50  A   15   500\n",
       "2023-09-25 01:35:15  B   15   600\n",
       "2023-09-25 05:58:40  A   20   600\n",
       "2023-09-25 10:22:05  B   25   700\n",
       "2023-09-25 14:45:30  A   40   600"
      ]
     },
     "execution_count": 120,
     "metadata": {},
     "output_type": "execute_result"
    }
   ],
   "source": [
    "# 문제 26\n",
    "# 9월 25일 00:10~12:00까지의 B물품의 매출액 총합을 구하시오\n",
    "# (매출액 = 판매수*개당수익)\n",
    "\n",
    "# 데이터 생성(수정금지)\n",
    "df = pd.DataFrame({\n",
    "    '물품' : ['A','B','A','B','A','B','A'],\n",
    "    '판매수' : [5,10,15,15,20,25,40],\n",
    "    '개당수익' : [500,600,500,600,600,700,600]})\n",
    "df['time'] = pd.date_range('2023-09-24 12:25:00','2023-09-25 14:45:30', periods=7)\n",
    "df = df[['time', '물품', '판매수', '개당수익']]\n",
    "df = df.set_index('time',drop=True)\n",
    "df"
   ]
  },
  {
   "cell_type": "code",
   "execution_count": 122,
   "id": "6ef5aa9e",
   "metadata": {},
   "outputs": [
    {
     "name": "stdout",
     "output_type": "stream",
     "text": [
      "26500\n"
     ]
    },
    {
     "name": "stderr",
     "output_type": "stream",
     "text": [
      "C:\\Users\\Hyunsoo Kim\\AppData\\Local\\Temp\\ipykernel_2420\\1645811142.py:3: SettingWithCopyWarning: \n",
      "A value is trying to be set on a copy of a slice from a DataFrame.\n",
      "Try using .loc[row_indexer,col_indexer] = value instead\n",
      "\n",
      "See the caveats in the documentation: https://pandas.pydata.org/pandas-docs/stable/user_guide/indexing.html#returning-a-view-versus-a-copy\n",
      "  df['매출액'] = df['판매수'] * df['개당수익']\n"
     ]
    }
   ],
   "source": [
    "# (풀이)\n",
    "# 매출액 변수 추가\n",
    "df['매출액'] = df['판매수'] * df['개당수익']\n",
    "\n",
    "# loc 함수로 필터링\n",
    "df = df.loc[(df.index >= '2023-09-25 00:10:00') & (df.index <= '2023-09-25 12:00:00')]\n",
    "\n",
    "# B 물품의 매출액 총합\n",
    "cond1 = df[df['물품']=='B']\n",
    "print(cond1['매출액'].sum())"
   ]
  },
  {
   "cell_type": "code",
   "execution_count": 123,
   "id": "352aa860",
   "metadata": {},
   "outputs": [
    {
     "data": {
      "text/html": [
       "<div>\n",
       "<style scoped>\n",
       "    .dataframe tbody tr th:only-of-type {\n",
       "        vertical-align: middle;\n",
       "    }\n",
       "\n",
       "    .dataframe tbody tr th {\n",
       "        vertical-align: top;\n",
       "    }\n",
       "\n",
       "    .dataframe thead th {\n",
       "        text-align: right;\n",
       "    }\n",
       "</style>\n",
       "<table border=\"1\" class=\"dataframe\">\n",
       "  <thead>\n",
       "    <tr style=\"text-align: right;\">\n",
       "      <th></th>\n",
       "      <th>물품</th>\n",
       "      <th>판매수</th>\n",
       "      <th>개당수익</th>\n",
       "    </tr>\n",
       "    <tr>\n",
       "      <th>time</th>\n",
       "      <th></th>\n",
       "      <th></th>\n",
       "      <th></th>\n",
       "    </tr>\n",
       "  </thead>\n",
       "  <tbody>\n",
       "    <tr>\n",
       "      <th>2023-09-24 12:25:00</th>\n",
       "      <td>A</td>\n",
       "      <td>5</td>\n",
       "      <td>500</td>\n",
       "    </tr>\n",
       "    <tr>\n",
       "      <th>2023-09-24 16:48:25</th>\n",
       "      <td>B</td>\n",
       "      <td>10</td>\n",
       "      <td>600</td>\n",
       "    </tr>\n",
       "    <tr>\n",
       "      <th>2023-09-24 21:11:50</th>\n",
       "      <td>A</td>\n",
       "      <td>15</td>\n",
       "      <td>500</td>\n",
       "    </tr>\n",
       "    <tr>\n",
       "      <th>2023-09-25 01:35:15</th>\n",
       "      <td>B</td>\n",
       "      <td>15</td>\n",
       "      <td>600</td>\n",
       "    </tr>\n",
       "    <tr>\n",
       "      <th>2023-09-25 05:58:40</th>\n",
       "      <td>A</td>\n",
       "      <td>20</td>\n",
       "      <td>600</td>\n",
       "    </tr>\n",
       "    <tr>\n",
       "      <th>2023-09-25 10:22:05</th>\n",
       "      <td>B</td>\n",
       "      <td>25</td>\n",
       "      <td>700</td>\n",
       "    </tr>\n",
       "    <tr>\n",
       "      <th>2023-09-25 14:45:30</th>\n",
       "      <td>A</td>\n",
       "      <td>40</td>\n",
       "      <td>600</td>\n",
       "    </tr>\n",
       "  </tbody>\n",
       "</table>\n",
       "</div>"
      ],
      "text/plain": [
       "                    물품  판매수  개당수익\n",
       "time                             \n",
       "2023-09-24 12:25:00  A    5   500\n",
       "2023-09-24 16:48:25  B   10   600\n",
       "2023-09-24 21:11:50  A   15   500\n",
       "2023-09-25 01:35:15  B   15   600\n",
       "2023-09-25 05:58:40  A   20   600\n",
       "2023-09-25 10:22:05  B   25   700\n",
       "2023-09-25 14:45:30  A   40   600"
      ]
     },
     "execution_count": 123,
     "metadata": {},
     "output_type": "execute_result"
    }
   ],
   "source": [
    "# 문제 27\n",
    "# 9월 24일 12:00~24:00까지의 A물품의 매출액 총합을 구하시오\n",
    "# (매출액 = 판매수*개당수익)\n",
    "\n",
    "# 데이터 생성(수정금지)\n",
    "df = pd.DataFrame({\n",
    "    '물품' : ['A','B','A','B','A','B','A'],\n",
    "    '판매수' : [5,10,15,15,20,25,40],\n",
    "    '개당수익' : [500,600,500,600,600,700,600]})\n",
    "df['time'] = pd.date_range('2023-09-24 12:25:00','2023-09-25 14:45:30', periods=7)\n",
    "df = df[['time', '물품', '판매수', '개당수익']]\n",
    "df = df.set_index('time',drop=True)\n",
    "df"
   ]
  },
  {
   "cell_type": "code",
   "execution_count": 125,
   "id": "9edb152b",
   "metadata": {},
   "outputs": [
    {
     "name": "stdout",
     "output_type": "stream",
     "text": [
      "10000\n"
     ]
    }
   ],
   "source": [
    "# (풀이)\n",
    "# 매출액 변수 추가\n",
    "df['매출액'] = df['판매수'] * df['개당수익']\n",
    "\n",
    "# loc 함수로 필터링\n",
    "df = df.loc[(df.index >= '2023-09-24 12:00:00') & (df.index < '2023-09-25 00:00:00')]\n",
    "\n",
    "# A 물품의 매출액 총합\n",
    "cond1 = df[df['물품']=='A']\n",
    "print(cond1['매출액'].sum())"
   ]
  }
 ],
 "metadata": {
  "kernelspec": {
   "display_name": "Python 3 (ipykernel)",
   "language": "python",
   "name": "python3"
  },
  "language_info": {
   "codemirror_mode": {
    "name": "ipython",
    "version": 3
   },
   "file_extension": ".py",
   "mimetype": "text/x-python",
   "name": "python",
   "nbconvert_exporter": "python",
   "pygments_lexer": "ipython3",
   "version": "3.9.13"
  }
 },
 "nbformat": 4,
 "nbformat_minor": 5
}
