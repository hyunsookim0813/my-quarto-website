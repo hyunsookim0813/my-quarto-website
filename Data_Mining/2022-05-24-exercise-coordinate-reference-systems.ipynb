{
 "cells": [
  {
   "cell_type": "markdown",
   "metadata": {},
   "source": [
    "---\n",
    "title: 'Coordinate Refrence Systems'\n",
    "author: 'Hyunsoo Kim'\n",
    "date: '2022-05-24'\n",
    "categories: [Python, Pandas, Geopandas]\n",
    "image: geopandas.png\n",
    "jupyter: python3\n",
    "page-layout: full\n",
    "---\n",
    "\n",
    "> Coordinate Reference Systems"
   ]
  },
  {
   "cell_type": "markdown",
   "metadata": {},
   "source": [
    "**This notebook is an exercise in the [Geospatial Analysis](https://www.kaggle.com/learn/geospatial-analysis) course.  You can reference the tutorial at [this link](https://www.kaggle.com/alexisbcook/coordinate-reference-systems).**\n",
    "\n",
    "---\n"
   ]
  },
  {
   "cell_type": "code",
   "execution_count": 2,
   "metadata": {
    "execution": {
     "iopub.execute_input": "2022-05-24T07:33:41.541758Z",
     "iopub.status.busy": "2022-05-24T07:33:41.541166Z",
     "iopub.status.idle": "2022-05-24T07:34:01.965719Z",
     "shell.execute_reply": "2022-05-24T07:34:01.964807Z",
     "shell.execute_reply.started": "2022-05-24T07:33:41.541720Z"
    }
   },
   "outputs": [],
   "source": [
    "import pandas as pd\n",
    "import geopandas as gpd\n",
    "\n",
    "from shapely.geometry import LineString\n",
    "\n",
    "from learntools.core import binder\n",
    "binder.bind(globals())\n",
    "from learntools.geospatial.ex2 import *"
   ]
  },
  {
   "cell_type": "markdown",
   "metadata": {},
   "source": [
    "# Exercises\n",
    "\n",
    "### 1) Load the data.\n",
    "\n",
    "Run the next code cell (without changes) to load the GPS data into a pandas DataFrame `birds_df`.  \n",
    "\n",
    "다음 코드 셀(변경 없이)을 실행하여 GPS 데이터를 pandas DataFrame `birds_df`에 로드합니다."
   ]
  },
  {
   "cell_type": "code",
   "execution_count": 3,
   "metadata": {
    "execution": {
     "iopub.execute_input": "2022-05-24T07:34:05.914439Z",
     "iopub.status.busy": "2022-05-24T07:34:05.912172Z",
     "iopub.status.idle": "2022-05-24T07:34:05.957435Z",
     "shell.execute_reply": "2022-05-24T07:34:05.956580Z",
     "shell.execute_reply.started": "2022-05-24T07:34:05.914332Z"
    }
   },
   "outputs": [],
   "source": [
    "# Load the data and print the first 5 rows\n",
    "birds_df = pd.read_csv(\"../input/geospatial-learn-course-data/purple_martin.csv\", parse_dates=['timestamp'])\n",
    "print(\"There are {} different birds in the dataset.\".format(birds_df[\"tag-local-identifier\"].nunique()))\n",
    "birds_df.head()"
   ]
  },
  {
   "cell_type": "markdown",
   "metadata": {},
   "source": [
    "There are 11 birds in the dataset, where each bird is identified by a unique value in the \"tag-local-identifier\" column.  Each bird has several measurements, collected at different times of the year.\n",
    "\n",
    "Use the next code cell to create a GeoDataFrame `birds`.  \n",
    "- `birds` should have all of the columns from `birds_df`, along with a \"geometry\" column that contains Point objects with (longitude, latitude) locations.  \n",
    "-`birds`에는 `birds_df`의 모든 열과 함께 (경도, 위도) 위치가 있는 Point 개체가 포함된 \"geometry\" 열이 있어야 합니다.\n",
    "- Set the CRS of `birds` to `{'init': 'epsg:4326'}`."
   ]
  },
  {
   "cell_type": "code",
   "execution_count": 4,
   "metadata": {
    "execution": {
     "iopub.execute_input": "2022-05-24T07:34:09.793572Z",
     "iopub.status.busy": "2022-05-24T07:34:09.792788Z",
     "iopub.status.idle": "2022-05-24T07:34:09.831893Z",
     "shell.execute_reply": "2022-05-24T07:34:09.831341Z",
     "shell.execute_reply.started": "2022-05-24T07:34:09.793527Z"
    }
   },
   "outputs": [],
   "source": [
    "# Your code here: Create the GeoDataFrame\n",
    "birds = gpd.GeoDataFrame(birds_df, geometry=gpd.points_from_xy(birds_df[\"location-long\"], birds_df[\"location-lat\"]))\n",
    "\n",
    "# Your code here: Set the CRS to {'init': 'epsg:4326'}\n",
    "birds.crs = {'init' :'epsg:4326'}\n",
    "\n",
    "# Check your answer\n",
    "q_1.check()"
   ]
  },
  {
   "cell_type": "code",
   "execution_count": 5,
   "metadata": {
    "execution": {
     "iopub.execute_input": "2022-05-24T07:34:12.480736Z",
     "iopub.status.busy": "2022-05-24T07:34:12.479984Z",
     "iopub.status.idle": "2022-05-24T07:34:12.483641Z",
     "shell.execute_reply": "2022-05-24T07:34:12.482830Z",
     "shell.execute_reply.started": "2022-05-24T07:34:12.480691Z"
    }
   },
   "outputs": [],
   "source": [
    "# Lines below will give you a hint or solution code\n",
    "#q_1.hint()\n",
    "#q_1.solution()"
   ]
  },
  {
   "cell_type": "markdown",
   "metadata": {},
   "source": [
    "### 2) Plot the data.\n",
    "\n",
    "Next, we load in the `'naturalearth_lowres'` dataset from GeoPandas, and set `americas` to a GeoDataFrame containing the boundaries of all countries in the Americas (both North and South America).  Run the next code cell without changes.\n",
    "\n",
    "다음으로 GeoPandas에서 `naturalearth_lowres` 데이터 세트를 로드하고 `americas`를 미주(북미와 남미 모두)의 모든 국가 경계를 포함하는 GeoDataFrame으로 설정합니다. 변경 없이 다음 코드 셀을 실행합니다."
   ]
  },
  {
   "cell_type": "code",
   "execution_count": 6,
   "metadata": {
    "execution": {
     "iopub.execute_input": "2022-05-24T07:34:15.070732Z",
     "iopub.status.busy": "2022-05-24T07:34:15.070195Z",
     "iopub.status.idle": "2022-05-24T07:34:15.174896Z",
     "shell.execute_reply": "2022-05-24T07:34:15.174070Z",
     "shell.execute_reply.started": "2022-05-24T07:34:15.070691Z"
    }
   },
   "outputs": [],
   "source": [
    "# Load a GeoDataFrame with country boundaries in North/South America, print the first 5 rows\n",
    "world = gpd.read_file(gpd.datasets.get_path('naturalearth_lowres'))\n",
    "americas = world.loc[world['continent'].isin(['North America', 'South America'])]\n",
    "americas.head()"
   ]
  },
  {
   "cell_type": "markdown",
   "metadata": {},
   "source": [
    "Use the next code cell to create a single plot that shows both: (1) the country boundaries in the `americas` GeoDataFrame, and (2) all of the points in the `birds_gdf` GeoDataFrame.  \n",
    "\n",
    "다음 코드 셀을 사용하여 (1) `americas` GeoDataFrame의 국가 경계와 (2) `birds_gdf` GeoDataFrame의 모든 점을 모두 표시하는 단일 플롯을 만듭니다.\n",
    "\n",
    "Don't worry about any special styling here; just create a preliminary plot, as a quick sanity check that all of the data was loaded properly.  In particular, you don't have to worry about color-coding the points to differentiate between birds, and you don't have to differentiate starting points from ending points.  We'll do that in the next part of the exercise."
   ]
  },
  {
   "cell_type": "code",
   "execution_count": 16,
   "metadata": {
    "execution": {
     "iopub.execute_input": "2022-05-24T07:36:42.932134Z",
     "iopub.status.busy": "2022-05-24T07:36:42.931879Z",
     "iopub.status.idle": "2022-05-24T07:36:43.220904Z",
     "shell.execute_reply": "2022-05-24T07:36:43.220090Z",
     "shell.execute_reply.started": "2022-05-24T07:36:42.932107Z"
    }
   },
   "outputs": [],
   "source": [
    "# Your code here\n",
    "ax = americas.plot(figsize=(8,8), color='red', linestyle=':', edgecolor='black')\n",
    "americas.plot(markersize=1, ax=ax)\n",
    "# Uncomment to see a hint\n",
    "#q_2.hint()"
   ]
  },
  {
   "cell_type": "code",
   "execution_count": 17,
   "metadata": {
    "execution": {
     "iopub.execute_input": "2022-05-24T07:36:51.513602Z",
     "iopub.status.busy": "2022-05-24T07:36:51.513281Z",
     "iopub.status.idle": "2022-05-24T07:36:51.520787Z",
     "shell.execute_reply": "2022-05-24T07:36:51.519779Z",
     "shell.execute_reply.started": "2022-05-24T07:36:51.513568Z"
    }
   },
   "outputs": [],
   "source": [
    "# Get credit for your work after you have created a map\n",
    "q_2.check()\n",
    "\n",
    "# Uncomment to see our solution (your code may look different!)\n",
    "#q_2.solution()"
   ]
  },
  {
   "cell_type": "markdown",
   "metadata": {},
   "source": [
    "### 3) Where does each bird start and end its journey? (Part 1)\n",
    "\n",
    "Now, we're ready to look more closely at each bird's path.  Run the next code cell to create two GeoDataFrames:\n",
    "- `path_gdf` contains LineString objects that show the path of each bird.  It uses the `LineString()` method to create a LineString object from a list of Point objects.\n",
    "- `path_gdf`에는 각 새의 경로를 표시하는 LineString 개체가 포함되어 있습니다. `LineString()` 메서드를 사용하여 Point 개체 목록에서 LineString 개체를 만듭니다.\n",
    "- `start_gdf` contains the starting points for each bird.\n",
    "- `start_gdf`는 각 새의 시작 지점을 포함합니다."
   ]
  },
  {
   "cell_type": "code",
   "execution_count": 18,
   "metadata": {
    "execution": {
     "iopub.execute_input": "2022-05-24T07:38:07.572573Z",
     "iopub.status.busy": "2022-05-24T07:38:07.572151Z",
     "iopub.status.idle": "2022-05-24T07:38:07.653034Z",
     "shell.execute_reply": "2022-05-24T07:38:07.651991Z",
     "shell.execute_reply.started": "2022-05-24T07:38:07.572528Z"
    }
   },
   "outputs": [],
   "source": [
    "# GeoDataFrame showing path for each bird\n",
    "path_df = birds.groupby(\"tag-local-identifier\")['geometry'].apply(list).apply(lambda x: LineString(x)).reset_index()\n",
    "path_gdf = gpd.GeoDataFrame(path_df, geometry=path_df.geometry)\n",
    "path_gdf.crs = {'init' :'epsg:4326'}\n",
    "\n",
    "# GeoDataFrame showing starting point for each bird\n",
    "start_df = birds.groupby(\"tag-local-identifier\")['geometry'].apply(list).apply(lambda x: x[0]).reset_index()\n",
    "start_gdf = gpd.GeoDataFrame(start_df, geometry=start_df.geometry)\n",
    "start_gdf.crs = {'init' :'epsg:4326'}\n",
    "\n",
    "# Show first five rows of GeoDataFrame\n",
    "start_gdf.head()"
   ]
  },
  {
   "cell_type": "markdown",
   "metadata": {},
   "source": [
    "Use the next code cell to create a GeoDataFrame `end_gdf` containing the final location of each bird.  \n",
    "- The format should be identical to that of `start_gdf`, with two columns (\"tag-local-identifier\" and \"geometry\"), where the \"geometry\" column contains Point objects.\n",
    "- 형식은 두 개의 열(\"tag-local-identifier\" 및 \"geometry\")이 있는 `start_gdf'의 형식과 동일해야 합니다. 여기서 \"geometry\" 열은 Point 개체를 포함합니다.\n",
    "- Set the CRS of `end_gdf` to `{'init': 'epsg:4326'}`.\n",
    "- `end_gdf`의 CRS를 `{'init': 'epsg:4326'}`으로 설정합니다."
   ]
  },
  {
   "cell_type": "code",
   "execution_count": 24,
   "metadata": {
    "execution": {
     "iopub.execute_input": "2022-05-24T07:42:39.848216Z",
     "iopub.status.busy": "2022-05-24T07:42:39.847932Z",
     "iopub.status.idle": "2022-05-24T07:42:39.895567Z",
     "shell.execute_reply": "2022-05-24T07:42:39.894733Z",
     "shell.execute_reply.started": "2022-05-24T07:42:39.848183Z"
    }
   },
   "outputs": [],
   "source": [
    "# Your code here\n",
    "end_df = birds.groupby(\"tag-local-identifier\")['geometry'].apply(list).apply(lambda x: x[-1]).reset_index()\n",
    "end_gdf = gpd.GeoDataFrame(end_df, geometry=end_df.geometry)\n",
    "end_gdf.crs = {'init' :'epsg:4326'}\n",
    "\n",
    "# Check your answer\n",
    "q_3.check()"
   ]
  },
  {
   "cell_type": "code",
   "execution_count": 25,
   "metadata": {
    "execution": {
     "iopub.execute_input": "2022-05-24T07:42:48.403651Z",
     "iopub.status.busy": "2022-05-24T07:42:48.403150Z",
     "iopub.status.idle": "2022-05-24T07:42:48.406254Z",
     "shell.execute_reply": "2022-05-24T07:42:48.405758Z",
     "shell.execute_reply.started": "2022-05-24T07:42:48.403601Z"
    }
   },
   "outputs": [],
   "source": [
    "# Lines below will give you a hint or solution code\n",
    "#q_3.hint()\n",
    "#q_3.solution()"
   ]
  },
  {
   "cell_type": "markdown",
   "metadata": {},
   "source": [
    "### 4) Where does each bird start and end its journey? (Part 2)\n",
    "\n",
    "Use the GeoDataFrames from the question above (`path_gdf`, `start_gdf`, and `end_gdf`) to visualize the paths of all birds on a single map.  You may also want to use the `americas` GeoDataFrame.\n",
    "\n",
    "위 질문의 GeoDataFrames(`path_gdf`, `start_gdf`, `end_gdf`)를 사용하여 단일 지도에서 모든 새의 경로를 시각화하세요. `americas` GeoDataFrame을 사용할 수도 있습니다."
   ]
  },
  {
   "cell_type": "code",
   "execution_count": 27,
   "metadata": {
    "execution": {
     "iopub.execute_input": "2022-05-24T07:44:41.946323Z",
     "iopub.status.busy": "2022-05-24T07:44:41.946018Z",
     "iopub.status.idle": "2022-05-24T07:44:42.323682Z",
     "shell.execute_reply": "2022-05-24T07:44:42.322965Z",
     "shell.execute_reply.started": "2022-05-24T07:44:41.946288Z"
    }
   },
   "outputs": [],
   "source": [
    "# Your code here\n",
    "ax = americas.plot(figsize=(10,10), color='none', edgecolor='gainsboro', zorder=3)\n",
    "\n",
    "# Add wild lands, campsites, and foot trails to the base map\n",
    "start_gdf.plot(color='lightgreen', ax=ax)\n",
    "path_gdf.plot(color='maroon', markersize=2, ax=ax)\n",
    "end_gdf.plot(color='black', markersize=1, ax=ax) \n",
    "\n",
    "# Uncomment to see a hint\n",
    "#q_4.hint()"
   ]
  },
  {
   "cell_type": "code",
   "execution_count": 28,
   "metadata": {
    "execution": {
     "iopub.execute_input": "2022-05-24T07:44:50.419652Z",
     "iopub.status.busy": "2022-05-24T07:44:50.419027Z",
     "iopub.status.idle": "2022-05-24T07:44:50.426238Z",
     "shell.execute_reply": "2022-05-24T07:44:50.425417Z",
     "shell.execute_reply.started": "2022-05-24T07:44:50.419612Z"
    }
   },
   "outputs": [],
   "source": [
    "# Get credit for your work after you have created a map\n",
    "q_4.check()\n",
    "\n",
    "# Uncomment to see our solution (your code may look different!)\n",
    "#q_4.solution()"
   ]
  },
  {
   "cell_type": "markdown",
   "metadata": {},
   "source": [
    "### 5) Where are the protected areas in South America? (Part 1)\n",
    "\n",
    "It looks like all of the birds end up somewhere in South America.  But are they going to protected areas?\n",
    "\n",
    "In the next code cell, you'll create a GeoDataFrame `protected_areas` containing the locations of all of the protected areas in South America.  The corresponding shapefile is located at filepath `protected_filepath`.\n",
    "\n",
    "다음 코드 셀에서는 남미의 모든 보호 지역 위치를 포함하는 GeoDataFrame `protected_areas`를 생성합니다. 해당 shapefile은 파일 경로 `protected_filepath`에 있습니다."
   ]
  },
  {
   "cell_type": "code",
   "execution_count": 30,
   "metadata": {
    "execution": {
     "iopub.execute_input": "2022-05-24T07:45:47.350679Z",
     "iopub.status.busy": "2022-05-24T07:45:47.350111Z",
     "iopub.status.idle": "2022-05-24T07:46:24.943514Z",
     "shell.execute_reply": "2022-05-24T07:46:24.942823Z",
     "shell.execute_reply.started": "2022-05-24T07:45:47.350645Z"
    }
   },
   "outputs": [],
   "source": [
    "# Path of the shapefile to load\n",
    "protected_filepath = \"../input/geospatial-learn-course-data/SAPA_Aug2019-shapefile/SAPA_Aug2019-shapefile/SAPA_Aug2019-shapefile-polygons.shp\"\n",
    "\n",
    "# Your code here\n",
    "protected_areas = gpd.read_file(protected_filepath)\n",
    "\n",
    "# Check your answer\n",
    "q_5.check()"
   ]
  },
  {
   "cell_type": "code",
   "execution_count": 31,
   "metadata": {
    "execution": {
     "iopub.execute_input": "2022-05-24T07:46:24.945297Z",
     "iopub.status.busy": "2022-05-24T07:46:24.945095Z",
     "iopub.status.idle": "2022-05-24T07:46:24.949187Z",
     "shell.execute_reply": "2022-05-24T07:46:24.948333Z",
     "shell.execute_reply.started": "2022-05-24T07:46:24.945271Z"
    }
   },
   "outputs": [],
   "source": [
    "# Lines below will give you a hint or solution code\n",
    "#q_5.hint()\n",
    "#q_5.solution()"
   ]
  },
  {
   "cell_type": "markdown",
   "metadata": {},
   "source": [
    "### 6) Where are the protected areas in South America? (Part 2)\n",
    "\n",
    "Create a plot that uses the `protected_areas` GeoDataFrame to show the locations of the protected areas in South America.  (_You'll notice that some protected areas are on land, while others are in marine waters._)\n",
    "\n",
    "'protected_areas' GeoDataFrame을 사용하여 남아메리카의 보호 지역 위치를 표시하는 플롯을 만듭니다. (_일부 보호 구역은 육지에 있고 다른 보호 구역은 바다에 있음을 알 수 있습니다._)"
   ]
  },
  {
   "cell_type": "code",
   "execution_count": 38,
   "metadata": {
    "execution": {
     "iopub.execute_input": "2022-05-24T08:02:29.243985Z",
     "iopub.status.busy": "2022-05-24T08:02:29.243567Z",
     "iopub.status.idle": "2022-05-24T08:02:43.890210Z",
     "shell.execute_reply": "2022-05-24T08:02:43.889636Z",
     "shell.execute_reply.started": "2022-05-24T08:02:29.243952Z"
    }
   },
   "outputs": [],
   "source": [
    "# Country boundaries in South America\n",
    "south_america = americas.loc[americas['continent']=='South America']\n",
    "\n",
    "# Your code here: plot protected areas in South America\n",
    "ax = south_america.plot(figsize=(8,8), color='whitesmoke', edgecolor='black')\n",
    "protected_areas.plot(markersize=1, ax=ax,alpha=0.4)\n",
    "\n",
    "# Uncomment to see a hint\n",
    "#q_6.hint()"
   ]
  },
  {
   "cell_type": "code",
   "execution_count": 36,
   "metadata": {
    "execution": {
     "iopub.execute_input": "2022-05-24T08:01:49.638998Z",
     "iopub.status.busy": "2022-05-24T08:01:49.638229Z",
     "iopub.status.idle": "2022-05-24T08:01:49.646201Z",
     "shell.execute_reply": "2022-05-24T08:01:49.645674Z",
     "shell.execute_reply.started": "2022-05-24T08:01:49.638944Z"
    }
   },
   "outputs": [],
   "source": [
    "# Get credit for your work after you have created a map\n",
    "q_6.check()\n",
    "\n",
    "# Uncomment to see our solution (your code may look different!)\n",
    "#q_6.solution()"
   ]
  },
  {
   "cell_type": "markdown",
   "metadata": {},
   "source": [
    "### 7) What percentage of South America is protected?\n",
    "\n",
    "You're interested in determining what percentage of South America is protected, so that you know how much of South America is suitable for the birds.  \n",
    "\n",
    "As a first step, you calculate the total area of all protected lands in South America (not including marine area).  To do this, you use the \"REP_AREA\" and \"REP_M_AREA\" columns, which contain the total area and total marine area, respectively, in square kilometers.\n",
    "\n",
    "Run the code cell below without changes."
   ]
  },
  {
   "cell_type": "code",
   "execution_count": 39,
   "metadata": {
    "execution": {
     "iopub.execute_input": "2022-05-24T08:03:16.600075Z",
     "iopub.status.busy": "2022-05-24T08:03:16.599317Z",
     "iopub.status.idle": "2022-05-24T08:03:16.606779Z",
     "shell.execute_reply": "2022-05-24T08:03:16.605956Z",
     "shell.execute_reply.started": "2022-05-24T08:03:16.600025Z"
    }
   },
   "outputs": [],
   "source": [
    "P_Area = sum(protected_areas['REP_AREA']-protected_areas['REP_M_AREA'])\n",
    "print(\"South America has {} square kilometers of protected areas.\".format(P_Area))"
   ]
  },
  {
   "cell_type": "markdown",
   "metadata": {},
   "source": [
    "Then, to finish the calculation, you'll use the `south_america` GeoDataFrame.  "
   ]
  },
  {
   "cell_type": "code",
   "execution_count": 40,
   "metadata": {
    "execution": {
     "iopub.execute_input": "2022-05-24T08:03:18.580913Z",
     "iopub.status.busy": "2022-05-24T08:03:18.580228Z",
     "iopub.status.idle": "2022-05-24T08:03:18.601145Z",
     "shell.execute_reply": "2022-05-24T08:03:18.600355Z",
     "shell.execute_reply.started": "2022-05-24T08:03:18.580872Z"
    }
   },
   "outputs": [],
   "source": [
    "south_america.head()"
   ]
  },
  {
   "cell_type": "markdown",
   "metadata": {},
   "source": [
    "Calculate the total area of South America by following these steps:\n",
    "- Calculate the area of each country using the `area` attribute of each polygon (with EPSG 3035 as the CRS), and add up the results.  The calculated area will be in units of square meters.\n",
    "- 각 폴리곤(CRS로 EPSG 3035 사용)의 'area' 속성을 사용하여 각 국가의 면적을 계산하고 결과를 합산합니다. 계산된 면적은 평방 미터 단위입니다.\n",
    "- Convert your answer to have units of square kilometeters.\n",
    "- 평방 킬로미터 단위가 되도록 답을 변환하십시오."
   ]
  },
  {
   "cell_type": "code",
   "execution_count": 51,
   "metadata": {
    "execution": {
     "iopub.execute_input": "2022-05-24T08:06:51.308501Z",
     "iopub.status.busy": "2022-05-24T08:06:51.308194Z",
     "iopub.status.idle": "2022-05-24T08:06:51.398027Z",
     "shell.execute_reply": "2022-05-24T08:06:51.397139Z",
     "shell.execute_reply.started": "2022-05-24T08:06:51.308459Z"
    }
   },
   "outputs": [],
   "source": [
    "# Your code here: Calculate the total area of South America (in square kilometers)\n",
    "totalArea = sum(south_america.geometry.to_crs(epsg=3035).area)/10**6\n",
    "totalArea \n",
    "# Check your answer\n",
    "q_7.check()"
   ]
  },
  {
   "cell_type": "code",
   "execution_count": 52,
   "metadata": {
    "execution": {
     "iopub.execute_input": "2022-05-24T08:07:17.229603Z",
     "iopub.status.busy": "2022-05-24T08:07:17.229289Z",
     "iopub.status.idle": "2022-05-24T08:07:17.233487Z",
     "shell.execute_reply": "2022-05-24T08:07:17.232682Z",
     "shell.execute_reply.started": "2022-05-24T08:07:17.229569Z"
    }
   },
   "outputs": [],
   "source": [
    "# Lines below will give you a hint or solution code\n",
    "#q_7.hint()\n",
    "#q_7.solution()"
   ]
  },
  {
   "cell_type": "markdown",
   "metadata": {},
   "source": [
    "Run the code cell below to calculate the percentage of South America that is protected."
   ]
  },
  {
   "cell_type": "code",
   "execution_count": null,
   "metadata": {},
   "outputs": [],
   "source": [
    "# What percentage of South America is protected?\n",
    "percentage_protected = P_Area/totalArea\n",
    "print('Approximately {}% of South America is protected.'.format(round(percentage_protected*100, 2)))"
   ]
  },
  {
   "cell_type": "markdown",
   "metadata": {},
   "source": [
    "### 8) Where are the birds in South America?\n",
    "\n",
    "So, are the birds in protected areas?  \n",
    "\n",
    "그렇다면 새들은 보호 구역에 있습니까?\n",
    "\n",
    "Create a plot that shows for all birds, all of the locations where they were discovered in South America.  Also plot the locations of all protected areas in South America.\n",
    "\n",
    "모든 새, 남미에서 발견된 모든 위치를 보여주는 플롯을 만듭니다. 또한 남아메리카의 모든 보호 지역의 위치를 ​​표시합니다.\n",
    "\n",
    "To exclude protected areas that are purely marine areas (with no land component), you can use the \"MARINE\" column (and plot only the rows in `protected_areas[protected_areas['MARINE']!='2']`, instead of every row in the `protected_areas` GeoDataFrame).\n",
    "\n",
    "순수한 해양 지역(토지 구성요소 없음)인 보호 지역을 제외하려면 \"MARINE\" 열을 사용할 수 있습니다(그리고 `protected_areas[protected_areas['MARINE']!='2']` `protected_areas` GeoDataFrame의 모든 행)."
   ]
  },
  {
   "cell_type": "code",
   "execution_count": 56,
   "metadata": {
    "execution": {
     "iopub.execute_input": "2022-05-24T08:11:51.239888Z",
     "iopub.status.busy": "2022-05-24T08:11:51.239470Z",
     "iopub.status.idle": "2022-05-24T08:12:04.072876Z",
     "shell.execute_reply": "2022-05-24T08:12:04.071886Z",
     "shell.execute_reply.started": "2022-05-24T08:11:51.239858Z"
    }
   },
   "outputs": [],
   "source": [
    "# Your code here\n",
    "ax = south_america.plot(figsize=(8,8), color='whitesmoke', edgecolor='black')\n",
    "protected_areas[protected_areas['MARINE']!='2'].plot(ax=ax, alpha=0.4, zorder=1)\n",
    "birds[birds.geometry.y < 0].plot(ax=ax, color='red', alpha=0.6, markersize=10, zorder=2)\n",
    "\n",
    "# Uncomment to see a hint\n",
    "#q_8.hint()"
   ]
  },
  {
   "cell_type": "code",
   "execution_count": 57,
   "metadata": {
    "execution": {
     "iopub.execute_input": "2022-05-24T08:12:06.902477Z",
     "iopub.status.busy": "2022-05-24T08:12:06.902152Z",
     "iopub.status.idle": "2022-05-24T08:12:06.909625Z",
     "shell.execute_reply": "2022-05-24T08:12:06.908791Z",
     "shell.execute_reply.started": "2022-05-24T08:12:06.902442Z"
    }
   },
   "outputs": [],
   "source": [
    "# Get credit for your work after you have created a map\n",
    "q_8.check()\n",
    "\n",
    "# Uncomment to see our solution (your code may look different!)\n",
    "#q_8.solution()"
   ]
  },
  {
   "cell_type": "markdown",
   "metadata": {},
   "source": [
    "# Keep going\n",
    "\n",
    "Create stunning **[interactive maps](https://www.kaggle.com/alexisbcook/interactive-maps)** with your geospatial data."
   ]
  },
  {
   "cell_type": "markdown",
   "metadata": {},
   "source": [
    "---\n",
    "\n",
    "\n",
    "\n",
    "\n",
    "*Have questions or comments? Visit the [course discussion forum](https://www.kaggle.com/learn/geospatial-analysis/discussion) to chat with other learners.*"
   ]
  }
 ],
 "metadata": {
  "kernelspec": {
   "display_name": "Python 3 (ipykernel)",
   "language": "python",
   "name": "python3"
  },
  "language_info": {
   "codemirror_mode": {
    "name": "ipython",
    "version": 3
   },
   "file_extension": ".py",
   "mimetype": "text/x-python",
   "name": "python",
   "nbconvert_exporter": "python",
   "pygments_lexer": "ipython3",
   "version": "3.9.13"
  }
 },
 "nbformat": 4,
 "nbformat_minor": 4
}
