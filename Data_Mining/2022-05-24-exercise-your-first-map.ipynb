{
 "cells": [
  {
   "cell_type": "markdown",
   "metadata": {},
   "source": [
    "---\n",
    "title: 'Your First Map'\n",
    "author: 'Hyunsoo Kim'\n",
    "date: '2022-05-24'\n",
    "categories: [Python, Pandas, Geopandas]\n",
    "image: geopandas.png\n",
    "jupyter: python3\n",
    "page-layout: full\n",
    "---\n",
    "\n",
    "> Your First Map"
   ]
  },
  {
   "cell_type": "markdown",
   "metadata": {},
   "source": [
    "**This notebook is an exercise in the [Geospatial Analysis](https://www.kaggle.com/learn/geospatial-analysis) course.  You can reference the tutorial at [this link](https://www.kaggle.com/alexisbcook/your-first-map).**\n",
    "\n",
    "---\n"
   ]
  },
  {
   "cell_type": "code",
   "execution_count": null,
   "metadata": {
    "execution": {
     "iopub.execute_input": "2022-05-23T12:19:27.355118Z",
     "iopub.status.busy": "2022-05-23T12:19:27.354751Z",
     "iopub.status.idle": "2022-05-23T12:19:29.512223Z",
     "shell.execute_reply": "2022-05-23T12:19:29.51145Z",
     "shell.execute_reply.started": "2022-05-23T12:19:27.355023Z"
    }
   },
   "outputs": [],
   "source": [
    "import geopandas as gpd\n",
    "\n",
    "from learntools.core import binder\n",
    "binder.bind(globals())\n",
    "from learntools.geospatial.ex1 import *"
   ]
  },
  {
   "cell_type": "markdown",
   "metadata": {},
   "source": [
    "### 1) Get the data.\n",
    "\n",
    "Use the next cell to load the shapefile located at `loans_filepath` to create a GeoDataFrame `world_loans`.  \n",
    "\n",
    "다음 셀을 사용하여 `loans_filepath`에 있는 shapefile을 로드하여 GeoDataFrame `world_loans`를 생성합니다."
   ]
  },
  {
   "cell_type": "code",
   "execution_count": null,
   "metadata": {
    "execution": {
     "iopub.execute_input": "2022-05-23T12:29:29.098828Z",
     "iopub.status.busy": "2022-05-23T12:29:29.098421Z",
     "iopub.status.idle": "2022-05-23T12:29:32.377432Z",
     "shell.execute_reply": "2022-05-23T12:29:32.376648Z",
     "shell.execute_reply.started": "2022-05-23T12:29:29.098789Z"
    }
   },
   "outputs": [],
   "source": [
    "loans_filepath = \"../input/geospatial-learn-course-data/kiva_loans/kiva_loans/kiva_loans.shp\"\n",
    "\n",
    "# Your code here: Load the data\n",
    "world_loans = gpd.read_file(loans_filepath)\n",
    "\n",
    "# Check your answer\n",
    "q_1.check()\n",
    "\n",
    "# Uncomment to view the first five rows of the data\n",
    "#world_loans.head()"
   ]
  },
  {
   "cell_type": "markdown",
   "metadata": {},
   "source": [
    "### 2) Plot the data.\n",
    "\n",
    "Run the next code cell without changes to load a GeoDataFrame `world` containing country boundaries.\n",
    "\n",
    "변경 없이 다음 코드 셀을 실행하여 국가 경계가 포함된 GeoDataFrame 'world'를 로드합니다."
   ]
  },
  {
   "cell_type": "code",
   "execution_count": null,
   "metadata": {},
   "outputs": [],
   "source": [
    "# Lines below will give you a hint or solution code\n",
    "#q_1.hint()\n",
    "#q_1.solution()"
   ]
  },
  {
   "cell_type": "code",
   "execution_count": null,
   "metadata": {
    "execution": {
     "iopub.execute_input": "2022-05-23T12:41:11.203691Z",
     "iopub.status.busy": "2022-05-23T12:41:11.202941Z",
     "iopub.status.idle": "2022-05-23T12:41:11.303417Z",
     "shell.execute_reply": "2022-05-23T12:41:11.302814Z",
     "shell.execute_reply.started": "2022-05-23T12:41:11.20365Z"
    }
   },
   "outputs": [],
   "source": [
    "# This dataset is provided in GeoPandas\n",
    "world_filepath = gpd.datasets.get_path('naturalearth_lowres')\n",
    "world = gpd.read_file(world_filepath)\n",
    "world.head()"
   ]
  },
  {
   "cell_type": "markdown",
   "metadata": {},
   "source": [
    "Use the `world` and `world_loans` GeoDataFrames to visualize Kiva loan locations across the world.\n",
    "\n",
    "`world` 및 `world_loans` GeoDataFrames를 사용하여 전 세계의 Kiva loan locations를 시각화합니다."
   ]
  },
  {
   "cell_type": "code",
   "execution_count": null,
   "metadata": {
    "execution": {
     "iopub.execute_input": "2022-05-23T12:40:25.350696Z",
     "iopub.status.busy": "2022-05-23T12:40:25.350418Z",
     "iopub.status.idle": "2022-05-23T12:40:28.135654Z",
     "shell.execute_reply": "2022-05-23T12:40:28.134893Z",
     "shell.execute_reply.started": "2022-05-23T12:40:25.350665Z"
    }
   },
   "outputs": [],
   "source": [
    "# Your code here\n",
    "ax = world.plot(figsize=(20,20), color='none', edgecolor='gainsboro',zorder=3)\n",
    "world_loans.plot(color='skyblue', markersize=2,ax=ax)\n",
    "# Uncomment to see a hint\n",
    "#q_2.hint()"
   ]
  },
  {
   "cell_type": "code",
   "execution_count": null,
   "metadata": {
    "execution": {
     "iopub.execute_input": "2022-05-23T12:40:42.990879Z",
     "iopub.status.busy": "2022-05-23T12:40:42.990548Z",
     "iopub.status.idle": "2022-05-23T12:40:42.998763Z",
     "shell.execute_reply": "2022-05-23T12:40:42.998149Z",
     "shell.execute_reply.started": "2022-05-23T12:40:42.990849Z"
    }
   },
   "outputs": [],
   "source": [
    "# Get credit for your work after you have created a map\n",
    "q_2.check()\n",
    "\n",
    "# Uncomment to see our solution (your code may look different!)\n",
    "#q_2.solution()"
   ]
  },
  {
   "cell_type": "markdown",
   "metadata": {},
   "source": [
    "### 3) Select loans based in the Philippines.\n",
    "\n",
    "Next, you'll focus on loans that are based in the Philippines.  Use the next code cell to create a GeoDataFrame `PHL_loans` which contains all rows from `world_loans` with loans that are based in the Philippines.\n",
    "\n",
    "다음으로 필리핀에 기반을 둔 대출에 중점을 둘 것입니다. 다음 코드 셀을 사용하여 필리핀에 기반을 둔 대출이 있는 `world_loans`의 모든 행을 포함하는 GeoDataFrame `PHL_loans`를 만듭니다."
   ]
  },
  {
   "cell_type": "code",
   "execution_count": null,
   "metadata": {
    "execution": {
     "iopub.execute_input": "2022-05-23T12:45:18.151447Z",
     "iopub.status.busy": "2022-05-23T12:45:18.150713Z",
     "iopub.status.idle": "2022-05-23T12:45:18.661024Z",
     "shell.execute_reply": "2022-05-23T12:45:18.660248Z",
     "shell.execute_reply.started": "2022-05-23T12:45:18.151406Z"
    }
   },
   "outputs": [],
   "source": [
    "# Your code here\n",
    "PHL_loans = world_loans.loc[world_loans.country==\"Philippines\"].copy()\n",
    "\n",
    "\n",
    "# Check your answer\n",
    "q_3.check()"
   ]
  },
  {
   "cell_type": "code",
   "execution_count": null,
   "metadata": {
    "execution": {
     "iopub.execute_input": "2022-05-23T12:46:16.577552Z",
     "iopub.status.busy": "2022-05-23T12:46:16.576643Z",
     "iopub.status.idle": "2022-05-23T12:46:16.580867Z",
     "shell.execute_reply": "2022-05-23T12:46:16.580225Z",
     "shell.execute_reply.started": "2022-05-23T12:46:16.577513Z"
    }
   },
   "outputs": [],
   "source": [
    "# Lines below will give you a hint or solution code\n",
    "#q_3.hint()\n",
    "#q_3.solution()"
   ]
  },
  {
   "cell_type": "markdown",
   "metadata": {},
   "source": [
    "### 4) Understand loans in the Philippines.\n",
    "\n",
    "Run the next code cell without changes to load a GeoDataFrame `PHL` containing boundaries for all islands in the Philippines.\n",
    "\n",
    "필리핀의 모든 섬에 대한 경계를 포함하는 GeoDataFrame `PHL`을 로드하려면 변경 없이 다음 코드 셀을 실행하십시오."
   ]
  },
  {
   "cell_type": "code",
   "execution_count": null,
   "metadata": {
    "execution": {
     "iopub.execute_input": "2022-05-23T12:45:39.334907Z",
     "iopub.status.busy": "2022-05-23T12:45:39.333846Z",
     "iopub.status.idle": "2022-05-23T12:45:44.12348Z",
     "shell.execute_reply": "2022-05-23T12:45:44.122656Z",
     "shell.execute_reply.started": "2022-05-23T12:45:39.334849Z"
    }
   },
   "outputs": [],
   "source": [
    "# Load a KML file containing island boundaries\n",
    "gpd.io.file.fiona.drvsupport.supported_drivers['KML'] = 'rw'\n",
    "PHL = gpd.read_file(\"../input/geospatial-learn-course-data/Philippines_AL258.kml\", driver='KML')\n",
    "PHL.head()"
   ]
  },
  {
   "cell_type": "markdown",
   "metadata": {},
   "source": [
    "Use the `PHL` and `PHL_loans` GeoDataFrames to visualize loans in the Philippines.\n",
    "\n",
    "'PHL' 및 'PHL_loans' GeoDataFrames를 사용하여 필리핀의 대출을 시각화합니다."
   ]
  },
  {
   "cell_type": "code",
   "execution_count": null,
   "metadata": {
    "execution": {
     "iopub.execute_input": "2022-05-23T12:55:05.664881Z",
     "iopub.status.busy": "2022-05-23T12:55:05.664118Z",
     "iopub.status.idle": "2022-05-23T12:55:08.973594Z",
     "shell.execute_reply": "2022-05-23T12:55:08.973Z",
     "shell.execute_reply.started": "2022-05-23T12:55:05.66482Z"
    }
   },
   "outputs": [],
   "source": [
    "# Your code here\n",
    "ax = PHL.plot(figsize=(20,20), color='none', edgecolor='gainsboro', zorder=3)\n",
    "PHL_loans.plot(color='skyblue', markersize=2, ax=ax)\n",
    "\n",
    "# Uncomment to see a hint\n",
    "#q_4.a.hint()"
   ]
  },
  {
   "cell_type": "code",
   "execution_count": null,
   "metadata": {
    "execution": {
     "iopub.execute_input": "2022-05-23T12:46:58.581934Z",
     "iopub.status.busy": "2022-05-23T12:46:58.58168Z",
     "iopub.status.idle": "2022-05-23T12:46:58.589076Z",
     "shell.execute_reply": "2022-05-23T12:46:58.588477Z",
     "shell.execute_reply.started": "2022-05-23T12:46:58.581907Z"
    }
   },
   "outputs": [],
   "source": [
    "# Get credit for your work after you have created a map\n",
    "q_4.a.check()\n",
    "\n",
    "# Uncomment to see our solution (your code may look different!)\n",
    "#q_4.a.solution()"
   ]
  },
  {
   "cell_type": "markdown",
   "metadata": {},
   "source": [
    "Can you identify any islands where it might be useful to recruit new Field Partners?  Do any islands currently look outside of Kiva's reach?\n",
    "\n",
    "You might find [this map](https://bit.ly/2U2G7x7) useful to answer the question."
   ]
  },
  {
   "cell_type": "code",
   "execution_count": null,
   "metadata": {
    "execution": {
     "iopub.execute_input": "2022-05-23T12:47:02.006371Z",
     "iopub.status.busy": "2022-05-23T12:47:02.005919Z",
     "iopub.status.idle": "2022-05-23T12:47:02.012413Z",
     "shell.execute_reply": "2022-05-23T12:47:02.011881Z",
     "shell.execute_reply.started": "2022-05-23T12:47:02.006323Z"
    }
   },
   "outputs": [],
   "source": [
    "# View the solution (Run this code cell to receive credit!)\n",
    "q_4.b.solution()"
   ]
  },
  {
   "cell_type": "markdown",
   "metadata": {},
   "source": [
    "# Keep going\n",
    "\n",
    "Continue to learn about **[coordinate reference systems](https://www.kaggle.com/alexisbcook/coordinate-reference-systems)**."
   ]
  },
  {
   "cell_type": "markdown",
   "metadata": {},
   "source": [
    "---\n",
    "\n",
    "\n",
    "\n",
    "\n",
    "*Have questions or comments? Visit the [course discussion forum](https://www.kaggle.com/learn/geospatial-analysis/discussion) to chat with other learners.*"
   ]
  }
 ],
 "metadata": {
  "kernelspec": {
   "display_name": "Python 3 (ipykernel)",
   "language": "python",
   "name": "python3"
  },
  "language_info": {
   "codemirror_mode": {
    "name": "ipython",
    "version": 3
   },
   "file_extension": ".py",
   "mimetype": "text/x-python",
   "name": "python",
   "nbconvert_exporter": "python",
   "pygments_lexer": "ipython3",
   "version": "3.9.13"
  }
 },
 "nbformat": 4,
 "nbformat_minor": 4
}
