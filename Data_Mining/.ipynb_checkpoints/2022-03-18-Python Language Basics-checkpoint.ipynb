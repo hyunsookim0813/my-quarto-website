{
 "cells": [
  {
   "cell_type": "markdown",
   "id": "03b00bba",
   "metadata": {},
   "source": [
    "---\n",
    "title: 'Python 기초'\n",
    "author: 'Hyunsoo Kim'\n",
    "date: '2022-03-18'\n",
    "categories: [Python, Numpy]\n",
    "image: python.png\n",
    "jupyter: python3\n",
    "page-layout: full\n",
    "> \"basic 기본 코드 실습\"\n",
    "---"
   ]
  },
  {
   "cell_type": "markdown",
   "id": "cbfb7e08",
   "metadata": {},
   "source": [
    "### Python language bascis\n",
    "#### language semantics\n",
    "##### Identation, not braces  // 들여쓰기"
   ]
  },
  {
   "cell_type": "markdown",
   "id": "78be9c19",
   "metadata": {},
   "source": [
    "for x in array:\n",
    "    if x < pivot :\n",
    "        less.append(x)\n",
    "    else:\n",
    "        greater.append(x)\n",
    "    \n",
    "a=5; b=6; c=7"
   ]
  },
  {
   "cell_type": "code",
   "execution_count": 17,
   "id": "57198fcc",
   "metadata": {},
   "outputs": [],
   "source": [
    "a=5; b=6; c=7"
   ]
  },
  {
   "cell_type": "code",
   "execution_count": 18,
   "id": "93630b99",
   "metadata": {},
   "outputs": [
    {
     "data": {
      "text/plain": [
       "7"
      ]
     },
     "execution_count": 18,
     "metadata": {},
     "output_type": "execute_result"
    }
   ],
   "source": [
    "c"
   ]
  },
  {
   "cell_type": "markdown",
   "id": "4f60bd84",
   "metadata": {},
   "source": [
    "##### Everything is an object // 오브젝트를 기본 할당하고 동작함\n",
    "##### Comments"
   ]
  },
  {
   "cell_type": "markdown",
   "id": "46dec239",
   "metadata": {},
   "source": [
    "result =[]\n",
    "for line in file_handle:\n",
    "    # keep the empty line for now\n",
    "    # if len(line) == 0:\n",
    "    #   continue\n",
    "    result.append(line.replace('foo','bar'))\n",
    "print(\"Reach this line\") #simple statis report"
   ]
  },
  {
   "cell_type": "markdown",
   "id": "8a263c1f",
   "metadata": {},
   "source": [
    "##### Function and object method calls"
   ]
  },
  {
   "cell_type": "markdown",
   "id": "e25b94ae",
   "metadata": {},
   "source": [
    "  result = f(x,y,z)\n",
    "  g()\n",
    "\n",
    "  obj.some_method(x,y,z)\n",
    "result = f(a,b,c,d=5,e='foo')"
   ]
  },
  {
   "cell_type": "markdown",
   "id": "0e3a049e",
   "metadata": {},
   "source": [
    "##### Variables and argument passing"
   ]
  },
  {
   "cell_type": "code",
   "execution_count": 8,
   "id": "335faabf",
   "metadata": {},
   "outputs": [],
   "source": [
    "a=[1,2,3]"
   ]
  },
  {
   "cell_type": "code",
   "execution_count": 9,
   "id": "008e9a53",
   "metadata": {},
   "outputs": [],
   "source": [
    "b=a"
   ]
  },
  {
   "cell_type": "code",
   "execution_count": 10,
   "id": "5d4acb48",
   "metadata": {},
   "outputs": [
    {
     "data": {
      "text/plain": [
       "[1, 2, 3, 4]"
      ]
     },
     "execution_count": 10,
     "metadata": {},
     "output_type": "execute_result"
    }
   ],
   "source": [
    "a.append(4) #뒤에 붙여줌 \n",
    "b"
   ]
  },
  {
   "cell_type": "code",
   "execution_count": 11,
   "id": "ca1b7ade",
   "metadata": {},
   "outputs": [
    {
     "data": {
      "text/plain": [
       "int"
      ]
     },
     "execution_count": 11,
     "metadata": {},
     "output_type": "execute_result"
    }
   ],
   "source": [
    "a=5\n",
    "type(a) #int - integer - 수치형 "
   ]
  },
  {
   "cell_type": "code",
   "execution_count": 12,
   "id": "a0d6dd1a",
   "metadata": {},
   "outputs": [
    {
     "data": {
      "text/plain": [
       "str"
      ]
     },
     "execution_count": 12,
     "metadata": {},
     "output_type": "execute_result"
    }
   ],
   "source": [
    "a='foo'\n",
    "type(a)"
   ]
  },
  {
   "cell_type": "code",
   "execution_count": 13,
   "id": "297daeb3",
   "metadata": {},
   "outputs": [
    {
     "ename": "TypeError",
     "evalue": "can only concatenate str (not \"int\") to str",
     "output_type": "error",
     "traceback": [
      "\u001b[1;31m---------------------------------------------------------------------------\u001b[0m",
      "\u001b[1;31mTypeError\u001b[0m                                 Traceback (most recent call last)",
      "\u001b[1;32m<ipython-input-13-e84694abbbbf>\u001b[0m in \u001b[0;36m<module>\u001b[1;34m\u001b[0m\n\u001b[1;32m----> 1\u001b[1;33m \u001b[1;34m'5'\u001b[0m\u001b[1;33m+\u001b[0m\u001b[1;36m5\u001b[0m\u001b[1;33m\u001b[0m\u001b[1;33m\u001b[0m\u001b[0m\n\u001b[0m",
      "\u001b[1;31mTypeError\u001b[0m: can only concatenate str (not \"int\") to str"
     ]
    }
   ],
   "source": [
    "'5'+5"
   ]
  },
  {
   "cell_type": "code",
   "execution_count": 1,
   "id": "b59a91cf",
   "metadata": {},
   "outputs": [
    {
     "name": "stdout",
     "output_type": "stream",
     "text": [
      "a is <class 'float'>, b is <class 'int'>\n"
     ]
    },
    {
     "data": {
      "text/plain": [
       "2.25"
      ]
     },
     "execution_count": 1,
     "metadata": {},
     "output_type": "execute_result"
    }
   ],
   "source": [
    "a=4.5\n",
    "b=2\n",
    "# String formatting, to be visted later\n",
    "print('a is {0}, b is {1}'.format(type(a),type(b)))\n",
    "a/b"
   ]
  },
  {
   "cell_type": "code",
   "execution_count": 3,
   "id": "427ee3e2",
   "metadata": {},
   "outputs": [
    {
     "data": {
      "text/plain": [
       "True"
      ]
     },
     "execution_count": 3,
     "metadata": {},
     "output_type": "execute_result"
    }
   ],
   "source": [
    "a=5\n",
    "isinstance(a,int)"
   ]
  },
  {
   "cell_type": "code",
   "execution_count": 6,
   "id": "20db3a54",
   "metadata": {},
   "outputs": [
    {
     "data": {
      "text/plain": [
       "True"
      ]
     },
     "execution_count": 6,
     "metadata": {},
     "output_type": "execute_result"
    }
   ],
   "source": [
    "a=5; b=4.5\n",
    "isinstance(a,(int,float))\n",
    "isinstance(b,(int,float))"
   ]
  },
  {
   "cell_type": "code",
   "execution_count": 17,
   "id": "ef6f77dc",
   "metadata": {},
   "outputs": [],
   "source": [
    "a='foo' #Tab 키를 누르면 다양한 옵션이 나오면서 대문자화 카운트등 여러옵션 존재"
   ]
  },
  {
   "cell_type": "code",
   "execution_count": 7,
   "id": "175f50ee",
   "metadata": {},
   "outputs": [
    {
     "ename": "SyntaxError",
     "evalue": "invalid syntax (3084391244.py, line 1)",
     "output_type": "error",
     "traceback": [
      "\u001b[1;36m  Input \u001b[1;32mIn [7]\u001b[1;36m\u001b[0m\n\u001b[1;33m    a.<Press Tab>\u001b[0m\n\u001b[1;37m      ^\u001b[0m\n\u001b[1;31mSyntaxError\u001b[0m\u001b[1;31m:\u001b[0m invalid syntax\n"
     ]
    }
   ],
   "source": [
    "a.<Press Tab>"
   ]
  },
  {
   "cell_type": "code",
   "execution_count": 19,
   "id": "d0b7ba0c",
   "metadata": {},
   "outputs": [
    {
     "data": {
      "text/plain": [
       "'FOO'"
      ]
     },
     "execution_count": 19,
     "metadata": {},
     "output_type": "execute_result"
    }
   ],
   "source": [
    "a.upper()"
   ]
  },
  {
   "cell_type": "code",
   "execution_count": 20,
   "id": "394077e3",
   "metadata": {},
   "outputs": [
    {
     "data": {
      "text/plain": [
       "<function str.split(sep=None, maxsplit=-1)>"
      ]
     },
     "execution_count": 20,
     "metadata": {},
     "output_type": "execute_result"
    }
   ],
   "source": [
    "getattr(a,'split') #object에 속한 속성을 가지고 온다 "
   ]
  },
  {
   "cell_type": "markdown",
   "id": "9c717e37",
   "metadata": {},
   "source": [
    "#### Duck typing"
   ]
  },
  {
   "cell_type": "code",
   "execution_count": 8,
   "id": "4bcdb4f5",
   "metadata": {},
   "outputs": [],
   "source": [
    "def isiterable(obj):\n",
    "    try:\n",
    "        iter(obj)\n",
    "        return True\n",
    "    except TypeError: # not literable\n",
    "        return False"
   ]
  },
  {
   "cell_type": "code",
   "execution_count": 12,
   "id": "0c8d057c",
   "metadata": {},
   "outputs": [
    {
     "data": {
      "text/plain": [
       "True"
      ]
     },
     "execution_count": 12,
     "metadata": {},
     "output_type": "execute_result"
    }
   ],
   "source": [
    "isiterable('a string') "
   ]
  },
  {
   "cell_type": "code",
   "execution_count": 13,
   "id": "e7f1339c",
   "metadata": {},
   "outputs": [
    {
     "data": {
      "text/plain": [
       "True"
      ]
     },
     "execution_count": 13,
     "metadata": {},
     "output_type": "execute_result"
    }
   ],
   "source": [
    "isiterable([1,2,3])"
   ]
  },
  {
   "cell_type": "code",
   "execution_count": 14,
   "id": "3eef3545",
   "metadata": {},
   "outputs": [
    {
     "data": {
      "text/plain": [
       "False"
      ]
     },
     "execution_count": 14,
     "metadata": {},
     "output_type": "execute_result"
    }
   ],
   "source": [
    "isiterable(5)"
   ]
  },
  {
   "cell_type": "markdown",
   "id": "f21a0535",
   "metadata": {},
   "source": [
    "if not isinstance(x,list) and isiterable(x): x=list(x)"
   ]
  },
  {
   "cell_type": "markdown",
   "id": "55a07fc1",
   "metadata": {},
   "source": [
    "#### Imports\n",
    "In Python a module is simply a file with the .py extension containing Python code. Suppose that we had the following module:\n",
    "\n",
    "If you wanted to access the variables and functions defined in some_module.py, from another file in the same directory we could do:"
   ]
  },
  {
   "cell_type": "code",
   "execution_count": 1,
   "id": "6bc69c31",
   "metadata": {},
   "outputs": [
    {
     "data": {
      "text/plain": [
       "7"
      ]
     },
     "execution_count": 1,
     "metadata": {},
     "output_type": "execute_result"
    }
   ],
   "source": [
    "import some_module #같은 디렉토리의 .py파일을 불러와서 사용가능 \n",
    "\n",
    "result = some_module.f(5)\n",
    "result"
   ]
  },
  {
   "cell_type": "code",
   "execution_count": 2,
   "id": "aa4e14bf",
   "metadata": {},
   "outputs": [
    {
     "data": {
      "text/plain": [
       "3.14159"
      ]
     },
     "execution_count": 2,
     "metadata": {},
     "output_type": "execute_result"
    }
   ],
   "source": [
    "pi = some_module.PI\n",
    "pi"
   ]
  },
  {
   "cell_type": "markdown",
   "id": "6ee3a581",
   "metadata": {},
   "source": [
    "Or equivalently:"
   ]
  },
  {
   "cell_type": "code",
   "execution_count": 4,
   "id": "6f3df843",
   "metadata": {},
   "outputs": [
    {
     "data": {
      "text/plain": [
       "8.14159"
      ]
     },
     "execution_count": 4,
     "metadata": {},
     "output_type": "execute_result"
    }
   ],
   "source": [
    "from some_module import f,g,PI\n",
    "result = g(5,PI)\n",
    "result"
   ]
  },
  {
   "cell_type": "markdown",
   "id": "91171c1e",
   "metadata": {},
   "source": [
    "By using the as keyword you can give imports different variable names:"
   ]
  },
  {
   "cell_type": "code",
   "execution_count": 5,
   "id": "f6fac696",
   "metadata": {},
   "outputs": [],
   "source": [
    "import some_module as sm\n",
    "from some_module import PI as pi, g as gf\n",
    "\n",
    "r1 = sm.f(pi)\n",
    "r2 = gf(6,pi)"
   ]
  },
  {
   "cell_type": "code",
   "execution_count": 6,
   "id": "5679f6ee",
   "metadata": {},
   "outputs": [
    {
     "data": {
      "text/plain": [
       "5.14159"
      ]
     },
     "execution_count": 6,
     "metadata": {},
     "output_type": "execute_result"
    }
   ],
   "source": [
    "r1"
   ]
  },
  {
   "cell_type": "code",
   "execution_count": 7,
   "id": "54bd85cb",
   "metadata": {},
   "outputs": [
    {
     "data": {
      "text/plain": [
       "9.14159"
      ]
     },
     "execution_count": 7,
     "metadata": {},
     "output_type": "execute_result"
    }
   ],
   "source": [
    "r2"
   ]
  },
  {
   "cell_type": "markdown",
   "id": "8a4cfc06",
   "metadata": {},
   "source": [
    "#### Binary operators and comparisons\n",
    "\n",
    "Most of the binary math operations and comparisons are as you might expect:"
   ]
  },
  {
   "cell_type": "code",
   "execution_count": 8,
   "id": "ada468c0",
   "metadata": {},
   "outputs": [
    {
     "data": {
      "text/plain": [
       "False"
      ]
     },
     "execution_count": 8,
     "metadata": {},
     "output_type": "execute_result"
    }
   ],
   "source": [
    "5-7\n",
    "12+21.5\n",
    "5 <= 2"
   ]
  },
  {
   "cell_type": "code",
   "execution_count": 9,
   "id": "fbd77a16",
   "metadata": {},
   "outputs": [
    {
     "data": {
      "text/plain": [
       "True"
      ]
     },
     "execution_count": 9,
     "metadata": {},
     "output_type": "execute_result"
    }
   ],
   "source": [
    "a = [1,2,3]\n",
    "b=a\n",
    "c=list()\n",
    "a is b\n",
    "a is not c "
   ]
  },
  {
   "cell_type": "code",
   "execution_count": 10,
   "id": "a308221e",
   "metadata": {},
   "outputs": [
    {
     "data": {
      "text/plain": [
       "False"
      ]
     },
     "execution_count": 10,
     "metadata": {},
     "output_type": "execute_result"
    }
   ],
   "source": [
    "a == c"
   ]
  },
  {
   "cell_type": "code",
   "execution_count": 11,
   "id": "dedd6825",
   "metadata": {},
   "outputs": [
    {
     "data": {
      "text/plain": [
       "True"
      ]
     },
     "execution_count": 11,
     "metadata": {},
     "output_type": "execute_result"
    }
   ],
   "source": [
    "a = None\n",
    "a is None"
   ]
  },
  {
   "cell_type": "markdown",
   "id": "853c6b47",
   "metadata": {},
   "source": [
    "##### Mutable and immutable objects\n",
    "Most object in Python such as list, dict, NumPy arrays, and most user-defined types(classes), are mutable.\n",
    "\n",
    "This means that the object or values that they contain can be modified"
   ]
  },
  {
   "cell_type": "code",
   "execution_count": 13,
   "id": "2c908f10",
   "metadata": {},
   "outputs": [
    {
     "data": {
      "text/plain": [
       "['foo', 2, (3, 4)]"
      ]
     },
     "execution_count": 13,
     "metadata": {},
     "output_type": "execute_result"
    }
   ],
   "source": [
    "a_list = ['foo',2,[4,5]]\n",
    "a_list[2] = (3,4)\n",
    "a_list"
   ]
  },
  {
   "cell_type": "markdown",
   "id": "38a57ee4",
   "metadata": {},
   "source": [
    "Others, like strings and tuples, are immutable:"
   ]
  },
  {
   "cell_type": "code",
   "execution_count": 16,
   "id": "101ffb5c",
   "metadata": {},
   "outputs": [
    {
     "ename": "TypeError",
     "evalue": "'tuple' object does not support item assignment",
     "output_type": "error",
     "traceback": [
      "\u001b[1;31m---------------------------------------------------------------------------\u001b[0m",
      "\u001b[1;31mTypeError\u001b[0m                                 Traceback (most recent call last)",
      "Input \u001b[1;32mIn [16]\u001b[0m, in \u001b[0;36m<cell line: 2>\u001b[1;34m()\u001b[0m\n\u001b[0;32m      1\u001b[0m a_tuple \u001b[38;5;241m=\u001b[39m (\u001b[38;5;241m3\u001b[39m,\u001b[38;5;241m5\u001b[39m,(\u001b[38;5;241m4\u001b[39m,\u001b[38;5;241m5\u001b[39m))\n\u001b[1;32m----> 2\u001b[0m a_tuple[\u001b[38;5;241m1\u001b[39m] \u001b[38;5;241m=\u001b[39m \u001b[38;5;124m'\u001b[39m\u001b[38;5;124mfour\u001b[39m\u001b[38;5;124m'\u001b[39m\n",
      "\u001b[1;31mTypeError\u001b[0m: 'tuple' object does not support item assignment"
     ]
    }
   ],
   "source": [
    "a_tuple = (3,5,(4,5))\n",
    "a_tuple[1] = 'four' #tuple은 변경이 불가능 하다 / list는 가능  "
   ]
  },
  {
   "cell_type": "markdown",
   "id": "fa603f7c",
   "metadata": {},
   "source": [
    "#### Scalar Types\n",
    "##### Numeric types\n",
    "The primary Python types for numbers are int and float. An int can store arbitrarily large numbers:"
   ]
  },
  {
   "cell_type": "code",
   "execution_count": 6,
   "id": "3d4033df",
   "metadata": {},
   "outputs": [
    {
     "data": {
      "text/plain": [
       "26254519291092456596965462913230729701102721"
      ]
     },
     "execution_count": 6,
     "metadata": {},
     "output_type": "execute_result"
    }
   ],
   "source": [
    "ival = 17239871\n",
    "ival ** 6"
   ]
  },
  {
   "cell_type": "markdown",
   "id": "a109e31a",
   "metadata": {},
   "source": [
    "Floating-point numbers are represented with the Python float type. Under the hood each one is a double-precision(64-bit) value. They can also be expressed with scientific notation:"
   ]
  },
  {
   "cell_type": "code",
   "execution_count": 7,
   "id": "e6ce1432",
   "metadata": {},
   "outputs": [],
   "source": [
    "fval = 7.2343\n",
    "fval2 = 6.78e-5"
   ]
  },
  {
   "cell_type": "code",
   "execution_count": 8,
   "id": "ad706d0a",
   "metadata": {},
   "outputs": [
    {
     "data": {
      "text/plain": [
       "1.5"
      ]
     },
     "execution_count": 8,
     "metadata": {},
     "output_type": "execute_result"
    }
   ],
   "source": [
    "3/2"
   ]
  },
  {
   "cell_type": "code",
   "execution_count": 9,
   "id": "860d2935",
   "metadata": {},
   "outputs": [
    {
     "data": {
      "text/plain": [
       "float"
      ]
     },
     "execution_count": 9,
     "metadata": {},
     "output_type": "execute_result"
    }
   ],
   "source": [
    "type(3/2)"
   ]
  },
  {
   "cell_type": "code",
   "execution_count": 10,
   "id": "e516467e",
   "metadata": {},
   "outputs": [
    {
     "data": {
      "text/plain": [
       "1"
      ]
     },
     "execution_count": 10,
     "metadata": {},
     "output_type": "execute_result"
    }
   ],
   "source": [
    "3//2 #몫"
   ]
  },
  {
   "cell_type": "code",
   "execution_count": 11,
   "id": "92481869",
   "metadata": {},
   "outputs": [
    {
     "data": {
      "text/plain": [
       "int"
      ]
     },
     "execution_count": 11,
     "metadata": {},
     "output_type": "execute_result"
    }
   ],
   "source": [
    "type(3//2)"
   ]
  },
  {
   "cell_type": "markdown",
   "id": "65038d00",
   "metadata": {},
   "source": [
    "#### Strings\n",
    "Many people use Python for its powerful and flexible built-in string processing capabilities.\n",
    "\n",
    "You can write string literals using either single quotes `or double quotes`:"
   ]
  },
  {
   "cell_type": "code",
   "execution_count": 12,
   "id": "fc8a5abb",
   "metadata": {},
   "outputs": [],
   "source": [
    "a = 'one way of writing a string'\n",
    "b = 'another way'"
   ]
  },
  {
   "cell_type": "markdown",
   "id": "e6d87312",
   "metadata": {},
   "source": [
    "For multiline strings with line breaks, you can use triple qutoes, either ''' or \"\"\""
   ]
  },
  {
   "cell_type": "code",
   "execution_count": 16,
   "id": "b56f2ccd",
   "metadata": {},
   "outputs": [],
   "source": [
    "c = \"\"\" \n",
    "This is a longer string that\n",
    "spans multiple lines\n",
    "\"\"\""
   ]
  },
  {
   "cell_type": "code",
   "execution_count": 17,
   "id": "09ae85aa",
   "metadata": {},
   "outputs": [
    {
     "data": {
      "text/plain": [
       "' \\nThis is a longer string that\\nspans multiple lines\\n'"
      ]
     },
     "execution_count": 17,
     "metadata": {},
     "output_type": "execute_result"
    }
   ],
   "source": [
    "c"
   ]
  },
  {
   "cell_type": "markdown",
   "id": "a2dec178",
   "metadata": {},
   "source": [
    "It may surprise you that this string c actually contains for lines of text;\n",
    "\n",
    "the line breaks after \"\"\" and after lines are include in the string.\n",
    "\n",
    "We can count the new line characters with the count method on c:"
   ]
  },
  {
   "cell_type": "code",
   "execution_count": 18,
   "id": "620af249",
   "metadata": {},
   "outputs": [
    {
     "data": {
      "text/plain": [
       "3"
      ]
     },
     "execution_count": 18,
     "metadata": {},
     "output_type": "execute_result"
    }
   ],
   "source": [
    "c.count('\\n')"
   ]
  },
  {
   "cell_type": "markdown",
   "id": "4318b93b",
   "metadata": {},
   "source": [
    "Python strings are immutable;  you cannot modify a string:"
   ]
  },
  {
   "cell_type": "code",
   "execution_count": 19,
   "id": "f258aa0b",
   "metadata": {},
   "outputs": [
    {
     "ename": "TypeError",
     "evalue": "'str' object does not support item assignment",
     "output_type": "error",
     "traceback": [
      "\u001b[1;31m---------------------------------------------------------------------------\u001b[0m",
      "\u001b[1;31mTypeError\u001b[0m                                 Traceback (most recent call last)",
      "Input \u001b[1;32mIn [19]\u001b[0m, in \u001b[0;36m<cell line: 2>\u001b[1;34m()\u001b[0m\n\u001b[0;32m      1\u001b[0m a \u001b[38;5;241m=\u001b[39m \u001b[38;5;124m'\u001b[39m\u001b[38;5;124mthis is a string\u001b[39m\u001b[38;5;124m'\u001b[39m\n\u001b[1;32m----> 2\u001b[0m a[\u001b[38;5;241m10\u001b[39m] \u001b[38;5;241m=\u001b[39m \u001b[38;5;124m'\u001b[39m\u001b[38;5;124mf\u001b[39m\u001b[38;5;124m'\u001b[39m\n",
      "\u001b[1;31mTypeError\u001b[0m: 'str' object does not support item assignment"
     ]
    }
   ],
   "source": [
    "a = 'this is a string'\n",
    "a[10] = 'f' #변형불가 "
   ]
  },
  {
   "cell_type": "code",
   "execution_count": 20,
   "id": "09bae7ee",
   "metadata": {},
   "outputs": [
    {
     "data": {
      "text/plain": [
       "'this is a longer string'"
      ]
     },
     "execution_count": 20,
     "metadata": {},
     "output_type": "execute_result"
    }
   ],
   "source": [
    "b = a.replace('string','longer string')\n",
    "b"
   ]
  },
  {
   "cell_type": "code",
   "execution_count": 21,
   "id": "dc8c960f",
   "metadata": {},
   "outputs": [
    {
     "data": {
      "text/plain": [
       "'this is a string'"
      ]
     },
     "execution_count": 21,
     "metadata": {},
     "output_type": "execute_result"
    }
   ],
   "source": [
    "a #변형은 안되나 대체는 가능"
   ]
  },
  {
   "cell_type": "markdown",
   "id": "602d9e84",
   "metadata": {},
   "source": [
    "Many Python object can be converted to a string using the str function"
   ]
  },
  {
   "cell_type": "code",
   "execution_count": 22,
   "id": "3ce31fc9",
   "metadata": {},
   "outputs": [
    {
     "name": "stdout",
     "output_type": "stream",
     "text": [
      "5.6\n"
     ]
    }
   ],
   "source": [
    "a = 5.6\n",
    "s = str(a)\n",
    "print(s)"
   ]
  },
  {
   "cell_type": "markdown",
   "id": "d83d75d5",
   "metadata": {},
   "source": [
    "Strings are a sequnce of Unicode characters and therefore can be treated like other sequences, such as lists and tuples(which we will explore in more detail in the next chapter):"
   ]
  },
  {
   "cell_type": "code",
   "execution_count": 23,
   "id": "ac52e77a",
   "metadata": {},
   "outputs": [
    {
     "data": {
      "text/plain": [
       "['p', 'y', 't', 'h', 'o', 'n']"
      ]
     },
     "execution_count": 23,
     "metadata": {},
     "output_type": "execute_result"
    }
   ],
   "source": [
    "s='python'\n",
    "list(s)"
   ]
  },
  {
   "cell_type": "code",
   "execution_count": 24,
   "id": "27ca9ddf",
   "metadata": {},
   "outputs": [
    {
     "data": {
      "text/plain": [
       "'pyt'"
      ]
     },
     "execution_count": 24,
     "metadata": {},
     "output_type": "execute_result"
    }
   ],
   "source": [
    "s[:3]"
   ]
  },
  {
   "cell_type": "markdown",
   "id": "40b78da9",
   "metadata": {},
   "source": [
    "The syntax s[:3] is called `slicing` and is implemented for many kinds of Python sequences. This will be explained in moire detail later on, as it it used extensively in the book.\n",
    "\n",
    "The backslash character \\ is an escape character, meaning that it is used to specify special characters like newline \\n or Unicode characters. To write a string literal with backslashes, you need to escape them:"
   ]
  },
  {
   "cell_type": "code",
   "execution_count": 25,
   "id": "74abf3ca",
   "metadata": {},
   "outputs": [
    {
     "name": "stdout",
     "output_type": "stream",
     "text": [
      "12\n",
      "34\n"
     ]
    }
   ],
   "source": [
    "print('12\\n34') #\\n is Enter "
   ]
  },
  {
   "cell_type": "code",
   "execution_count": 31,
   "id": "5f375280",
   "metadata": {},
   "outputs": [
    {
     "name": "stdout",
     "output_type": "stream",
     "text": [
      "12\\34\n"
     ]
    }
   ],
   "source": [
    "s = '12\\\\34' #백슬래쉬를 문자열로 바꾼다 \n",
    "print(s)"
   ]
  },
  {
   "cell_type": "markdown",
   "id": "0e5ca749",
   "metadata": {},
   "source": [
    "Adding two strings together concatenates them and produces a new string:"
   ]
  },
  {
   "cell_type": "code",
   "execution_count": 33,
   "id": "6c653648",
   "metadata": {},
   "outputs": [
    {
     "data": {
      "text/plain": [
       "'this is the first half and this is the second half'"
      ]
     },
     "execution_count": 33,
     "metadata": {},
     "output_type": "execute_result"
    }
   ],
   "source": [
    "a='this is the first half '\n",
    "b='and this is the second half'\n",
    "a+b"
   ]
  },
  {
   "cell_type": "markdown",
   "id": "7dc17f59",
   "metadata": {},
   "source": [
    "String templating or formatting is another important topic.\n",
    "\n",
    "The number of ways tod do so has expanded with the advent of Python 3,\n",
    "\n",
    "and here I will briefly describe the mechanics of one of the main interfaces.\n",
    "\n",
    "`String objects have a format method` that can be used to substitute formatted arguments into the string, producting a new string:"
   ]
  },
  {
   "cell_type": "code",
   "execution_count": 34,
   "id": "ede762fe",
   "metadata": {},
   "outputs": [
    {
     "data": {
      "text/plain": [
       "'{0:.2f} {1:s} are worth US${2:d}'"
      ]
     },
     "execution_count": 34,
     "metadata": {},
     "output_type": "execute_result"
    }
   ],
   "source": [
    "template = '{0:.2f} {1:s} are worth US${2:d}'\n",
    "template"
   ]
  },
  {
   "cell_type": "markdown",
   "id": "c4a9b148",
   "metadata": {},
   "source": [
    "- {0:.2f} means to format the first argument as a floating-point number with two decimal places.\n",
    "- {1:s} means to format the second argument as a string.\n",
    "- {2:d} means to format the third argument as an exact integer"
   ]
  },
  {
   "cell_type": "code",
   "execution_count": 35,
   "id": "3b5d0a2a",
   "metadata": {},
   "outputs": [
    {
     "data": {
      "text/plain": [
       "'4.56 Argentine Pesos are worth US$1'"
      ]
     },
     "execution_count": 35,
     "metadata": {},
     "output_type": "execute_result"
    }
   ],
   "source": [
    "template.format(4.560, 'Argentine Pesos',1)"
   ]
  },
  {
   "cell_type": "code",
   "execution_count": 36,
   "id": "c246212d",
   "metadata": {},
   "outputs": [
    {
     "data": {
      "text/plain": [
       "'1263.23 won are worth US$1'"
      ]
     },
     "execution_count": 36,
     "metadata": {},
     "output_type": "execute_result"
    }
   ],
   "source": [
    "template.format(1263.23,'won',1)"
   ]
  },
  {
   "cell_type": "markdown",
   "id": "b89d5e1c",
   "metadata": {},
   "source": [
    "#### Booleans\n",
    "\n",
    "###### The two boolean value in python are written as True as False.\n",
    "\n",
    "###### Comprasions and other conditional expressions evaluate to either True or False.\n",
    "\n",
    "###### Boolean values are combined with the and or keywords:"
   ]
  },
  {
   "cell_type": "code",
   "execution_count": 37,
   "id": "b63b06e6",
   "metadata": {},
   "outputs": [
    {
     "data": {
      "text/plain": [
       "True"
      ]
     },
     "execution_count": 37,
     "metadata": {},
     "output_type": "execute_result"
    }
   ],
   "source": [
    "True and True"
   ]
  },
  {
   "cell_type": "code",
   "execution_count": 38,
   "id": "7c1f6e5e",
   "metadata": {},
   "outputs": [
    {
     "data": {
      "text/plain": [
       "True"
      ]
     },
     "execution_count": 38,
     "metadata": {},
     "output_type": "execute_result"
    }
   ],
   "source": [
    "False or True"
   ]
  },
  {
   "cell_type": "markdown",
   "id": "f436a54a",
   "metadata": {},
   "source": [
    "##### Type casting\n",
    "\n",
    "The str, bool, int, and float types are also functions that can be used to cast values"
   ]
  },
  {
   "cell_type": "code",
   "execution_count": 39,
   "id": "28a25881",
   "metadata": {},
   "outputs": [
    {
     "data": {
      "text/plain": [
       "float"
      ]
     },
     "execution_count": 39,
     "metadata": {},
     "output_type": "execute_result"
    }
   ],
   "source": [
    "s='3.14159'\n",
    "fval=float(s)\n",
    "type(fval)"
   ]
  },
  {
   "cell_type": "code",
   "execution_count": 40,
   "id": "24444fe5",
   "metadata": {},
   "outputs": [
    {
     "data": {
      "text/plain": [
       "3"
      ]
     },
     "execution_count": 40,
     "metadata": {},
     "output_type": "execute_result"
    }
   ],
   "source": [
    "int(fval)"
   ]
  },
  {
   "cell_type": "code",
   "execution_count": 41,
   "id": "c25fc178",
   "metadata": {},
   "outputs": [
    {
     "data": {
      "text/plain": [
       "True"
      ]
     },
     "execution_count": 41,
     "metadata": {},
     "output_type": "execute_result"
    }
   ],
   "source": [
    "bool(fval)"
   ]
  },
  {
   "cell_type": "code",
   "execution_count": 42,
   "id": "c050694f",
   "metadata": {},
   "outputs": [
    {
     "data": {
      "text/plain": [
       "False"
      ]
     },
     "execution_count": 42,
     "metadata": {},
     "output_type": "execute_result"
    }
   ],
   "source": [
    "bool(0)"
   ]
  },
  {
   "cell_type": "markdown",
   "id": "46738340",
   "metadata": {},
   "source": [
    "#### None\n",
    "None is the Python null value type. If a function does not explicitly return a value, it implicitly returns None:"
   ]
  },
  {
   "cell_type": "code",
   "execution_count": 43,
   "id": "491cf8b9",
   "metadata": {},
   "outputs": [
    {
     "data": {
      "text/plain": [
       "True"
      ]
     },
     "execution_count": 43,
     "metadata": {},
     "output_type": "execute_result"
    }
   ],
   "source": [
    "a = None\n",
    "a is None"
   ]
  },
  {
   "cell_type": "code",
   "execution_count": 44,
   "id": "4d9771c3",
   "metadata": {},
   "outputs": [
    {
     "data": {
      "text/plain": [
       "True"
      ]
     },
     "execution_count": 44,
     "metadata": {},
     "output_type": "execute_result"
    }
   ],
   "source": [
    "b = 5\n",
    "b is not None"
   ]
  },
  {
   "cell_type": "markdown",
   "id": "a547173c",
   "metadata": {},
   "source": [
    "None is also a common default vlaue for function arguments:"
   ]
  },
  {
   "cell_type": "code",
   "execution_count": 45,
   "id": "395fa931",
   "metadata": {},
   "outputs": [],
   "source": [
    "def add_and_maybe_multiply(a,b,c=None):\n",
    "    result = a+b\n",
    "\n",
    "    if c is not None:\n",
    "        result = result * c\n",
    "    \n",
    "    return result"
   ]
  },
  {
   "cell_type": "code",
   "execution_count": 46,
   "id": "b239640d",
   "metadata": {},
   "outputs": [
    {
     "data": {
      "text/plain": [
       "8"
      ]
     },
     "execution_count": 46,
     "metadata": {},
     "output_type": "execute_result"
    }
   ],
   "source": [
    "add_and_maybe_multiply(5,3)"
   ]
  },
  {
   "cell_type": "code",
   "execution_count": 47,
   "id": "16e742e1",
   "metadata": {},
   "outputs": [
    {
     "data": {
      "text/plain": [
       "80"
      ]
     },
     "execution_count": 47,
     "metadata": {},
     "output_type": "execute_result"
    }
   ],
   "source": [
    "add_and_maybe_multiply(5,3,10)"
   ]
  },
  {
   "cell_type": "markdown",
   "id": "9c76fd7a",
   "metadata": {},
   "source": [
    "While a technical point, it's worth bearing in mind that None is not only a reserved keyword but also a unique instance of NoneType:"
   ]
  },
  {
   "cell_type": "code",
   "execution_count": 48,
   "id": "b2212738",
   "metadata": {},
   "outputs": [
    {
     "data": {
      "text/plain": [
       "NoneType"
      ]
     },
     "execution_count": 48,
     "metadata": {},
     "output_type": "execute_result"
    }
   ],
   "source": [
    "type(None)"
   ]
  },
  {
   "cell_type": "markdown",
   "id": "68723e2b",
   "metadata": {},
   "source": [
    "#### Dates and times\n",
    "\n",
    "The built-in Python datetime module provides datetime, date, and time types.\n",
    "\n",
    "The datetime type, as you may imagine, combines the information stored in date and time and is the most commonly used:"
   ]
  },
  {
   "cell_type": "code",
   "execution_count": 50,
   "id": "8fa7d45c",
   "metadata": {},
   "outputs": [
    {
     "data": {
      "text/plain": [
       "datetime.datetime(2011, 10, 29, 20, 30, 21)"
      ]
     },
     "execution_count": 50,
     "metadata": {},
     "output_type": "execute_result"
    }
   ],
   "source": [
    "from datetime import datetime, date, time\n",
    "dt = datetime(2011,10,29,20,30,21) #year,month,day,hour,minute,second\n",
    "dt"
   ]
  },
  {
   "cell_type": "code",
   "execution_count": 51,
   "id": "64080945",
   "metadata": {},
   "outputs": [
    {
     "data": {
      "text/plain": [
       "29"
      ]
     },
     "execution_count": 51,
     "metadata": {},
     "output_type": "execute_result"
    }
   ],
   "source": [
    "dt.day"
   ]
  },
  {
   "cell_type": "code",
   "execution_count": 52,
   "id": "834c5956",
   "metadata": {},
   "outputs": [
    {
     "data": {
      "text/plain": [
       "30"
      ]
     },
     "execution_count": 52,
     "metadata": {},
     "output_type": "execute_result"
    }
   ],
   "source": [
    "dt.minute"
   ]
  },
  {
   "cell_type": "markdown",
   "id": "5e050a83",
   "metadata": {},
   "source": [
    "Given a datetime instance, you can extract the equivalent date and time objects by calling methods on the datetime of the same name:"
   ]
  },
  {
   "cell_type": "code",
   "execution_count": 53,
   "id": "a536a5e2",
   "metadata": {},
   "outputs": [
    {
     "data": {
      "text/plain": [
       "datetime.date(2011, 10, 29)"
      ]
     },
     "execution_count": 53,
     "metadata": {},
     "output_type": "execute_result"
    }
   ],
   "source": [
    "dt.date()"
   ]
  },
  {
   "cell_type": "code",
   "execution_count": 54,
   "id": "4cff3a7e",
   "metadata": {},
   "outputs": [
    {
     "data": {
      "text/plain": [
       "datetime.time(20, 30, 21)"
      ]
     },
     "execution_count": 54,
     "metadata": {},
     "output_type": "execute_result"
    }
   ],
   "source": [
    "dt.time()"
   ]
  },
  {
   "cell_type": "markdown",
   "id": "a7c9c27a",
   "metadata": {},
   "source": [
    "The strfime method formats a datetime as a string:"
   ]
  },
  {
   "cell_type": "code",
   "execution_count": 55,
   "id": "c60df6da",
   "metadata": {},
   "outputs": [
    {
     "data": {
      "text/plain": [
       "'10/29/2011 20:30'"
      ]
     },
     "execution_count": 55,
     "metadata": {},
     "output_type": "execute_result"
    }
   ],
   "source": [
    "dt.strftime('%m/%d/%Y %H:%M')"
   ]
  },
  {
   "cell_type": "code",
   "execution_count": 56,
   "id": "22cc1ed0",
   "metadata": {},
   "outputs": [
    {
     "data": {
      "text/plain": [
       "'2011/10/29 20:30'"
      ]
     },
     "execution_count": 56,
     "metadata": {},
     "output_type": "execute_result"
    }
   ],
   "source": [
    "dt.strftime('%Y/%m/%d %H:%M')"
   ]
  },
  {
   "cell_type": "markdown",
   "id": "ba61781b",
   "metadata": {},
   "source": [
    "String can be converted (parsed) into datetime objects with the strptime function:"
   ]
  },
  {
   "cell_type": "code",
   "execution_count": 57,
   "id": "2d7f17e1",
   "metadata": {},
   "outputs": [
    {
     "data": {
      "text/plain": [
       "datetime.datetime(2009, 10, 31, 0, 0)"
      ]
     },
     "execution_count": 57,
     "metadata": {},
     "output_type": "execute_result"
    }
   ],
   "source": [
    "datetime.strptime('20091031',\"%Y%m%d\")"
   ]
  },
  {
   "cell_type": "markdown",
   "id": "7bd5ca20",
   "metadata": {},
   "source": [
    "When you are aggregating or otherwise grouping time series data, it will occasionally be useful to replace time fields of a series of datetimes-for example,replacing the minute and second fields with zero:"
   ]
  },
  {
   "cell_type": "code",
   "execution_count": 58,
   "id": "7cc72f2e",
   "metadata": {},
   "outputs": [
    {
     "data": {
      "text/plain": [
       "datetime.datetime(2011, 10, 29, 20, 0)"
      ]
     },
     "execution_count": 58,
     "metadata": {},
     "output_type": "execute_result"
    }
   ],
   "source": [
    "dt.replace(minute=0,second=0)"
   ]
  },
  {
   "cell_type": "code",
   "execution_count": 59,
   "id": "b9e80df3",
   "metadata": {},
   "outputs": [
    {
     "data": {
      "text/plain": [
       "datetime.timedelta(days=17, seconds=7179)"
      ]
     },
     "execution_count": 59,
     "metadata": {},
     "output_type": "execute_result"
    }
   ],
   "source": [
    "dt2 = datetime(2011,11,15,22,30) \n",
    "delta =dt2 - dt #dt = datetime(2011,10,29,20,30,21)\n",
    "delta"
   ]
  },
  {
   "cell_type": "code",
   "execution_count": 60,
   "id": "5929d0ce",
   "metadata": {},
   "outputs": [
    {
     "data": {
      "text/plain": [
       "datetime.timedelta"
      ]
     },
     "execution_count": 60,
     "metadata": {},
     "output_type": "execute_result"
    }
   ],
   "source": [
    "type(delta)"
   ]
  },
  {
   "cell_type": "code",
   "execution_count": 61,
   "id": "1beea8d9",
   "metadata": {},
   "outputs": [
    {
     "data": {
      "text/plain": [
       "datetime.datetime(2011, 11, 15, 22, 30)"
      ]
     },
     "execution_count": 61,
     "metadata": {},
     "output_type": "execute_result"
    }
   ],
   "source": [
    "dt\n",
    "dt + delta"
   ]
  },
  {
   "cell_type": "markdown",
   "id": "6b3796d2",
   "metadata": {},
   "source": [
    "### Control Flow\n",
    "Python has several built-in keywords for conditonal logic, loops, and other standard control flow concepts found in other porgramming languages.\n",
    "\n",
    "#### if, elif, and else\n",
    "The if statement is one of the most well-known control flow statement types.\n",
    "\n",
    "It checks a conditon that, if True, evaluates the code in the block that follows: "
   ]
  },
  {
   "cell_type": "code",
   "execution_count": 63,
   "id": "140a8f6e",
   "metadata": {},
   "outputs": [
    {
     "name": "stdout",
     "output_type": "stream",
     "text": [
      "It is negative\n"
     ]
    }
   ],
   "source": [
    "x = -5\n",
    "if x < 0:\n",
    "    print('It is negative')"
   ]
  },
  {
   "cell_type": "markdown",
   "id": "8bbe31c7",
   "metadata": {},
   "source": [
    "An if statement can be optionally followed by one or mor elif blocks and a catch all else block if all of the conditions are False"
   ]
  },
  {
   "cell_type": "code",
   "execution_count": 64,
   "id": "15868ad9",
   "metadata": {},
   "outputs": [
    {
     "name": "stdout",
     "output_type": "stream",
     "text": [
      "It is negative\n"
     ]
    }
   ],
   "source": [
    "x = -5\n",
    "\n",
    "if x < 0 :\n",
    "    print('It is negative')\n",
    "elif x == 0 :\n",
    "    print('Equal to zero')\n",
    "elif 0 < x < 5 :\n",
    "    print('Postive but smaller than 5')\n",
    "else :\n",
    "    print('Postive and larger than or equal to 5')"
   ]
  },
  {
   "cell_type": "markdown",
   "id": "7356d8fc",
   "metadata": {},
   "source": [
    "If any of the conditions is True, no futher elif or else blocks will be reached.\n",
    "\n",
    "With a compound condition using and or or, conditions are evaluated left to right and will short-circuit: "
   ]
  },
  {
   "cell_type": "code",
   "execution_count": 65,
   "id": "707cca4e",
   "metadata": {},
   "outputs": [
    {
     "name": "stdout",
     "output_type": "stream",
     "text": [
      "Made it\n"
     ]
    }
   ],
   "source": [
    "a = 5; b = 7\n",
    "c = 8; d = 4\n",
    "if a < b or c > d :\n",
    "    print('Made it')"
   ]
  },
  {
   "cell_type": "markdown",
   "id": "8be82ece",
   "metadata": {},
   "source": [
    "In this examplme, the comparison c > d never get evaluated because the first compar- ison was True.\n",
    "It is also possible to chain comparisons:"
   ]
  },
  {
   "cell_type": "code",
   "execution_count": 66,
   "id": "2540a21a",
   "metadata": {},
   "outputs": [
    {
     "data": {
      "text/plain": [
       "True"
      ]
     },
     "execution_count": 66,
     "metadata": {},
     "output_type": "execute_result"
    }
   ],
   "source": [
    "4 > 3 > 2 > 1"
   ]
  },
  {
   "cell_type": "code",
   "execution_count": 67,
   "id": "bccbfb5a",
   "metadata": {},
   "outputs": [
    {
     "data": {
      "text/plain": [
       "True"
      ]
     },
     "execution_count": 67,
     "metadata": {},
     "output_type": "execute_result"
    }
   ],
   "source": [
    "3 > 5 or 2 > 1"
   ]
  },
  {
   "cell_type": "code",
   "execution_count": 68,
   "id": "7a01910b",
   "metadata": {},
   "outputs": [
    {
     "data": {
      "text/plain": [
       "False"
      ]
     },
     "execution_count": 68,
     "metadata": {},
     "output_type": "execute_result"
    }
   ],
   "source": [
    "3>5>2>1"
   ]
  },
  {
   "cell_type": "markdown",
   "id": "7aa28a39",
   "metadata": {},
   "source": [
    "#### for loops\n",
    "for loops are fir iterating over a collection (like a list or tuple) or an iterater. They standard syntax for a for loop is:\n",
    "\n",
    " for value in collection:\n",
    "    # do something with value\n",
    "\n",
    "You can advance a for loop to the next iteration, skipping the remainder of the block, using the continue keyword.\n",
    "\n",
    "Consider this code, which sums up integers in a list and skips None values"
   ]
  },
  {
   "cell_type": "code",
   "execution_count": 69,
   "id": "5ff92cad",
   "metadata": {},
   "outputs": [
    {
     "ename": "TypeError",
     "evalue": "unsupported operand type(s) for +=: 'int' and 'NoneType'",
     "output_type": "error",
     "traceback": [
      "\u001b[1;31m---------------------------------------------------------------------------\u001b[0m",
      "\u001b[1;31mTypeError\u001b[0m                                 Traceback (most recent call last)",
      "Input \u001b[1;32mIn [69]\u001b[0m, in \u001b[0;36m<cell line: 4>\u001b[1;34m()\u001b[0m\n\u001b[0;32m      2\u001b[0m total \u001b[38;5;241m=\u001b[39m \u001b[38;5;241m0\u001b[39m\n\u001b[0;32m      4\u001b[0m \u001b[38;5;28;01mfor\u001b[39;00m value \u001b[38;5;129;01min\u001b[39;00m sequnce:\n\u001b[1;32m----> 5\u001b[0m     total \u001b[38;5;241m+\u001b[39m\u001b[38;5;241m=\u001b[39m value\n",
      "\u001b[1;31mTypeError\u001b[0m: unsupported operand type(s) for +=: 'int' and 'NoneType'"
     ]
    }
   ],
   "source": [
    "sequnce = [1,2,None,4,None,5]\n",
    "total = 0\n",
    "\n",
    "for value in sequnce:\n",
    "    total += value"
   ]
  },
  {
   "cell_type": "code",
   "execution_count": 70,
   "id": "a6298005",
   "metadata": {},
   "outputs": [],
   "source": [
    "sequnce = [1,2,None,4,None,5]\n",
    "total = 0\n",
    "\n",
    "for value in sequnce:\n",
    "    if value is None:\n",
    "        continue\n",
    "    total += value"
   ]
  },
  {
   "cell_type": "code",
   "execution_count": 71,
   "id": "4b96b549",
   "metadata": {},
   "outputs": [
    {
     "data": {
      "text/plain": [
       "12"
      ]
     },
     "execution_count": 71,
     "metadata": {},
     "output_type": "execute_result"
    }
   ],
   "source": [
    "total"
   ]
  },
  {
   "cell_type": "markdown",
   "id": "eac7a314",
   "metadata": {},
   "source": [
    "A for loop cna be exited altogether with the break keyword. This code sums ele- ments of the list until a 5 is reached:"
   ]
  },
  {
   "cell_type": "code",
   "execution_count": 72,
   "id": "973ab6e3",
   "metadata": {},
   "outputs": [],
   "source": [
    "sequnce = [1,2,0,4,6,5,2,1]\n",
    "total_until_5 = 0\n",
    "\n",
    "for value in sequnce:\n",
    "    if value == 5:\n",
    "        break\n",
    "    total_until_5 += value"
   ]
  },
  {
   "cell_type": "code",
   "execution_count": 73,
   "id": "b868eca6",
   "metadata": {},
   "outputs": [
    {
     "data": {
      "text/plain": [
       "13"
      ]
     },
     "execution_count": 73,
     "metadata": {},
     "output_type": "execute_result"
    }
   ],
   "source": [
    "total_until_5 #값이 5가 되면 멈추는 조건으로 1+2+0+4+6까지 계산후 5가 오기에 for문이 종료된다 "
   ]
  },
  {
   "cell_type": "markdown",
   "id": "e9546fb5",
   "metadata": {},
   "source": [
    "The break keyword only terminates the innermost for loop; any outer for loops will continue to run:"
   ]
  },
  {
   "cell_type": "code",
   "execution_count": 74,
   "id": "9d9b2b98",
   "metadata": {},
   "outputs": [
    {
     "name": "stdout",
     "output_type": "stream",
     "text": [
      "(0, 0)\n",
      "(1, 0)\n",
      "(1, 1)\n",
      "(2, 0)\n",
      "(2, 1)\n",
      "(2, 2)\n",
      "(3, 0)\n",
      "(3, 1)\n",
      "(3, 2)\n",
      "(3, 3)\n"
     ]
    }
   ],
   "source": [
    "for i in range(4):\n",
    "    for j in range(4):\n",
    "        if j>i:\n",
    "            break\n",
    "        print((i,j))"
   ]
  },
  {
   "cell_type": "markdown",
   "id": "754874bd",
   "metadata": {},
   "source": [
    "As we will see in more detail, if the elements in the collection or iterator are sequences (tuples or list, say),\n",
    "they can be conveniently unpacked into variables in the for loop statement:"
   ]
  },
  {
   "cell_type": "markdown",
   "id": "70b03c91",
   "metadata": {},
   "source": [
    "for a,b,c in iterator:\n",
    "    # do something"
   ]
  },
  {
   "cell_type": "code",
   "execution_count": 1,
   "id": "962950a3",
   "metadata": {},
   "outputs": [
    {
     "name": "stdout",
     "output_type": "stream",
     "text": [
      "1 2 3\n",
      "4 5 6\n",
      "7 8 9\n"
     ]
    }
   ],
   "source": [
    "for a,b,c in [[1,2,3],[4,5,6],[7,8,9]]:\n",
    "    print(a,b,c)"
   ]
  },
  {
   "cell_type": "markdown",
   "id": "43562725",
   "metadata": {},
   "source": [
    "##### While loops\n",
    "A while looops specifies a conditon and a block o f code that is to be excused until the condition evaluates to False or the loops is explicitly ended with break:"
   ]
  },
  {
   "cell_type": "code",
   "execution_count": 7,
   "id": "95a979dc",
   "metadata": {},
   "outputs": [],
   "source": [
    "x = 256\n",
    "total = 0\n",
    "while x > 0:\n",
    "    if total > 500 :\n",
    "        break\n",
    "    total += x\n",
    "    x = x //2"
   ]
  },
  {
   "cell_type": "code",
   "execution_count": 8,
   "id": "fdbc7a6f",
   "metadata": {},
   "outputs": [
    {
     "data": {
      "text/plain": [
       "504"
      ]
     },
     "execution_count": 8,
     "metadata": {},
     "output_type": "execute_result"
    }
   ],
   "source": [
    "total #504"
   ]
  },
  {
   "cell_type": "code",
   "execution_count": 9,
   "id": "7d0e9cf1",
   "metadata": {},
   "outputs": [
    {
     "data": {
      "text/plain": [
       "4"
      ]
     },
     "execution_count": 9,
     "metadata": {},
     "output_type": "execute_result"
    }
   ],
   "source": [
    "x"
   ]
  },
  {
   "cell_type": "code",
   "execution_count": 10,
   "id": "90257023",
   "metadata": {},
   "outputs": [
    {
     "data": {
      "text/plain": [
       "504"
      ]
     },
     "execution_count": 10,
     "metadata": {},
     "output_type": "execute_result"
    }
   ],
   "source": [
    "256+128+64+32+16+8"
   ]
  },
  {
   "cell_type": "markdown",
   "id": "b962feb6",
   "metadata": {},
   "source": [
    "##### pass\n",
    "pass is the \"no-op\"(No Operation) statement in Python. It can be used in block where no action is to be taken (or as a placeholder for code not yer implemented); it is only required\n",
    "becauese Python uese whitespace to delimit blocks:"
   ]
  },
  {
   "cell_type": "code",
   "execution_count": 1,
   "id": "94688b76",
   "metadata": {},
   "outputs": [
    {
     "name": "stdout",
     "output_type": "stream",
     "text": [
      "negative\n"
     ]
    }
   ],
   "source": [
    "x = -1\n",
    "\n",
    "if x < 0:\n",
    "    print('negative')\n",
    "elif x == 0:\n",
    "    # TODO: put something smart here\n",
    "    pass\n",
    "else:\n",
    "    print('Postive!')"
   ]
  },
  {
   "cell_type": "markdown",
   "id": "7ba39492",
   "metadata": {},
   "source": [
    "##### range\n",
    "The range function returns an iterator that yields a sequnce of evenly spaced intergers:"
   ]
  },
  {
   "cell_type": "code",
   "execution_count": 2,
   "id": "c0d7d3ac",
   "metadata": {},
   "outputs": [
    {
     "data": {
      "text/plain": [
       "range(0, 10)"
      ]
     },
     "execution_count": 2,
     "metadata": {},
     "output_type": "execute_result"
    }
   ],
   "source": [
    "range(10)"
   ]
  },
  {
   "cell_type": "code",
   "execution_count": 3,
   "id": "5734d066",
   "metadata": {},
   "outputs": [
    {
     "data": {
      "text/plain": [
       "[0, 1, 2, 3, 4, 5, 6, 7, 8, 9]"
      ]
     },
     "execution_count": 3,
     "metadata": {},
     "output_type": "execute_result"
    }
   ],
   "source": [
    "list(range(10))"
   ]
  },
  {
   "cell_type": "markdown",
   "id": "a9d3f248",
   "metadata": {},
   "source": [
    "Both a start,end,and step(Which may be negative) can be given:"
   ]
  },
  {
   "cell_type": "code",
   "execution_count": 4,
   "id": "b469028e",
   "metadata": {},
   "outputs": [
    {
     "data": {
      "text/plain": [
       "[0, 2, 4, 6, 8, 10, 12, 14, 16, 18]"
      ]
     },
     "execution_count": 4,
     "metadata": {},
     "output_type": "execute_result"
    }
   ],
   "source": [
    "list(range(0,20,2)) #등차수열"
   ]
  },
  {
   "cell_type": "code",
   "execution_count": 5,
   "id": "910ebbad",
   "metadata": {},
   "outputs": [
    {
     "data": {
      "text/plain": [
       "[5, 4, 3, 2, 1]"
      ]
     },
     "execution_count": 5,
     "metadata": {},
     "output_type": "execute_result"
    }
   ],
   "source": [
    "list(range(5,0,-1)) #리버스 인덱스"
   ]
  },
  {
   "cell_type": "markdown",
   "id": "0524bc2f",
   "metadata": {},
   "source": [
    "As you can see, range prodices integers up to but not including the endpoint.\n",
    "\n",
    "A common use of range is for iterating through sequcnes by index:"
   ]
  },
  {
   "cell_type": "code",
   "execution_count": 6,
   "id": "4dfe2e35",
   "metadata": {},
   "outputs": [],
   "source": [
    "seq = [1,2,3,4]\n",
    "for i in range(len(seq)):\n",
    "    val = seq[i]\n"
   ]
  },
  {
   "cell_type": "code",
   "execution_count": 7,
   "id": "c5069346",
   "metadata": {},
   "outputs": [
    {
     "data": {
      "text/plain": [
       "4"
      ]
     },
     "execution_count": 7,
     "metadata": {},
     "output_type": "execute_result"
    }
   ],
   "source": [
    "val"
   ]
  },
  {
   "cell_type": "markdown",
   "id": "4ceb4245",
   "metadata": {},
   "source": [
    "While you can use fuctions loke list to store all the integers generated by range in some other data structure, often the default iterator form will be what you want. This snippet sums all numbers form 0 to 99,999 that are multiples of 3 or 5:"
   ]
  },
  {
   "cell_type": "code",
   "execution_count": 8,
   "id": "8776a3c8",
   "metadata": {},
   "outputs": [],
   "source": [
    "sum = 0\n",
    "for i in range(10000) :\n",
    "    # % is the modulo operator\n",
    "    if i % 3 == 0 or i % 5 == 0:\n",
    "        sum += 1"
   ]
  },
  {
   "cell_type": "markdown",
   "id": "f35f6d02",
   "metadata": {},
   "source": [
    "#### Ternary expressions\n",
    "value = true - expr if conditon else false - expr\n",
    "\n",
    "Here, true-expr and false-expr cna be any Python expressions. It has the identical effect as the more verbose:"
   ]
  },
  {
   "cell_type": "markdown",
   "id": "370c32e4",
   "metadata": {},
   "source": [
    "if conditon:\n",
    "  value = true-expr\n",
    "else:\n",
    "  value = false-expr"
   ]
  },
  {
   "cell_type": "code",
   "execution_count": 9,
   "id": "76127411",
   "metadata": {},
   "outputs": [
    {
     "data": {
      "text/plain": [
       "'Non-negative'"
      ]
     },
     "execution_count": 9,
     "metadata": {},
     "output_type": "execute_result"
    }
   ],
   "source": [
    "x = 5\n",
    "'Non-negative' if x >= 0 else 'Negative'"
   ]
  },
  {
   "cell_type": "code",
   "execution_count": 11,
   "id": "35bd1c6c",
   "metadata": {},
   "outputs": [
    {
     "data": {
      "text/plain": [
       "100"
      ]
     },
     "execution_count": 11,
     "metadata": {},
     "output_type": "execute_result"
    }
   ],
   "source": [
    "x = 5\n",
    "\n",
    "a = 100 if x>= 0 else -100\n",
    "a"
   ]
  }
 ],
 "metadata": {
  "kernelspec": {
   "display_name": "Python 3 (ipykernel)",
   "language": "python",
   "name": "python3"
  },
  "language_info": {
   "codemirror_mode": {
    "name": "ipython",
    "version": 3
   },
   "file_extension": ".py",
   "mimetype": "text/x-python",
   "name": "python",
   "nbconvert_exporter": "python",
   "pygments_lexer": "ipython3",
   "version": "3.9.13"
  }
 },
 "nbformat": 4,
 "nbformat_minor": 5
}
