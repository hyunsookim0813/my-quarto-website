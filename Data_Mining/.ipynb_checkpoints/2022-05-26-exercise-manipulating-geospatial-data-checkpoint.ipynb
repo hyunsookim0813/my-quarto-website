{
 "cells": [
  {
   "cell_type": "markdown",
   "metadata": {},
   "source": [
    "---\n",
    "title: 'Manipulating Geospatial Data'\n",
    "author: 'Hyunsoo Kim'\n",
    "date: '2022-05-26'\n",
    "categories: [Python, Pandas, Folium, Geopandas]\n",
    "image: folium.png\n",
    "jupyter: python3\n",
    "page-layout: full\n",
    "---\n",
    "\n",
    "> Manipulating Geospatial Data"
   ]
  },
  {
   "cell_type": "markdown",
   "metadata": {},
   "source": [
    "**This notebook is an exercise in the [Geospatial Analysis](https://www.kaggle.com/learn/geospatial-analysis) course.  You can reference the tutorial at [this link](https://www.kaggle.com/alexisbcook/manipulating-geospatial-data).**\n",
    "\n",
    "---\n"
   ]
  },
  {
   "cell_type": "code",
   "execution_count": 1,
   "metadata": {
    "execution": {
     "iopub.execute_input": "2022-05-26T14:01:55.273948Z",
     "iopub.status.busy": "2022-05-26T14:01:55.272972Z",
     "iopub.status.idle": "2022-05-26T14:01:57.604007Z",
     "shell.execute_reply": "2022-05-26T14:01:57.603066Z",
     "shell.execute_reply.started": "2022-05-26T14:01:55.273844Z"
    }
   },
   "outputs": [],
   "source": [
    "import math\n",
    "import pandas as pd\n",
    "import geopandas as gpd\n",
    "#from geopy.geocoders import Nominatim            # What you'd normally run\n",
    "from learntools.geospatial.tools import Nominatim # Just for this exercise\n",
    "\n",
    "import folium \n",
    "from folium import Marker\n",
    "from folium.plugins import MarkerCluster\n",
    "\n",
    "from learntools.core import binder\n",
    "binder.bind(globals())\n",
    "from learntools.geospatial.ex4 import *"
   ]
  },
  {
   "cell_type": "markdown",
   "metadata": {},
   "source": [
    "You'll use the `embed_map()` function from the previous exercise to visualize your maps."
   ]
  },
  {
   "cell_type": "code",
   "execution_count": 2,
   "metadata": {
    "execution": {
     "iopub.execute_input": "2022-05-26T14:01:58.294780Z",
     "iopub.status.busy": "2022-05-26T14:01:58.293855Z",
     "iopub.status.idle": "2022-05-26T14:01:58.301701Z",
     "shell.execute_reply": "2022-05-26T14:01:58.300690Z",
     "shell.execute_reply.started": "2022-05-26T14:01:58.294734Z"
    }
   },
   "outputs": [],
   "source": [
    "def embed_map(m, file_name):\n",
    "    from IPython.display import IFrame\n",
    "    m.save(file_name)\n",
    "    return IFrame(file_name, width='100%', height='500px')"
   ]
  },
  {
   "cell_type": "markdown",
   "metadata": {},
   "source": [
    "# Exercises\n",
    "\n",
    "### 1) Geocode the missing locations.\n",
    "\n",
    "Run the next code cell to create a DataFrame `starbucks` containing Starbucks locations in the state of California."
   ]
  },
  {
   "cell_type": "code",
   "execution_count": 3,
   "metadata": {
    "execution": {
     "iopub.execute_input": "2022-05-26T14:02:01.615311Z",
     "iopub.status.busy": "2022-05-26T14:02:01.614906Z",
     "iopub.status.idle": "2022-05-26T14:02:01.652411Z",
     "shell.execute_reply": "2022-05-26T14:02:01.651438Z",
     "shell.execute_reply.started": "2022-05-26T14:02:01.615278Z"
    }
   },
   "outputs": [],
   "source": [
    "# Load and preview Starbucks locations in California\n",
    "starbucks = pd.read_csv(\"../input/geospatial-learn-course-data/starbucks_locations.csv\")\n",
    "starbucks.head()"
   ]
  },
  {
   "cell_type": "markdown",
   "metadata": {},
   "source": [
    "Most of the stores have known (latitude, longitude) locations.  But, all of the locations in the city of Berkeley are missing."
   ]
  },
  {
   "cell_type": "code",
   "execution_count": 4,
   "metadata": {
    "execution": {
     "iopub.execute_input": "2022-05-26T14:02:06.077398Z",
     "iopub.status.busy": "2022-05-26T14:02:06.076843Z",
     "iopub.status.idle": "2022-05-26T14:02:06.098760Z",
     "shell.execute_reply": "2022-05-26T14:02:06.096652Z",
     "shell.execute_reply.started": "2022-05-26T14:02:06.077365Z"
    }
   },
   "outputs": [],
   "source": [
    "# How many rows in each column have missing values?\n",
    "print(starbucks.isnull().sum())\n",
    "\n",
    "# View rows with missing locations\n",
    "rows_with_missing = starbucks[starbucks[\"City\"]==\"Berkeley\"]\n",
    "rows_with_missing"
   ]
  },
  {
   "cell_type": "markdown",
   "metadata": {},
   "source": [
    "Use the code cell below to fill in these values with the Nominatim geocoder.\n",
    "\n",
    "Note that in the tutorial, we used `Nominatim()` (from `geopy.geocoders`) to geocode values, and this is what you can use in your own projects outside of this course.  \n",
    "\n",
    "튜토리얼에서 우리는 값을 지오코딩하기 위해 `Nominatim()`(`geopy.geocoders`에서)을 사용했으며 이것은 이 과정 이외의 자신의 프로젝트에서 사용할 수 있는 것입니다.\n",
    "\n",
    "In this exercise, you will use a slightly different function `Nominatim()` (from `learntools.geospatial.tools`).  This function was imported at the top of the notebook and works identically to the function from GeoPandas.\n",
    "\n",
    "이 연습에서는 약간 다른 함수 `Nominatim()`(`learntools.geospatial.tools`에서)을 사용합니다. 이 기능은 노트북 상단에서 가져온 것으로 GeoPandas의 기능과 동일하게 작동합니다.\n",
    "\n",
    "So, in other words, as long as: \n",
    "- you don't change the import statements at the top of the notebook, and \n",
    "- you call the geocoding function as `geocode()` in the code cell below, \n",
    "\n",
    "your code will work as intended!"
   ]
  },
  {
   "cell_type": "code",
   "execution_count": 9,
   "metadata": {
    "execution": {
     "iopub.execute_input": "2022-05-26T14:05:33.161225Z",
     "iopub.status.busy": "2022-05-26T14:05:33.160712Z",
     "iopub.status.idle": "2022-05-26T14:05:33.460246Z",
     "shell.execute_reply": "2022-05-26T14:05:33.459484Z",
     "shell.execute_reply.started": "2022-05-26T14:05:33.161179Z"
    }
   },
   "outputs": [],
   "source": [
    "# Create the geocoder\n",
    "geolocator = Nominatim(user_agent=\"kaggle_learn\")\n",
    "\n",
    "# Your code here\n",
    "\n",
    "def my_geocoder(row):\n",
    "    point = geolocator.geocode(row).point\n",
    "    return pd.Series({'Latitude': point.latitude, 'Longitude': point.longitude})\n",
    "\n",
    "berkeley_locations = rows_with_missing.apply(lambda x: my_geocoder(x['Address']), axis=1)\n",
    "starbucks.update(berkeley_locations)\n",
    "\n",
    "# Check your answer\n",
    "q_1.check()"
   ]
  },
  {
   "cell_type": "code",
   "execution_count": 10,
   "metadata": {
    "execution": {
     "iopub.execute_input": "2022-05-26T14:05:36.577530Z",
     "iopub.status.busy": "2022-05-26T14:05:36.577103Z",
     "iopub.status.idle": "2022-05-26T14:05:36.581601Z",
     "shell.execute_reply": "2022-05-26T14:05:36.580818Z",
     "shell.execute_reply.started": "2022-05-26T14:05:36.577497Z"
    }
   },
   "outputs": [],
   "source": [
    "# Line below will give you solution code\n",
    "#q_1.solution()"
   ]
  },
  {
   "cell_type": "markdown",
   "metadata": {},
   "source": [
    "### 2) View Berkeley locations.\n",
    "\n",
    "Let's take a look at the locations you just found.  Visualize the (latitude, longitude) locations in Berkeley in the OpenStreetMap style. \n",
    "\n",
    "방금 찾은 위치를 살펴보겠습니다. OpenStreetMap 스타일로 버클리의 (위도, 경도) 위치를 시각화합니다."
   ]
  },
  {
   "cell_type": "code",
   "execution_count": 12,
   "metadata": {
    "execution": {
     "iopub.execute_input": "2022-05-26T14:06:25.466640Z",
     "iopub.status.busy": "2022-05-26T14:06:25.466167Z",
     "iopub.status.idle": "2022-05-26T14:06:25.495640Z",
     "shell.execute_reply": "2022-05-26T14:06:25.494914Z",
     "shell.execute_reply.started": "2022-05-26T14:06:25.466602Z"
    }
   },
   "outputs": [],
   "source": [
    "# Create a base map\n",
    "m_2 = folium.Map(location=[37.88,-122.26], zoom_start=13)\n",
    "\n",
    "# Your code here: Add a marker for each Berkeley location\n",
    "for idx, row in starbucks[starbucks[\"City\"]=='Berkeley'].iterrows():\n",
    "    Marker([row['Latitude'], row['Longitude']]).add_to(m_2)\n",
    "\n",
    "# Uncomment to see a hint\n",
    "#q_2.a.hint()\n",
    "\n",
    "# Show the map\n",
    "embed_map(m_2, 'q_2.html')"
   ]
  },
  {
   "cell_type": "code",
   "execution_count": 13,
   "metadata": {
    "execution": {
     "iopub.execute_input": "2022-05-26T14:06:32.863898Z",
     "iopub.status.busy": "2022-05-26T14:06:32.863288Z",
     "iopub.status.idle": "2022-05-26T14:06:32.872991Z",
     "shell.execute_reply": "2022-05-26T14:06:32.872029Z",
     "shell.execute_reply.started": "2022-05-26T14:06:32.863852Z"
    }
   },
   "outputs": [],
   "source": [
    "# Get credit for your work after you have created a map\n",
    "q_2.a.check()\n",
    "\n",
    "# Uncomment to see our solution (your code may look different!)\n",
    "#q_2.a.solution()"
   ]
  },
  {
   "cell_type": "markdown",
   "metadata": {},
   "source": [
    "Considering only the five locations in Berkeley, how many of the (latitude, longitude) locations seem potentially correct (are located in the correct city)?"
   ]
  },
  {
   "cell_type": "code",
   "execution_count": 14,
   "metadata": {
    "execution": {
     "iopub.execute_input": "2022-05-26T14:06:35.718944Z",
     "iopub.status.busy": "2022-05-26T14:06:35.718378Z",
     "iopub.status.idle": "2022-05-26T14:06:35.727601Z",
     "shell.execute_reply": "2022-05-26T14:06:35.726617Z",
     "shell.execute_reply.started": "2022-05-26T14:06:35.718898Z"
    }
   },
   "outputs": [],
   "source": [
    "# View the solution (Run this code cell to receive credit!)\n",
    "q_2.b.solution()"
   ]
  },
  {
   "cell_type": "markdown",
   "metadata": {},
   "source": [
    "### 3) Consolidate your data.\n",
    "\n",
    "Run the code below to load a GeoDataFrame `CA_counties` containing the name, area (in square kilometers), and a unique id (in the \"GEOID\" column) for each county in the state of California.  The \"geometry\" column contains a polygon with county boundaries."
   ]
  },
  {
   "cell_type": "code",
   "execution_count": 15,
   "metadata": {
    "execution": {
     "iopub.execute_input": "2022-05-26T14:06:38.446586Z",
     "iopub.status.busy": "2022-05-26T14:06:38.445990Z",
     "iopub.status.idle": "2022-05-26T14:06:38.770515Z",
     "shell.execute_reply": "2022-05-26T14:06:38.769763Z",
     "shell.execute_reply.started": "2022-05-26T14:06:38.446526Z"
    }
   },
   "outputs": [],
   "source": [
    "CA_counties = gpd.read_file(\"../input/geospatial-learn-course-data/CA_county_boundaries/CA_county_boundaries/CA_county_boundaries.shp\")\n",
    "CA_counties.head()"
   ]
  },
  {
   "cell_type": "markdown",
   "metadata": {},
   "source": [
    "Next, we create three DataFrames:\n",
    "- `CA_pop` contains an estimate of the population of each county.\n",
    "- `CA_high_earners` contains the number of households with an income of at least $150,000 per year.\n",
    "- `CA_median_age` contains the median age for each county."
   ]
  },
  {
   "cell_type": "code",
   "execution_count": 39,
   "metadata": {
    "execution": {
     "iopub.execute_input": "2022-05-26T14:15:12.489223Z",
     "iopub.status.busy": "2022-05-26T14:15:12.488841Z",
     "iopub.status.idle": "2022-05-26T14:15:12.509892Z",
     "shell.execute_reply": "2022-05-26T14:15:12.509132Z",
     "shell.execute_reply.started": "2022-05-26T14:15:12.489193Z"
    }
   },
   "outputs": [],
   "source": [
    "CA_pop = pd.read_csv(\"../input/geospatial-learn-course-data/CA_county_population.csv\", index_col=\"GEOID\")\n",
    "CA_high_earners = pd.read_csv(\"../input/geospatial-learn-course-data/CA_county_high_earners.csv\", index_col=\"GEOID\")\n",
    "CA_median_age = pd.read_csv(\"../input/geospatial-learn-course-data/CA_county_median_age.csv\", index_col=\"GEOID\")"
   ]
  },
  {
   "cell_type": "markdown",
   "metadata": {},
   "source": [
    "Use the next code cell to join the `CA_counties` GeoDataFrame with `CA_pop`, `CA_high_earners`, and `CA_median_age`.\n",
    "\n",
    "Name the resultant GeoDataFrame `CA_stats`, and make sure it has 8 columns: \"GEOID\", \"name\", \"area_sqkm\", \"geometry\", \"population\", \"high_earners\", and \"median_age\".  Also, make sure the CRS is set to `{'init': 'epsg:4326'}`.\n",
    "\n",
    "결과 GeoDataFrame의 이름을 `CA_stats`로 지정하고 \"GEOID\", \"name\", \"area_sqkm\", \"geometry\", \"population\", \"high_earners\" 및 \"median_age\"의 8개 열이 있는지 확인합니다. 또한 CRS가 `{'init': 'epsg:4326'}`으로 설정되어 있는지 확인하십시오."
   ]
  },
  {
   "cell_type": "code",
   "execution_count": 40,
   "metadata": {
    "execution": {
     "iopub.execute_input": "2022-05-26T14:15:14.951083Z",
     "iopub.status.busy": "2022-05-26T14:15:14.949908Z",
     "iopub.status.idle": "2022-05-26T14:15:14.969895Z",
     "shell.execute_reply": "2022-05-26T14:15:14.968864Z",
     "shell.execute_reply.started": "2022-05-26T14:15:14.951043Z"
    }
   },
   "outputs": [],
   "source": [
    "# Your code here\n",
    "cols_to_add = CA_pop.join([CA_high_earners, CA_median_age]).reset_index()\n",
    "CA_stats = CA_counties.merge(cols_to_add, on=\"GEOID\")\n",
    "\n",
    "# Check your answer\n",
    "q_3.check()"
   ]
  },
  {
   "cell_type": "code",
   "execution_count": 41,
   "metadata": {
    "execution": {
     "iopub.execute_input": "2022-05-26T14:15:29.824112Z",
     "iopub.status.busy": "2022-05-26T14:15:29.823710Z",
     "iopub.status.idle": "2022-05-26T14:15:29.829236Z",
     "shell.execute_reply": "2022-05-26T14:15:29.828206Z",
     "shell.execute_reply.started": "2022-05-26T14:15:29.824079Z"
    }
   },
   "outputs": [],
   "source": [
    "# Lines below will give you a hint or solution code\n",
    "#q_3.hint()\n",
    "#q_3.solution()"
   ]
  },
  {
   "cell_type": "markdown",
   "metadata": {},
   "source": [
    "Now that we have all of the data in one place, it's much easier to calculate statistics that use a combination of columns.  Run the next code cell to create a \"density\" column with the population density."
   ]
  },
  {
   "cell_type": "code",
   "execution_count": 26,
   "metadata": {
    "execution": {
     "iopub.execute_input": "2022-05-26T14:12:57.079377Z",
     "iopub.status.busy": "2022-05-26T14:12:57.078952Z",
     "iopub.status.idle": "2022-05-26T14:12:57.086793Z",
     "shell.execute_reply": "2022-05-26T14:12:57.085694Z",
     "shell.execute_reply.started": "2022-05-26T14:12:57.079330Z"
    }
   },
   "outputs": [],
   "source": [
    "CA_stats[\"density\"] = CA_stats[\"population\"] / CA_stats[\"area_sqkm\"]"
   ]
  },
  {
   "cell_type": "markdown",
   "metadata": {},
   "source": [
    "### 4) Which counties look promising?\n",
    "\n",
    "Collapsing all of the information into a single GeoDataFrame also makes it much easier to select counties that meet specific criteria.\n",
    "\n",
    "Use the next code cell to create a GeoDataFrame `sel_counties` that contains a subset of the rows (and all of the columns) from the `CA_stats` GeoDataFrame.  In particular, you should select counties where:\n",
    "\n",
    "다음 코드 셀을 사용하여 `CA_stats` GeoDataFrame에서 행(및 모든 열)의 하위 집합을 포함하는 GeoDataFrame `sel_counties`를 만듭니다. 특히 다음과 같은 카운티를 선택해야 합니다.\n",
    "\n",
    "- there are at least 100,000 households making \\$150,000 per year,\n",
    "- the median age is less than 38.5, and\n",
    "- the density of inhabitants is at least 285 (per square kilometer).\n",
    "\n",
    "Additionally, selected counties should satisfy at least one of the following criteria:\n",
    "- there are at least 500,000 households making \\$150,000 per year,\n",
    "- the median age is less than 35.5, or\n",
    "- the density of inhabitants is at least 1400 (per square kilometer)."
   ]
  },
  {
   "cell_type": "code",
   "execution_count": 28,
   "metadata": {
    "execution": {
     "iopub.execute_input": "2022-05-26T14:13:23.409757Z",
     "iopub.status.busy": "2022-05-26T14:13:23.409324Z",
     "iopub.status.idle": "2022-05-26T14:13:23.429116Z",
     "shell.execute_reply": "2022-05-26T14:13:23.428374Z",
     "shell.execute_reply.started": "2022-05-26T14:13:23.409721Z"
    }
   },
   "outputs": [],
   "source": [
    "# Your code here\n",
    "sel_counties = CA_stats[((CA_stats.high_earners > 100000) &\n",
    "                         (CA_stats.median_age < 38.5) &\n",
    "                         (CA_stats.density > 285) &\n",
    "                         ((CA_stats.median_age < 35.5) |\n",
    "                         (CA_stats.density > 1400) |\n",
    "                         (CA_stats.high_earners > 500000)))]\n",
    "\n",
    "# Check your answer\n",
    "q_4.check()"
   ]
  },
  {
   "cell_type": "code",
   "execution_count": 29,
   "metadata": {
    "execution": {
     "iopub.execute_input": "2022-05-26T14:13:30.532376Z",
     "iopub.status.busy": "2022-05-26T14:13:30.531947Z",
     "iopub.status.idle": "2022-05-26T14:13:30.536519Z",
     "shell.execute_reply": "2022-05-26T14:13:30.535653Z",
     "shell.execute_reply.started": "2022-05-26T14:13:30.532324Z"
    }
   },
   "outputs": [],
   "source": [
    "# Lines below will give you a hint or solution code\n",
    "#q_4.hint()\n",
    "#q_4.solution()"
   ]
  },
  {
   "cell_type": "markdown",
   "metadata": {},
   "source": [
    "### 5) How many stores did you identify?\n",
    "\n",
    "When looking for the next Starbucks Reserve Roastery location, you'd like to consider all of the stores within the counties that you selected.  So, how many stores are within the selected counties?\n",
    "\n",
    "To prepare to answer this question, run the next code cell to create a GeoDataFrame `starbucks_gdf` with all of the starbucks locations."
   ]
  },
  {
   "cell_type": "code",
   "execution_count": 30,
   "metadata": {
    "execution": {
     "iopub.execute_input": "2022-05-26T14:13:32.919411Z",
     "iopub.status.busy": "2022-05-26T14:13:32.919015Z",
     "iopub.status.idle": "2022-05-26T14:13:32.944689Z",
     "shell.execute_reply": "2022-05-26T14:13:32.943761Z",
     "shell.execute_reply.started": "2022-05-26T14:13:32.919380Z"
    }
   },
   "outputs": [],
   "source": [
    "starbucks_gdf = gpd.GeoDataFrame(starbucks, geometry=gpd.points_from_xy(starbucks.Longitude, starbucks.Latitude))\n",
    "starbucks_gdf.crs = {'init': 'epsg:4326'}"
   ]
  },
  {
   "cell_type": "markdown",
   "metadata": {},
   "source": [
    "So, how many stores are in the counties you selected?\n",
    "\n",
    "그렇다면 선택한 카운티에는 몇 개의 매장이 있습니까?"
   ]
  },
  {
   "cell_type": "code",
   "execution_count": 33,
   "metadata": {
    "execution": {
     "iopub.execute_input": "2022-05-26T14:14:04.307002Z",
     "iopub.status.busy": "2022-05-26T14:14:04.306583Z",
     "iopub.status.idle": "2022-05-26T14:14:04.407633Z",
     "shell.execute_reply": "2022-05-26T14:14:04.406685Z",
     "shell.execute_reply.started": "2022-05-26T14:14:04.306968Z"
    }
   },
   "outputs": [],
   "source": [
    "# Fill in your answer\n",
    "locations_of_interest = gpd.sjoin(starbucks_gdf, sel_counties)\n",
    "num_stores = len(locations_of_interest)\n",
    "\n",
    "# Check your answer\n",
    "q_5.check()"
   ]
  },
  {
   "cell_type": "code",
   "execution_count": 34,
   "metadata": {
    "execution": {
     "iopub.execute_input": "2022-05-26T14:14:08.213340Z",
     "iopub.status.busy": "2022-05-26T14:14:08.212528Z",
     "iopub.status.idle": "2022-05-26T14:14:08.217398Z",
     "shell.execute_reply": "2022-05-26T14:14:08.216459Z",
     "shell.execute_reply.started": "2022-05-26T14:14:08.213296Z"
    }
   },
   "outputs": [],
   "source": [
    "# Lines below will give you a hint or solution code\n",
    "#q_5.hint()\n",
    "#q_5.solution()"
   ]
  },
  {
   "cell_type": "markdown",
   "metadata": {},
   "source": [
    "### 6) Visualize the store locations.\n",
    "\n",
    "Create a map that shows the locations of the stores that you identified in the previous question.\n",
    "\n",
    "이전 질문에서 식별한 상점의 위치를 ​​보여주는 지도를 만드십시오."
   ]
  },
  {
   "cell_type": "code",
   "execution_count": 36,
   "metadata": {
    "execution": {
     "iopub.execute_input": "2022-05-26T14:14:34.857666Z",
     "iopub.status.busy": "2022-05-26T14:14:34.857124Z",
     "iopub.status.idle": "2022-05-26T14:14:35.739167Z",
     "shell.execute_reply": "2022-05-26T14:14:35.738411Z",
     "shell.execute_reply.started": "2022-05-26T14:14:34.857621Z"
    }
   },
   "outputs": [],
   "source": [
    "# Create a base map\n",
    "m_6 = folium.Map(location=[37,-120], zoom_start=6)\n",
    "\n",
    "# Your code here: show selected store locations\n",
    "mc = MarkerCluster()\n",
    "\n",
    "locations_of_interest = gpd.sjoin(starbucks_gdf, sel_counties)\n",
    "for idx, row in locations_of_interest.iterrows():\n",
    "    if not math.isnan(row['Longitude']) and not math.isnan(row['Latitude']):\n",
    "        mc.add_child(folium.Marker([row['Latitude'], row['Longitude']]))\n",
    "\n",
    "m_6.add_child(mc)\n",
    "\n",
    "# Uncomment to see a hint\n",
    "#q_6.hint()\n",
    "\n",
    "# Show the map\n",
    "embed_map(m_6, 'q_6.html')"
   ]
  },
  {
   "cell_type": "code",
   "execution_count": 37,
   "metadata": {
    "execution": {
     "iopub.execute_input": "2022-05-26T14:14:39.901714Z",
     "iopub.status.busy": "2022-05-26T14:14:39.901162Z",
     "iopub.status.idle": "2022-05-26T14:14:39.906771Z",
     "shell.execute_reply": "2022-05-26T14:14:39.905665Z",
     "shell.execute_reply.started": "2022-05-26T14:14:39.901641Z"
    }
   },
   "outputs": [],
   "source": [
    "# Get credit for your work after you have created a map\n",
    "#q_6.check()\n",
    "\n",
    "# Uncomment to see our solution (your code may look different!)\n",
    "#q_6.solution()"
   ]
  },
  {
   "cell_type": "markdown",
   "metadata": {},
   "source": [
    "# Keep going\n",
    "\n",
    "Learn about how **[proximity analysis](https://www.kaggle.com/alexisbcook/proximity-analysis)** can help you to understand the relationships between points on a map."
   ]
  },
  {
   "cell_type": "markdown",
   "metadata": {},
   "source": [
    "---\n",
    "\n",
    "\n",
    "\n",
    "\n",
    "*Have questions or comments? Visit the [course discussion forum](https://www.kaggle.com/learn/geospatial-analysis/discussion) to chat with other learners.*"
   ]
  }
 ],
 "metadata": {
  "kernelspec": {
   "display_name": "Python 3 (ipykernel)",
   "language": "python",
   "name": "python3"
  },
  "language_info": {
   "codemirror_mode": {
    "name": "ipython",
    "version": 3
   },
   "file_extension": ".py",
   "mimetype": "text/x-python",
   "name": "python",
   "nbconvert_exporter": "python",
   "pygments_lexer": "ipython3",
   "version": "3.9.13"
  }
 },
 "nbformat": 4,
 "nbformat_minor": 4
}
