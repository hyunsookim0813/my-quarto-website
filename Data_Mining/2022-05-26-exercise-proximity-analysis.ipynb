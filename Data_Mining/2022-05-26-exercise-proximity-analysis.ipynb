{
 "cells": [
  {
   "cell_type": "markdown",
   "metadata": {},
   "source": [
    "---\n",
    "title: 'Proximity Analysis'\n",
    "author: 'Hyunsoo Kim'\n",
    "date: '2022-05-26'\n",
    "categories: [Python, Pandas, Folium, Geopandas]\n",
    "image: folium.png\n",
    "jupyter: python3\n",
    "page-layout: full\n",
    "---\n",
    "\n",
    "> Proximity Analysis"
   ]
  },
  {
   "cell_type": "markdown",
   "metadata": {},
   "source": [
    "**This notebook is an exercise in the [Geospatial Analysis](https://www.kaggle.com/learn/geospatial-analysis) course.  You can reference the tutorial at [this link](https://www.kaggle.com/alexisbcook/proximity-analysis).**\n",
    "\n",
    "---\n"
   ]
  },
  {
   "cell_type": "code",
   "execution_count": 1,
   "metadata": {
    "execution": {
     "iopub.execute_input": "2022-05-26T14:18:41.879514Z",
     "iopub.status.busy": "2022-05-26T14:18:41.878692Z",
     "iopub.status.idle": "2022-05-26T14:19:14.057974Z",
     "shell.execute_reply": "2022-05-26T14:19:14.056937Z",
     "shell.execute_reply.started": "2022-05-26T14:18:41.879408Z"
    }
   },
   "outputs": [],
   "source": [
    "import math\n",
    "import geopandas as gpd\n",
    "import pandas as pd\n",
    "from shapely.geometry import MultiPolygon\n",
    "\n",
    "import folium\n",
    "from folium import Choropleth, Marker\n",
    "from folium.plugins import HeatMap, MarkerCluster\n",
    "\n",
    "from learntools.core import binder\n",
    "binder.bind(globals())\n",
    "from learntools.geospatial.ex5 import *"
   ]
  },
  {
   "cell_type": "markdown",
   "metadata": {},
   "source": [
    "You'll use the `embed_map()` function to visualize your maps."
   ]
  },
  {
   "cell_type": "code",
   "execution_count": 2,
   "metadata": {
    "execution": {
     "iopub.execute_input": "2022-05-26T14:19:14.059891Z",
     "iopub.status.busy": "2022-05-26T14:19:14.059492Z",
     "iopub.status.idle": "2022-05-26T14:19:14.064633Z",
     "shell.execute_reply": "2022-05-26T14:19:14.063911Z",
     "shell.execute_reply.started": "2022-05-26T14:19:14.059860Z"
    }
   },
   "outputs": [],
   "source": [
    "def embed_map(m, file_name):\n",
    "    from IPython.display import IFrame\n",
    "    m.save(file_name)\n",
    "    return IFrame(file_name, width='100%', height='500px')"
   ]
  },
  {
   "cell_type": "markdown",
   "metadata": {},
   "source": [
    "# Exercises\n",
    "\n",
    "### 1) Visualize the collision data.\n",
    "\n",
    "Run the code cell below to load a GeoDataFrame `collisions` tracking major motor vehicle collisions in 2013-2018."
   ]
  },
  {
   "cell_type": "code",
   "execution_count": 3,
   "metadata": {
    "execution": {
     "iopub.execute_input": "2022-05-26T14:19:40.541544Z",
     "iopub.status.busy": "2022-05-26T14:19:40.541070Z",
     "iopub.status.idle": "2022-05-26T14:20:10.538136Z",
     "shell.execute_reply": "2022-05-26T14:20:10.537207Z",
     "shell.execute_reply.started": "2022-05-26T14:19:40.541493Z"
    }
   },
   "outputs": [],
   "source": [
    "collisions = gpd.read_file(\"../input/geospatial-learn-course-data/NYPD_Motor_Vehicle_Collisions/NYPD_Motor_Vehicle_Collisions/NYPD_Motor_Vehicle_Collisions.shp\")\n",
    "collisions.head()"
   ]
  },
  {
   "cell_type": "markdown",
   "metadata": {},
   "source": [
    "Use the \"LATITUDE\" and \"LONGITUDE\" columns to create an interactive map to visualize the collision data.  What type of map do you think is most effective?\n",
    "\n",
    "\"LATITUDE\" 및 \"LONGITUDE\" 열을 사용하여 충돌 데이터를 시각화하는 대화형 맵을 만듭니다. 어떤 유형의 지도가 가장 효과적이라고 생각하십니까?"
   ]
  },
  {
   "cell_type": "code",
   "execution_count": 5,
   "metadata": {
    "execution": {
     "iopub.execute_input": "2022-05-26T14:20:34.689055Z",
     "iopub.status.busy": "2022-05-26T14:20:34.687755Z",
     "iopub.status.idle": "2022-05-26T14:20:37.830770Z",
     "shell.execute_reply": "2022-05-26T14:20:37.829852Z",
     "shell.execute_reply.started": "2022-05-26T14:20:34.689005Z"
    }
   },
   "outputs": [],
   "source": [
    "m_1 = folium.Map(location=[40.7, -74], zoom_start=11) \n",
    "\n",
    "# Your code here: Visualize the collision data\n",
    "HeatMap(data=collisions[['LATITUDE', 'LONGITUDE']], radius=9).add_to(m_1)\n",
    "\n",
    "# Uncomment to see a hint\n",
    "#q_1.hint()\n",
    "\n",
    "# Show the map\n",
    "embed_map(m_1, \"q_1.html\")"
   ]
  },
  {
   "cell_type": "code",
   "execution_count": 6,
   "metadata": {
    "execution": {
     "iopub.execute_input": "2022-05-26T14:20:42.142114Z",
     "iopub.status.busy": "2022-05-26T14:20:42.141354Z",
     "iopub.status.idle": "2022-05-26T14:20:42.145418Z",
     "shell.execute_reply": "2022-05-26T14:20:42.144768Z",
     "shell.execute_reply.started": "2022-05-26T14:20:42.142080Z"
    }
   },
   "outputs": [],
   "source": [
    "# Get credit for your work after you have created a map\n",
    "#q_1.check()\n",
    "\n",
    "# Uncomment to see our solution (your code may look different!)\n",
    "#q_1.solution()"
   ]
  },
  {
   "cell_type": "markdown",
   "metadata": {},
   "source": [
    "### 2) Understand hospital coverage.\n",
    "\n",
    "Run the next code cell to load the hospital data."
   ]
  },
  {
   "cell_type": "code",
   "execution_count": 7,
   "metadata": {
    "execution": {
     "iopub.execute_input": "2022-05-26T14:20:45.312420Z",
     "iopub.status.busy": "2022-05-26T14:20:45.312009Z",
     "iopub.status.idle": "2022-05-26T14:20:45.449123Z",
     "shell.execute_reply": "2022-05-26T14:20:45.447868Z",
     "shell.execute_reply.started": "2022-05-26T14:20:45.312388Z"
    }
   },
   "outputs": [],
   "source": [
    "hospitals = gpd.read_file(\"../input/geospatial-learn-course-data/nyu_2451_34494/nyu_2451_34494/nyu_2451_34494.shp\")\n",
    "hospitals.head()"
   ]
  },
  {
   "cell_type": "markdown",
   "metadata": {},
   "source": [
    "Use the \"latitude\" and \"longitude\" columns to visualize the hospital locations. \n",
    "\n",
    "\"위도\" 및 \"경도\" 열을 사용하여 병원 위치를 시각화합니다."
   ]
  },
  {
   "cell_type": "code",
   "execution_count": 9,
   "metadata": {
    "execution": {
     "iopub.execute_input": "2022-05-26T14:21:13.797139Z",
     "iopub.status.busy": "2022-05-26T14:21:13.796756Z",
     "iopub.status.idle": "2022-05-26T14:21:13.898594Z",
     "shell.execute_reply": "2022-05-26T14:21:13.897609Z",
     "shell.execute_reply.started": "2022-05-26T14:21:13.797109Z"
    }
   },
   "outputs": [],
   "source": [
    "m_2 = folium.Map(location=[40.7, -74], zoom_start=11) \n",
    "\n",
    "# Your code here: Visualize the hospital locations\n",
    "for idx, row in hospitals.iterrows():\n",
    "    Marker([row['latitude'], row['longitude']], popup=row['name']).add_to(m_2)\n",
    "    \n",
    "# Uncomment to see a hint\n",
    "#q_2.hint()\n",
    "        \n",
    "# Show the map\n",
    "embed_map(m_2, \"q_2.html\")"
   ]
  },
  {
   "cell_type": "code",
   "execution_count": 10,
   "metadata": {
    "execution": {
     "iopub.execute_input": "2022-05-26T14:21:21.462219Z",
     "iopub.status.busy": "2022-05-26T14:21:21.461632Z",
     "iopub.status.idle": "2022-05-26T14:21:21.471418Z",
     "shell.execute_reply": "2022-05-26T14:21:21.470329Z",
     "shell.execute_reply.started": "2022-05-26T14:21:21.462174Z"
    }
   },
   "outputs": [],
   "source": [
    "# Get credit for your work after you have created a map\n",
    "q_2.check()\n",
    "\n",
    "# Uncomment to see our solution (your code may look different!)\n",
    "#q_2.solution()"
   ]
  },
  {
   "cell_type": "markdown",
   "metadata": {},
   "source": [
    "### 3) When was the closest hospital more than 10 kilometers away?\n",
    "\n",
    "Create a DataFrame `outside_range` containing all rows from `collisions` with crashes that occurred more than 10 kilometers from the closest hospital.\n",
    "\n",
    "가장 가까운 병원에서 10km 이상 떨어진 곳에서 발생한 충돌이 있는 '충돌'의 모든 행을 포함하는 DataFrame 'outside_range'를 만듭니다.\n",
    "\n",
    "Note that both `hospitals` and `collisions` have EPSG 2263 as the coordinate reference system, and EPSG 2263 has units of meters.\n",
    "\n",
    "'병원'과 '충돌' 모두 좌표 참조 시스템으로 EPSG 2263을 사용하고 EPSG 2263은 미터 단위를 사용합니다."
   ]
  },
  {
   "cell_type": "code",
   "execution_count": 12,
   "metadata": {
    "execution": {
     "iopub.execute_input": "2022-05-26T14:22:27.939570Z",
     "iopub.status.busy": "2022-05-26T14:22:27.938667Z",
     "iopub.status.idle": "2022-05-26T14:23:39.525118Z",
     "shell.execute_reply": "2022-05-26T14:23:39.524149Z",
     "shell.execute_reply.started": "2022-05-26T14:22:27.939511Z"
    }
   },
   "outputs": [],
   "source": [
    "# Your code here\n",
    "coverage = gpd.GeoDataFrame(geometry=hospitals.geometry).buffer(10000)\n",
    "my_union = coverage.geometry.unary_union\n",
    "outside_range = collisions.loc[~collisions[\"geometry\"].apply(lambda x: my_union.contains(x))]\n",
    "\n",
    "# Check your answer\n",
    "q_3.check()"
   ]
  },
  {
   "cell_type": "code",
   "execution_count": 13,
   "metadata": {
    "execution": {
     "iopub.execute_input": "2022-05-26T14:23:39.527828Z",
     "iopub.status.busy": "2022-05-26T14:23:39.526841Z",
     "iopub.status.idle": "2022-05-26T14:23:39.531452Z",
     "shell.execute_reply": "2022-05-26T14:23:39.530409Z",
     "shell.execute_reply.started": "2022-05-26T14:23:39.527791Z"
    }
   },
   "outputs": [],
   "source": [
    "# Lines below will give you a hint or solution code\n",
    "#q_3.hint()\n",
    "#q_3.solution()"
   ]
  },
  {
   "cell_type": "markdown",
   "metadata": {},
   "source": [
    "The next code cell calculates the percentage of collisions that occurred more than 10 kilometers away from the closest hospital."
   ]
  },
  {
   "cell_type": "code",
   "execution_count": 14,
   "metadata": {
    "execution": {
     "iopub.execute_input": "2022-05-26T14:24:26.469359Z",
     "iopub.status.busy": "2022-05-26T14:24:26.468929Z",
     "iopub.status.idle": "2022-05-26T14:24:26.475622Z",
     "shell.execute_reply": "2022-05-26T14:24:26.474500Z",
     "shell.execute_reply.started": "2022-05-26T14:24:26.469327Z"
    }
   },
   "outputs": [],
   "source": [
    "percentage = round(100*len(outside_range)/len(collisions), 2)\n",
    "print(\"Percentage of collisions more than 10 km away from the closest hospital: {}%\".format(percentage))"
   ]
  },
  {
   "cell_type": "markdown",
   "metadata": {},
   "source": [
    "### 4) Make a recommender.\n",
    "\n",
    "When collisions occur in distant locations, it becomes even more vital that injured persons are transported to the nearest available hospital.\n",
    "\n",
    "멀리 떨어진 곳에서 충돌이 발생하면 부상자를 가장 가까운 병원으로 이송하는 것이 더욱 중요해집니다.\n",
    "\n",
    "With this in mind, you decide to create a recommender that:\n",
    "- takes the location of the crash (in EPSG 2263) as input,\n",
    "- finds the closest hospital (where distance calculations are done in EPSG 2263), and \n",
    "- returns the name of the closest hospital. "
   ]
  },
  {
   "cell_type": "code",
   "execution_count": 17,
   "metadata": {
    "execution": {
     "iopub.execute_input": "2022-05-26T14:25:24.677288Z",
     "iopub.status.busy": "2022-05-26T14:25:24.676799Z",
     "iopub.status.idle": "2022-05-26T14:25:24.694490Z",
     "shell.execute_reply": "2022-05-26T14:25:24.693156Z",
     "shell.execute_reply.started": "2022-05-26T14:25:24.677241Z"
    }
   },
   "outputs": [],
   "source": [
    "def best_hospital(collision_location):\n",
    "    idx_min = hospitals.geometry.distance(collision_location).idxmin()\n",
    "    my_hospital = hospitals.iloc[idx_min]\n",
    "    # Your code here\n",
    "    name = my_hospital[\"name\"]\n",
    "    return name\n",
    "\n",
    "# Test your function: this should suggest CALVARY HOSPITAL INC\n",
    "print(best_hospital(outside_range.geometry.iloc[0]))\n",
    "\n",
    "# Check your answer\n",
    "q_4.check()"
   ]
  },
  {
   "cell_type": "code",
   "execution_count": 18,
   "metadata": {
    "execution": {
     "iopub.execute_input": "2022-05-26T14:25:30.315567Z",
     "iopub.status.busy": "2022-05-26T14:25:30.315141Z",
     "iopub.status.idle": "2022-05-26T14:25:30.319545Z",
     "shell.execute_reply": "2022-05-26T14:25:30.318596Z",
     "shell.execute_reply.started": "2022-05-26T14:25:30.315521Z"
    }
   },
   "outputs": [],
   "source": [
    "# Lines below will give you a hint or solution code\n",
    "#q_4.hint()\n",
    "#q_4.solution()"
   ]
  },
  {
   "cell_type": "markdown",
   "metadata": {},
   "source": [
    "### 5) Which hospital is under the highest demand?\n",
    "\n",
    "Considering only collisions in the `outside_range` DataFrame, which hospital is most recommended?  \n",
    "\n",
    "`outside_range` DataFrame에서 충돌만 고려한다면 어느 병원을 가장 추천하는가?\n",
    "\n",
    "Your answer should be a Python string that exactly matches the name of the hospital returned by the function you created in **4)**."
   ]
  },
  {
   "cell_type": "code",
   "execution_count": 20,
   "metadata": {
    "execution": {
     "iopub.execute_input": "2022-05-26T14:26:07.794180Z",
     "iopub.status.busy": "2022-05-26T14:26:07.793450Z",
     "iopub.status.idle": "2022-05-26T14:26:32.598047Z",
     "shell.execute_reply": "2022-05-26T14:26:32.597122Z",
     "shell.execute_reply.started": "2022-05-26T14:26:07.794140Z"
    }
   },
   "outputs": [],
   "source": [
    "# Your code here\n",
    "highest_demand = outside_range.geometry.apply(best_hospital).value_counts().idxmax()\n",
    "\n",
    "# Check your answer\n",
    "q_5.check()"
   ]
  },
  {
   "cell_type": "code",
   "execution_count": 21,
   "metadata": {
    "execution": {
     "iopub.execute_input": "2022-05-26T14:26:32.600748Z",
     "iopub.status.busy": "2022-05-26T14:26:32.599738Z",
     "iopub.status.idle": "2022-05-26T14:26:32.604671Z",
     "shell.execute_reply": "2022-05-26T14:26:32.603634Z",
     "shell.execute_reply.started": "2022-05-26T14:26:32.600710Z"
    }
   },
   "outputs": [],
   "source": [
    "# Lines below will give you a hint or solution code\n",
    "#q_5.hint()\n",
    "#q_5.solution()"
   ]
  },
  {
   "cell_type": "markdown",
   "metadata": {},
   "source": [
    "### 6) Where should the city construct new hospitals?\n",
    "\n",
    "Run the next code cell (without changes) to visualize hospital locations, in addition to collisions that occurred more than 10 kilometers away from the closest hospital. \n",
    "\n",
    "다음 코드 셀(변경 없이)을 실행하여 가장 가까운 병원에서 10km 이상 떨어진 곳에서 발생한 충돌 외에도 병원 위치를 시각화합니다."
   ]
  },
  {
   "cell_type": "code",
   "execution_count": 22,
   "metadata": {
    "execution": {
     "iopub.execute_input": "2022-05-26T14:27:15.642107Z",
     "iopub.status.busy": "2022-05-26T14:27:15.641732Z",
     "iopub.status.idle": "2022-05-26T14:27:16.330072Z",
     "shell.execute_reply": "2022-05-26T14:27:16.329032Z",
     "shell.execute_reply.started": "2022-05-26T14:27:15.642078Z"
    },
    "scrolled": true
   },
   "outputs": [],
   "source": [
    "m_6 = folium.Map(location=[40.7, -74], zoom_start=11) \n",
    "\n",
    "coverage = gpd.GeoDataFrame(geometry=hospitals.geometry).buffer(10000)\n",
    "folium.GeoJson(coverage.geometry.to_crs(epsg=4326)).add_to(m_6)\n",
    "HeatMap(data=outside_range[['LATITUDE', 'LONGITUDE']], radius=9).add_to(m_6)\n",
    "folium.LatLngPopup().add_to(m_6)\n",
    "\n",
    "embed_map(m_6, 'm_6.html')"
   ]
  },
  {
   "cell_type": "markdown",
   "metadata": {},
   "source": [
    "Click anywhere on the map to see a pop-up with the corresponding location in latitude and longitude.\n",
    "\n",
    "The city of New York reaches out to you for help with deciding locations for two brand new hospitals.  They specifically want your help with identifying locations to bring the calculated percentage from step **3)** to less than ten percent.  Using the map (and without worrying about zoning laws or what potential buildings would have to be removed in order to build the hospitals), can you identify two locations that would help the city accomplish this goal?  \n",
    "\n",
    "Put the proposed latitude and longitude for hospital 1 in `lat_1` and `long_1`, respectively.  (Likewise for hospital 2.)\n",
    "\n",
    "병원 1에 대해 제안된 위도와 경도를 각각 `lat_1`과 `long_1`에 넣습니다. (병원2도 마찬가지)\n",
    "\n",
    "Then, run the rest of the cell as-is to see the effect of the new hospitals.  Your answer will be marked correct, if the two new hospitals bring the percentage to less than ten percent.\n",
    "\n",
    "그런 다음 나머지 셀을 그대로 실행하여 새 병원의 효과를 확인하십시오. 두 개의 새로운 병원에서 백분율을 10% 미만으로 낮추면 답이 정답으로 표시됩니다."
   ]
  },
  {
   "cell_type": "code",
   "execution_count": 24,
   "metadata": {
    "execution": {
     "iopub.execute_input": "2022-05-26T14:28:38.396750Z",
     "iopub.status.busy": "2022-05-26T14:28:38.396292Z",
     "iopub.status.idle": "2022-05-26T14:28:42.362467Z",
     "shell.execute_reply": "2022-05-26T14:28:42.361733Z",
     "shell.execute_reply.started": "2022-05-26T14:28:38.396717Z"
    }
   },
   "outputs": [],
   "source": [
    "# Your answer here: proposed location of hospital 1\n",
    "lat_1 = 40.6714\n",
    "long_1 = -73.8492\n",
    "\n",
    "# Your answer here: proposed location of hospital 2\n",
    "lat_2 = 40.6702\n",
    "long_2 = -73.7612\n",
    "\n",
    "# Do not modify the code below this line\n",
    "try:\n",
    "    new_df = pd.DataFrame(\n",
    "        {'Latitude': [lat_1, lat_2],\n",
    "         'Longitude': [long_1, long_2]})\n",
    "    new_gdf = gpd.GeoDataFrame(new_df, geometry=gpd.points_from_xy(new_df.Longitude, new_df.Latitude))\n",
    "    new_gdf.crs = {'init' :'epsg:4326'}\n",
    "    new_gdf = new_gdf.to_crs(epsg=2263)\n",
    "    # get new percentage\n",
    "    new_coverage = gpd.GeoDataFrame(geometry=new_gdf.geometry).buffer(10000)\n",
    "    new_my_union = new_coverage.geometry.unary_union\n",
    "    new_outside_range = outside_range.loc[~outside_range[\"geometry\"].apply(lambda x: new_my_union.contains(x))]\n",
    "    new_percentage = round(100*len(new_outside_range)/len(collisions), 2)\n",
    "    print(\"(NEW) Percentage of collisions more than 10 km away from the closest hospital: {}%\".format(new_percentage))\n",
    "    # Did you help the city to meet its goal?\n",
    "    q_6.check()\n",
    "    # make the map\n",
    "    m = folium.Map(location=[40.7, -74], zoom_start=11) \n",
    "    folium.GeoJson(coverage.geometry.to_crs(epsg=4326)).add_to(m)\n",
    "    folium.GeoJson(new_coverage.geometry.to_crs(epsg=4326)).add_to(m)\n",
    "    for idx, row in new_gdf.iterrows():\n",
    "        Marker([row['Latitude'], row['Longitude']]).add_to(m)\n",
    "    HeatMap(data=new_outside_range[['LATITUDE', 'LONGITUDE']], radius=9).add_to(m)\n",
    "    folium.LatLngPopup().add_to(m)\n",
    "    display(embed_map(m, 'q_6.html'))\n",
    "except:\n",
    "    q_6.hint()"
   ]
  },
  {
   "cell_type": "code",
   "execution_count": 25,
   "metadata": {
    "execution": {
     "iopub.execute_input": "2022-05-26T14:28:49.004026Z",
     "iopub.status.busy": "2022-05-26T14:28:49.003594Z",
     "iopub.status.idle": "2022-05-26T14:28:49.008709Z",
     "shell.execute_reply": "2022-05-26T14:28:49.007619Z",
     "shell.execute_reply.started": "2022-05-26T14:28:49.003993Z"
    }
   },
   "outputs": [],
   "source": [
    "# Uncomment to see one potential answer \n",
    "#q_6.solution()"
   ]
  },
  {
   "cell_type": "markdown",
   "metadata": {},
   "source": [
    "# Congratulations!\n",
    "\n",
    "You have just completed the Geospatial Analysis micro-course!  Great job!"
   ]
  },
  {
   "cell_type": "markdown",
   "metadata": {},
   "source": [
    "---\n",
    "\n",
    "\n",
    "\n",
    "\n",
    "*Have questions or comments? Visit the [course discussion forum](https://www.kaggle.com/learn/geospatial-analysis/discussion) to chat with other learners.*"
   ]
  }
 ],
 "metadata": {
  "kernelspec": {
   "display_name": "Python 3 (ipykernel)",
   "language": "python",
   "name": "python3"
  },
  "language_info": {
   "codemirror_mode": {
    "name": "ipython",
    "version": 3
   },
   "file_extension": ".py",
   "mimetype": "text/x-python",
   "name": "python",
   "nbconvert_exporter": "python",
   "pygments_lexer": "ipython3",
   "version": "3.9.13"
  }
 },
 "nbformat": 4,
 "nbformat_minor": 4
}
