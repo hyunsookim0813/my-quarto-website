{
 "cells": [
  {
   "cell_type": "markdown",
   "id": "dc122414",
   "metadata": {},
   "source": [
    "---\n",
    "title: '빅분기 실기 - 3유형 문제풀이(6)'\n",
    "author: 'Hyunsoo Kim'\n",
    "date: '2023-11-16'\n",
    "categories: [Python, Pandas, Numpy, scipy]\n",
    "jupyter: python3\n",
    "page-layout: full\n",
    "---"
   ]
  },
  {
   "cell_type": "markdown",
   "id": "b3c02feb",
   "metadata": {},
   "source": [
    "> 실기 3 유형(6)\n",
    "\n",
    "- 출처 : [MetaCodeM](https://www.youtube.com/watch?v=37GqFZVjc1Y&t=1548s)\n",
    "- 참고 : [시험환경 체험](https://dataq.goorm.io/exam/3/%EB%B9%85%EB%8D%B0%EC%9D%B4%ED%84%B0%EB%B6%84%EC%84%9D%EA%B8%B0%EC%82%AC-%EC%8B%A4%EA%B8%B0-%EC%B2%B4%ED%97%98/quiz/5)\n",
    "\n",
    "- 추가 : [MetaCodeM](https://www.youtube.com/watch?v=UIiydlm-eDg&feature=youtu.be)"
   ]
  },
  {
   "cell_type": "markdown",
   "id": "574146b8",
   "metadata": {},
   "source": [
    "# 3유형 문제풀이(6)"
   ]
  },
  {
   "cell_type": "markdown",
   "id": "dc67ad80",
   "metadata": {},
   "source": [
    "# 제3유형_로지스틱 회귀분석"
   ]
  },
  {
   "cell_type": "markdown",
   "id": "c9aaa8c1",
   "metadata": {},
   "source": [
    "## 타이타닉 데이터 불러오기(생존자 예측 데이터)"
   ]
  },
  {
   "cell_type": "code",
   "execution_count": 1,
   "id": "b25815bf",
   "metadata": {},
   "outputs": [],
   "source": [
    "# 데이터 불러오기\n",
    "import pandas as pd\n",
    "import numpy as np\n",
    "\n",
    "# Seaborn의 내장 타이타닉 데이터셋을 불러옵니다.\n",
    "import seaborn as sns\n",
    "df = sns.load_dataset('titanic')"
   ]
  },
  {
   "cell_type": "code",
   "execution_count": 2,
   "id": "a5bee834",
   "metadata": {},
   "outputs": [
    {
     "name": "stdout",
     "output_type": "stream",
     "text": [
      "   survived  pclass     sex   age  sibsp  parch     fare embarked  class  \\\n",
      "0         0       3    male  22.0      1      0   7.2500        S  Third   \n",
      "1         1       1  female  38.0      1      0  71.2833        C  First   \n",
      "2         1       3  female  26.0      0      0   7.9250        S  Third   \n",
      "3         1       1  female  35.0      1      0  53.1000        S  First   \n",
      "4         0       3    male  35.0      0      0   8.0500        S  Third   \n",
      "\n",
      "     who  adult_male deck  embark_town alive  alone  \n",
      "0    man        True  NaN  Southampton    no  False  \n",
      "1  woman       False    C    Cherbourg   yes  False  \n",
      "2  woman       False  NaN  Southampton   yes   True  \n",
      "3  woman       False    C  Southampton   yes  False  \n",
      "4    man        True  NaN  Southampton    no   True  \n"
     ]
    }
   ],
   "source": [
    "print(df.head())"
   ]
  },
  {
   "cell_type": "code",
   "execution_count": 3,
   "id": "4a5f2a58",
   "metadata": {},
   "outputs": [
    {
     "name": "stdout",
     "output_type": "stream",
     "text": [
      "   survived     sex  sibsp     fare\n",
      "0         0    male      1   7.2500\n",
      "1         1  female      1  71.2833\n",
      "2         1  female      0   7.9250\n",
      "3         1  female      1  53.1000\n",
      "4         0    male      0   8.0500\n"
     ]
    }
   ],
   "source": [
    "# 분석 데이터 설정\n",
    "df = df[['survived', 'sex', 'sibsp', 'fare']] \n",
    "# sex:성별, sibsp:탑승한 부모 및 자녀수 fare:요금\n",
    "\n",
    "print(df.head())"
   ]
  },
  {
   "cell_type": "markdown",
   "id": "5a207166",
   "metadata": {},
   "source": [
    "### 로지스틱 회귀식 : P(1일 확률) = 1 / (1+exp(-f(x))\n",
    "- f(x) = b0 + b1x1 + b2x2 + b3x3\n",
    "- ln(P/1-P) = b0 + b1x1 + b2x2 + b3x3  \n",
    "(P = 생존할 확률, x1=sex, x2=sibsp, x3=fare)"
   ]
  },
  {
   "cell_type": "code",
   "execution_count": 5,
   "id": "ab54bf07",
   "metadata": {},
   "outputs": [
    {
     "name": "stdout",
     "output_type": "stream",
     "text": [
      "   survived  sex  sibsp     fare\n",
      "0         0    0      1   7.2500\n",
      "1         1    1      1  71.2833\n",
      "2         1    1      0   7.9250\n",
      "3         1    1      1  53.1000\n",
      "4         0    0      0   8.0500\n"
     ]
    }
   ],
   "source": [
    "# 데이터 전처리\n",
    "# 변수처리\n",
    "# 문자형 타입의 데이터의 경우 숫자로 변경해준다.\n",
    "# *** 실제 시험에서 지시사항을 따를 것 ***\n",
    "\n",
    "# 성별을 map 함수를 활용해서 각각 1과 0에 할당한다. (여성을 1, 남성을 0)\n",
    "# (실제 시험의 지시 조건에 따를 것)\n",
    "df['sex'] = df['sex'].map({'female':1,\n",
    "                          'male':0})\n",
    "print(df.head())"
   ]
  },
  {
   "cell_type": "code",
   "execution_count": 6,
   "id": "d47dda92",
   "metadata": {},
   "outputs": [
    {
     "name": "stdout",
     "output_type": "stream",
     "text": [
      "<class 'pandas.core.frame.DataFrame'>\n",
      "RangeIndex: 891 entries, 0 to 890\n",
      "Data columns (total 4 columns):\n",
      " #   Column    Non-Null Count  Dtype  \n",
      "---  ------    --------------  -----  \n",
      " 0   survived  891 non-null    int64  \n",
      " 1   sex       891 non-null    int64  \n",
      " 2   sibsp     891 non-null    int64  \n",
      " 3   fare      891 non-null    float64\n",
      "dtypes: float64(1), int64(3)\n",
      "memory usage: 28.0 KB\n",
      "None\n"
     ]
    }
   ],
   "source": [
    "print(df.info())"
   ]
  },
  {
   "cell_type": "markdown",
   "id": "2fb498f5",
   "metadata": {},
   "source": [
    "## 1. sklearn 라이브러리 활용"
   ]
  },
  {
   "cell_type": "code",
   "execution_count": 7,
   "id": "e6923dde",
   "metadata": {},
   "outputs": [],
   "source": [
    "# 독립변수와 종속변수 설정\n",
    "x = df.drop(['survived'], axis=1) # x = df[['sex', 'age', 'fare']]\n",
    "y = df['survived']"
   ]
  },
  {
   "cell_type": "markdown",
   "id": "ade1cf5d",
   "metadata": {},
   "source": [
    "<span style='background-color:#fff5b1'>(주의) LogisticRegrresion() 객체안에 반드시 penalty=None으로 입력해야 함</span>"
   ]
  },
  {
   "cell_type": "code",
   "execution_count": 16,
   "id": "84d33dee",
   "metadata": {},
   "outputs": [
    {
     "data": {
      "text/plain": [
       "LogisticRegression(penalty='none')"
      ]
     },
     "execution_count": 16,
     "metadata": {},
     "output_type": "execute_result"
    }
   ],
   "source": [
    "# 모델링\n",
    "from sklearn.linear_model import LogisticRegression # 회귀는 LinearRegression\n",
    "\n",
    "# 반드시 penalty = None으로 입력할 것해야 함.  default='l2'\n",
    "model1 = LogisticRegression(penalty='none')\n",
    "model1.fit(x, y)"
   ]
  },
  {
   "cell_type": "code",
   "execution_count": 17,
   "id": "79e73d2c",
   "metadata": {},
   "outputs": [
    {
     "name": "stdout",
     "output_type": "stream",
     "text": [
      "[[ 2.5668 -0.4017  0.0138]]\n",
      "2.5668\n",
      "-0.4017\n",
      "0.0138\n",
      "[-1.6964]\n"
     ]
    }
   ],
   "source": [
    "# 로지스틱회귀분석 관련 지표 출력\n",
    "\n",
    "# 1.회귀계수 출력 : model.coef_\n",
    "print(np.round(model1.coef_, 4))        # 전체 회귀계수\n",
    "print(np.round(model1.coef_[0,0], 4))   # x1의 회귀계수\n",
    "print(np.round(model1.coef_[0,1], 4))   # x2의 회귀계수\n",
    "print(np.round(model1.coef_[0,2], 4))   # x3의 회귀계수\n",
    "\n",
    "# 2. 회귀계수(절편) : model.intercept_\n",
    "print(np.round(model1.intercept_, 4))"
   ]
  },
  {
   "cell_type": "markdown",
   "id": "56ace8e0",
   "metadata": {},
   "source": [
    "### 로지스틱 회귀식 : P(1일 확률) = 1 / (1+exp(-f(x))\n",
    "- f(x) = b0 + b1x1 + b2x2 + b3x3\n",
    "- ln(P/1-P) = b0 + b1x1 + b2x2 + b3x3  \n",
    "(P = 생존할 확률, x1=sex, x2=sibsp, x3=fare)\n",
    "\n",
    "### 결과 : ln(P/1-P) = -1.6964 + 2.5668sex - 0.4017sibsp + 0.0138fare"
   ]
  },
  {
   "cell_type": "code",
   "execution_count": 18,
   "id": "a979adc4",
   "metadata": {},
   "outputs": [
    {
     "name": "stdout",
     "output_type": "stream",
     "text": [
      "0.669\n"
     ]
    }
   ],
   "source": [
    "# 3-1. 로지스틱 회귀모형에서 sibsp 변수가 한단위 증가할 때 생존할 오즈가 몇 배 \n",
    "#      증가하는지 반올림하여 소수점 셋째 자리까지 구하시오.\n",
    "\n",
    "# exp(b2) 를 구하면 된다.\n",
    "result = np.exp(model1.coef_[0,1]) #인덱싱 주의하세요.\n",
    "print(round(result,3))\n",
    "\n",
    "# 해석 : sibsp 변수가 한 단위 증가할 때 생존할 오즈가 0.669배 증가한다.\n",
    "#        생존할 오즈가 33% 감소한다.(생존할 확률이 감소한다.)"
   ]
  },
  {
   "cell_type": "code",
   "execution_count": 19,
   "id": "4d12c0a6",
   "metadata": {},
   "outputs": [
    {
     "name": "stdout",
     "output_type": "stream",
     "text": [
      "13.024\n"
     ]
    }
   ],
   "source": [
    "# 3-2. 로지스틱 회귀모형에서 여성일 경우 남성에 비해 오즈가 몇 배 증가하는지\n",
    "#      반올림하여 소수점 셋째 자리까지 구하시오\n",
    "\n",
    "# exp(b2) 를 구하면 된다.\n",
    "result2 = np.exp(model1.coef_[0,0]) #인덱싱 주의하세요.\n",
    "print(round(result2,3))\n",
    "\n",
    "# 해석 : 여성일 경우 남성에 비해 생존할 오즈가 13.024배 증가한다.\n",
    "#        생존할 오즈가 13배 증가한다.(생존할 확률이 증가한다.)"
   ]
  },
  {
   "cell_type": "markdown",
   "id": "036f25d5",
   "metadata": {},
   "source": [
    "## 2. statsmodels 라이브러리 사용"
   ]
  },
  {
   "cell_type": "markdown",
   "id": "3e2c1e2b",
   "metadata": {},
   "source": [
    "<span style='background-color:#fff5b1'>(주의) 실제 오즈가 몇 배 증가했는지 계산하는 문제가 나온다면   \n",
    "sklearn 라이브러리를 사용하여 회귀계수를 직접구해서 계산할 것(소수점이 결과값에 영향을 줄 수 있음)</span>"
   ]
  },
  {
   "cell_type": "code",
   "execution_count": 21,
   "id": "a04eb722",
   "metadata": {},
   "outputs": [
    {
     "name": "stdout",
     "output_type": "stream",
     "text": [
      "Optimization terminated successfully.\n",
      "         Current function value: 0.483846\n",
      "         Iterations 6\n",
      "                           Logit Regression Results                           \n",
      "==============================================================================\n",
      "Dep. Variable:               survived   No. Observations:                  891\n",
      "Model:                          Logit   Df Residuals:                      887\n",
      "Method:                           MLE   Df Model:                            3\n",
      "Date:                Wed, 29 Nov 2023   Pseudo R-squ.:                  0.2734\n",
      "Time:                        19:06:26   Log-Likelihood:                -431.11\n",
      "converged:                       True   LL-Null:                       -593.33\n",
      "Covariance Type:            nonrobust   LLR p-value:                 5.094e-70\n",
      "==============================================================================\n",
      "                 coef    std err          z      P>|z|      [0.025      0.975]\n",
      "------------------------------------------------------------------------------\n",
      "const         -1.6964      0.129    -13.134      0.000      -1.950      -1.443\n",
      "sex            2.5668      0.179     14.321      0.000       2.216       2.918\n",
      "sibsp         -0.4017      0.095     -4.222      0.000      -0.588      -0.215\n",
      "fare           0.0138      0.003      5.367      0.000       0.009       0.019\n",
      "==============================================================================\n"
     ]
    }
   ],
   "source": [
    "# 모델링\n",
    "import statsmodels.api as sm\n",
    "\n",
    "x = sm.add_constant(x)       # 주의 : 상수항 추가해줘야 함\n",
    "model2 = sm.Logit(y,x).fit() # 주의할 것 : y, x 순으로 입력해야 함\n",
    "summary = model2.summary()\n",
    "print(summary)"
   ]
  },
  {
   "cell_type": "markdown",
   "id": "c75aa75e",
   "metadata": {},
   "source": [
    "### (결과 비교해보기) 두 라이브러리 모두 같은 결과값을 출력\n",
    "- 회귀식 : P(1일 확률) = 1 / (1+exp(-f(x))\n",
    "- f(x) = b0 + b1x1 + b2x2 + b3x3\n",
    "- ln(P/1-P) = b0 + b1x1 + b2x2 + b3x3  \n",
    "(P=생존할 확률, x1=sex, x2=sibsp, x3=fare)\n",
    "\n",
    "**1. sklearn : ln(P/1-P) = -1.6964 + 2.5668sex - 0.4017sibsp + 0.0138fare**\n",
    "\n",
    "**2. statsmodel : ln(P/1-P) = -1.6964 + 2.5668sex - 0.4017sibsp + 0.0138fare**"
   ]
  }
 ],
 "metadata": {
  "kernelspec": {
   "display_name": "Python 3 (ipykernel)",
   "language": "python",
   "name": "python3"
  },
  "language_info": {
   "codemirror_mode": {
    "name": "ipython",
    "version": 3
   },
   "file_extension": ".py",
   "mimetype": "text/x-python",
   "name": "python",
   "nbconvert_exporter": "python",
   "pygments_lexer": "ipython3",
   "version": "3.9.13"
  }
 },
 "nbformat": 4,
 "nbformat_minor": 5
}
