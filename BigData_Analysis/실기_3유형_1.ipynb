{
 "cells": [
  {
   "cell_type": "markdown",
   "id": "30877519",
   "metadata": {},
   "source": [
    "---\n",
    "title: '빅분기 실기 - 3유형 문제풀이(1)'\n",
    "author: 'Hyunsoo Kim'\n",
    "date: '2023-11-16'\n",
    "categories: [Python, Pandas, Numpy, sklearn]\n",
    "jupyter: python3\n",
    "page-layout: full\n",
    "---"
   ]
  },
  {
   "cell_type": "markdown",
   "id": "eb176e52",
   "metadata": {},
   "source": [
    "> 실기 3 유형(1)\n",
    "\n",
    "- 출처 : [MetaCodeM](https://www.youtube.com/watch?v=37GqFZVjc1Y&t=1548s)\n",
    "- 참고 : [시험환경 체험](https://dataq.goorm.io/exam/3/%EB%B9%85%EB%8D%B0%EC%9D%B4%ED%84%B0%EB%B6%84%EC%84%9D%EA%B8%B0%EC%82%AC-%EC%8B%A4%EA%B8%B0-%EC%B2%B4%ED%97%98/quiz/5)"
   ]
  },
  {
   "cell_type": "markdown",
   "id": "91493355",
   "metadata": {},
   "source": [
    "# 3유형 문제풀이(1)"
   ]
  },
  {
   "cell_type": "markdown",
   "id": "923e5e63",
   "metadata": {},
   "source": [
    "# 제3유형_모집단 1개(집단의 평균 vs 특정값)"
   ]
  },
  {
   "cell_type": "markdown",
   "id": "5c651537",
   "metadata": {},
   "source": [
    "## &#9989; 검정방법\n",
    "### 1) (정규성o) 단일표본 t검정(1sample t-test)\n",
    "### 2) (정규성x) 윌콕슨 부호순위 검정"
   ]
  },
  {
   "cell_type": "markdown",
   "id": "6e260c0a",
   "metadata": {},
   "source": [
    "## &#9989; 가설검정 순서(중요!!)\n",
    "\n",
    ">1. 가설검정\n",
    "2. 유의수준 확인\n",
    "3. 정규성 검정\n",
    "4. 검정실시(통계량, p-value 확인)\n",
    "5. 귀무가설 기각여부 결정(채택/기각)"
   ]
  },
  {
   "cell_type": "markdown",
   "id": "4b1ad976",
   "metadata": {},
   "source": [
    "## &#9989; 데이터 불러오기"
   ]
  },
  {
   "cell_type": "code",
   "execution_count": 1,
   "id": "79aa43bb",
   "metadata": {},
   "outputs": [],
   "source": [
    "import pandas as pd\n",
    "import numpy as np"
   ]
  },
  {
   "cell_type": "code",
   "execution_count": 3,
   "id": "92a674c5",
   "metadata": {},
   "outputs": [
    {
     "data": {
      "text/html": [
       "<div>\n",
       "<style scoped>\n",
       "    .dataframe tbody tr th:only-of-type {\n",
       "        vertical-align: middle;\n",
       "    }\n",
       "\n",
       "    .dataframe tbody tr th {\n",
       "        vertical-align: top;\n",
       "    }\n",
       "\n",
       "    .dataframe thead th {\n",
       "        text-align: right;\n",
       "    }\n",
       "</style>\n",
       "<table border=\"1\" class=\"dataframe\">\n",
       "  <thead>\n",
       "    <tr style=\"text-align: right;\">\n",
       "      <th></th>\n",
       "      <th>car</th>\n",
       "      <th>mpg</th>\n",
       "      <th>cyl</th>\n",
       "      <th>disp</th>\n",
       "      <th>hp</th>\n",
       "      <th>drat</th>\n",
       "      <th>wt</th>\n",
       "      <th>qsec</th>\n",
       "      <th>vs</th>\n",
       "      <th>am</th>\n",
       "      <th>gear</th>\n",
       "      <th>carb</th>\n",
       "    </tr>\n",
       "  </thead>\n",
       "  <tbody>\n",
       "    <tr>\n",
       "      <th>0</th>\n",
       "      <td>Mazda RX4</td>\n",
       "      <td>21.0</td>\n",
       "      <td>6</td>\n",
       "      <td>160.0</td>\n",
       "      <td>110</td>\n",
       "      <td>3.90</td>\n",
       "      <td>2.620</td>\n",
       "      <td>16.46</td>\n",
       "      <td>0</td>\n",
       "      <td>1</td>\n",
       "      <td>4</td>\n",
       "      <td>4</td>\n",
       "    </tr>\n",
       "    <tr>\n",
       "      <th>1</th>\n",
       "      <td>Mazda RX4 Wag</td>\n",
       "      <td>21.0</td>\n",
       "      <td>6</td>\n",
       "      <td>160.0</td>\n",
       "      <td>110</td>\n",
       "      <td>3.90</td>\n",
       "      <td>2.875</td>\n",
       "      <td>17.02</td>\n",
       "      <td>0</td>\n",
       "      <td>1</td>\n",
       "      <td>4</td>\n",
       "      <td>4</td>\n",
       "    </tr>\n",
       "    <tr>\n",
       "      <th>2</th>\n",
       "      <td>Datsun 710</td>\n",
       "      <td>22.8</td>\n",
       "      <td>4</td>\n",
       "      <td>108.0</td>\n",
       "      <td>93</td>\n",
       "      <td>3.85</td>\n",
       "      <td>2.320</td>\n",
       "      <td>18.61</td>\n",
       "      <td>1</td>\n",
       "      <td>1</td>\n",
       "      <td>4</td>\n",
       "      <td>1</td>\n",
       "    </tr>\n",
       "  </tbody>\n",
       "</table>\n",
       "</div>"
      ],
      "text/plain": [
       "             car   mpg  cyl   disp   hp  drat     wt   qsec  vs  am  gear  \\\n",
       "0      Mazda RX4  21.0    6  160.0  110  3.90  2.620  16.46   0   1     4   \n",
       "1  Mazda RX4 Wag  21.0    6  160.0  110  3.90  2.875  17.02   0   1     4   \n",
       "2     Datsun 710  22.8    4  108.0   93  3.85  2.320  18.61   1   1     4   \n",
       "\n",
       "   carb  \n",
       "0     4  \n",
       "1     4  \n",
       "2     1  "
      ]
     },
     "execution_count": 3,
     "metadata": {},
     "output_type": "execute_result"
    }
   ],
   "source": [
    "# 데이터 불러오기 mtcars\n",
    "df = pd.read_csv('mtcars.txt')\n",
    "df.head(3)"
   ]
  },
  {
   "cell_type": "markdown",
   "id": "6f87ecba",
   "metadata": {},
   "source": [
    "### 예제문제"
   ]
  },
  {
   "cell_type": "markdown",
   "id": "33fa34f7",
   "metadata": {},
   "source": [
    "### 1. mtcars 데이터셋의 mpg열 데이터의 평균이 20과 같다고 할 수 있는지 검정하시오. (유의수준 5%)"
   ]
  },
  {
   "cell_type": "code",
   "execution_count": 4,
   "id": "b40965c7",
   "metadata": {},
   "outputs": [],
   "source": [
    "import scipy.stats as stats\n",
    "from scipy.stats import shapiro"
   ]
  },
  {
   "cell_type": "code",
   "execution_count": null,
   "id": "9cadc5d2",
   "metadata": {},
   "outputs": [],
   "source": [
    "# 1. 가설검정\n",
    "# H_0 : mpg 열의 평균이 20과 같다\n",
    "# H_1 : mpg 열의 평균이 20과 같지 않다"
   ]
  },
  {
   "cell_type": "code",
   "execution_count": null,
   "id": "4026cf83",
   "metadata": {},
   "outputs": [],
   "source": [
    "# 2. 유의수준 확인 : 유의수준 5%로 확인"
   ]
  },
  {
   "cell_type": "code",
   "execution_count": 5,
   "id": "3884475c",
   "metadata": {},
   "outputs": [
    {
     "name": "stdout",
     "output_type": "stream",
     "text": [
      "0.9476 0.1229\n",
      "ShapiroResult(statistic=0.9475648403167725, pvalue=0.1228824257850647)\n"
     ]
    }
   ],
   "source": [
    "# 3. 정규성 검정\n",
    "# H_0(귀무가설) : 정규분포를 따른다\n",
    "# H_1(대립가설) : 정규분포를 따르지 않는다\n",
    "statistic, pvalue = stats.shapiro(df['mpg'])\n",
    "print(round(statistic, 4), round(pvalue, 4))\n",
    "\n",
    "result = stats.shapiro(df['mpg'])\n",
    "print(result)"
   ]
  },
  {
   "cell_type": "markdown",
   "id": "a07fc7d5",
   "metadata": {},
   "source": [
    "- p-value 값이 유의수준(0.05) 보다 크다. -> 귀무가설(H_0) 채택\n",
    "- (만약 정규분포를 따르지 않는다면 비모수 검정방법을 써야 함(윌콕슨의 부호순위 검정)"
   ]
  },
  {
   "cell_type": "code",
   "execution_count": 7,
   "id": "17ec20eb",
   "metadata": {},
   "outputs": [
    {
     "name": "stdout",
     "output_type": "stream",
     "text": [
      "0.0851 0.9328\n"
     ]
    }
   ],
   "source": [
    "# 4.1 (정규성 만족 o) t-검정 실시\n",
    "statistic, pvalue = stats.ttest_1samp(df['mpg'], popmean=20,\n",
    "                                      alternative='two-sided') # default: two-sided\n",
    "                                      # H_1 : 왼쪽값이 오른쪽 값과 같지 않다\n",
    "print(round(statistic, 4), round(pvalue, 4))\n",
    "# alternative (대립가설: H_1) 옵션 : 'two-sided', 'greater', 'less'"
   ]
  },
  {
   "cell_type": "code",
   "execution_count": 10,
   "id": "67b351a2",
   "metadata": {},
   "outputs": [
    {
     "name": "stdout",
     "output_type": "stream",
     "text": [
      "249.0 0.7891\n"
     ]
    }
   ],
   "source": [
    "# 4.2 (정규성 만족 x) Wilcoxon 부호순위 검정\n",
    "statistic, pvalue = stats.wilcoxon(df['mpg']-20,alternative='two-sided') \n",
    "print(round(statistic, 4), round(pvalue, 4))"
   ]
  },
  {
   "cell_type": "code",
   "execution_count": 11,
   "id": "b09f9e6c",
   "metadata": {},
   "outputs": [],
   "source": [
    "# 5. 귀무가설 기각여부 결정(채택/기각)\n",
    "# p-value 값이 0.05보다 크기 때문에(0.9328) 귀무가설을 채택한다\n",
    "# 즉, mpg 열의 평균이 20과 같다고 할 수 있다\n",
    "\n",
    "# 답 : 채택"
   ]
  },
  {
   "cell_type": "code",
   "execution_count": 12,
   "id": "eb87b774",
   "metadata": {},
   "outputs": [
    {
     "data": {
      "text/plain": [
       "20.090624999999996"
      ]
     },
     "execution_count": 12,
     "metadata": {},
     "output_type": "execute_result"
    }
   ],
   "source": [
    "# 실제로 평균을 구해보면\n",
    "df['mpg'].mean()"
   ]
  },
  {
   "cell_type": "markdown",
   "id": "20d2887e",
   "metadata": {},
   "source": [
    "### 2. mtcars 데이터셋의 mpg 열 데이터의 평균이 17보다 크다고 할 수 있는지 검정하시오. (유의수준 5%)"
   ]
  },
  {
   "cell_type": "code",
   "execution_count": 13,
   "id": "93dcc60a",
   "metadata": {},
   "outputs": [],
   "source": [
    "# 1. 가설검정\n",
    "# H_0 : mpg 열의 평균이 17보다 작거나 같다(mpg mean <= 17)\n",
    "# H_1 : mpg 열의 평균이 17보다 크다(mpg mean >17)"
   ]
  },
  {
   "cell_type": "code",
   "execution_count": 14,
   "id": "39cfa751",
   "metadata": {},
   "outputs": [],
   "source": [
    "# 2. 유의수준 확인 : 유의수준 5%로 확인"
   ]
  },
  {
   "cell_type": "code",
   "execution_count": 15,
   "id": "a66a71c7",
   "metadata": {},
   "outputs": [
    {
     "name": "stdout",
     "output_type": "stream",
     "text": [
      "0.9476 0.1229\n"
     ]
    }
   ],
   "source": [
    "# 3. 정규성 검정\n",
    "# H_0(귀무가설) : 정규분포를 따른다\n",
    "# H_1(대립가설) : 정규분포를 따르지 않는다\n",
    "statistic, pvalue = stats.shapiro(df['mpg'])\n",
    "print(round(statistic, 4), round(pvalue, 4))"
   ]
  },
  {
   "cell_type": "code",
   "execution_count": 19,
   "id": "088b9d8e",
   "metadata": {},
   "outputs": [
    {
     "name": "stdout",
     "output_type": "stream",
     "text": [
      "2.9008 0.0034\n"
     ]
    }
   ],
   "source": [
    "# 4.1 (정규성 만족 o) t-검정 실시\n",
    "statistic, pvalue = stats.ttest_1samp(df['mpg'], popmean=17,\n",
    "                                      alternative='greater') # alternative(대립가설)\n",
    "# H_1: 왼쪽값(df['mpg'].mean)이 오른쪽값(popmean)보다 크다\n",
    "print(round(statistic, 4), round(pvalue, 4))"
   ]
  },
  {
   "cell_type": "code",
   "execution_count": 20,
   "id": "d028fd3b",
   "metadata": {},
   "outputs": [
    {
     "name": "stdout",
     "output_type": "stream",
     "text": [
      "395.5 0.0066\n"
     ]
    }
   ],
   "source": [
    "# 4.2 (정규성 만족 x) Wilcoxon 부호순위 검정\n",
    "statistic, pvalue = stats.wilcoxon(df['mpg']-17,alternative='greater') \n",
    "print(round(statistic, 4), round(pvalue, 4))"
   ]
  },
  {
   "cell_type": "code",
   "execution_count": 21,
   "id": "30ac0b71",
   "metadata": {},
   "outputs": [],
   "source": [
    "# 5. 귀무가설 기각여부 결정(채택/기각)\n",
    "# p-value 값이 0.05보다 작기 때문에(0.0034) 귀무가설을 기각한다(대립가설 채택)\n",
    "# 즉, mpg 열의 평균이 17보다 크다고 할 수 있다\n",
    "\n",
    "# 답 : 기각"
   ]
  },
  {
   "cell_type": "markdown",
   "id": "b9fe7b65",
   "metadata": {},
   "source": [
    "### 3. mtcars 데이터셋의 mpg 열 데이터의 평균이 17보다 작다고 할 수 있는지 검정하시오. (유의수준 5%)"
   ]
  },
  {
   "cell_type": "code",
   "execution_count": 22,
   "id": "7e9c8af3",
   "metadata": {},
   "outputs": [],
   "source": [
    "# 1. 가설검정\n",
    "# H_0 : mpg 열의 평균이 17보다 크거나 같다(mpg mean >= 17)\n",
    "# H_1 : mpg 열의 평균이 17보다 작다(mpg mean <17)"
   ]
  },
  {
   "cell_type": "code",
   "execution_count": 23,
   "id": "f772fee5",
   "metadata": {},
   "outputs": [],
   "source": [
    "# 2. 유의수준 확인 : 유의수준 5%로 확인"
   ]
  },
  {
   "cell_type": "code",
   "execution_count": 24,
   "id": "9a2a36d9",
   "metadata": {},
   "outputs": [
    {
     "name": "stdout",
     "output_type": "stream",
     "text": [
      "0.9476 0.1229\n"
     ]
    }
   ],
   "source": [
    "# 3. 정규성 검정\n",
    "statistic, pvalue = stats.shapiro(df['mpg'])\n",
    "print(round(statistic, 4), round(pvalue, 4))"
   ]
  },
  {
   "cell_type": "code",
   "execution_count": 25,
   "id": "67a3fe5e",
   "metadata": {},
   "outputs": [
    {
     "name": "stdout",
     "output_type": "stream",
     "text": [
      "2.9008 0.9966\n"
     ]
    }
   ],
   "source": [
    "# 4.1 (정규성 만족 o) t-검정 실시\n",
    "statistic, pvalue = stats.ttest_1samp(df['mpg'], popmean=17,\n",
    "                                      alternative='less') # alternative(대립가설)\n",
    "# H_1: 왼쪽값(df['mpg'].mean)이 오른쪽값(popmean)보다 작다\n",
    "print(round(statistic, 4), round(pvalue, 4))"
   ]
  },
  {
   "cell_type": "code",
   "execution_count": 26,
   "id": "95ec8e91",
   "metadata": {},
   "outputs": [
    {
     "name": "stdout",
     "output_type": "stream",
     "text": [
      "395.5 0.9938\n"
     ]
    }
   ],
   "source": [
    "# 4.2 (정규성 만족 x) Wilcoxon 부호순위 검정\n",
    "statistic, pvalue = stats.wilcoxon(df['mpg']-17,alternative='less') \n",
    "print(round(statistic, 4), round(pvalue, 4))"
   ]
  },
  {
   "cell_type": "code",
   "execution_count": 27,
   "id": "9d3a32aa",
   "metadata": {},
   "outputs": [],
   "source": [
    "# 5. 귀무가설 기각여부 결정(채택/기각)\n",
    "# p-value 값이 0.05보다 크기 때문에(0.9966) 귀무가설을 채택한다\n",
    "# 즉, mpg 열의 평균이 17보다 크거나 같다고 할 수 있다\n",
    "\n",
    "# 답 : 채택"
   ]
  }
 ],
 "metadata": {
  "kernelspec": {
   "display_name": "Python 3 (ipykernel)",
   "language": "python",
   "name": "python3"
  },
  "language_info": {
   "codemirror_mode": {
    "name": "ipython",
    "version": 3
   },
   "file_extension": ".py",
   "mimetype": "text/x-python",
   "name": "python",
   "nbconvert_exporter": "python",
   "pygments_lexer": "ipython3",
   "version": "3.9.13"
  }
 },
 "nbformat": 4,
 "nbformat_minor": 5
}
