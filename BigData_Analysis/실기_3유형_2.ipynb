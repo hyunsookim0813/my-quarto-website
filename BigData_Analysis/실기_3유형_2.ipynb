{
 "cells": [
  {
   "cell_type": "markdown",
   "id": "6c1613c8",
   "metadata": {},
   "source": [
    "---\n",
    "title: '빅분기 실기 - 3유형 문제풀이(2)'\n",
    "author: 'Hyunsoo Kim'\n",
    "date: '2023-11-16'\n",
    "categories: [Python, Pandas, Numpy, scipy]\n",
    "jupyter: python3\n",
    "page-layout: full\n",
    "---"
   ]
  },
  {
   "cell_type": "markdown",
   "id": "d46baa6a",
   "metadata": {},
   "source": [
    "> 실기 3 유형(2)\n",
    "\n",
    "- 출처 : [MetaCodeM](https://www.youtube.com/watch?v=37GqFZVjc1Y&t=1548s)\n",
    "- 참고 : [시험환경 체험](https://dataq.goorm.io/exam/3/%EB%B9%85%EB%8D%B0%EC%9D%B4%ED%84%B0%EB%B6%84%EC%84%9D%EA%B8%B0%EC%82%AC-%EC%8B%A4%EA%B8%B0-%EC%B2%B4%ED%97%98/quiz/5)"
   ]
  },
  {
   "cell_type": "markdown",
   "id": "b243fd0d",
   "metadata": {},
   "source": [
    "# 3유형 문제풀이(2)"
   ]
  },
  {
   "cell_type": "markdown",
   "id": "0abda387",
   "metadata": {},
   "source": [
    "# 제3유형_모집단 2개"
   ]
  },
  {
   "cell_type": "markdown",
   "id": "7d3f5ca1",
   "metadata": {},
   "source": [
    "## &#9989; 검정방법\n",
    "\n",
    "## 1. 대응표본(쌍체) : 동일한 객체의 전 vs 후 평균비교\n",
    "- (정규성o) 대응표본(쌍체) t검정(paired t-test) : 동일한 객체의 전 vs 후 평균비교\n",
    "- (정규성x) 윌콕슨 부호순위 검정(wilcoxon)\n",
    "\n",
    "## 2. 독립표본 : A 집단의 평균 vs B 집단의 평균\n",
    "- (정규성o) 독립표본 t검정(2sample t-test)\n",
    "- (정규성x) 윌콕슨 순위합 검정(ranksums)"
   ]
  },
  {
   "cell_type": "markdown",
   "id": "6f8c9602",
   "metadata": {},
   "source": [
    "## &#9989; 가설검정 순서(중요!!)\n",
    "\n",
    "### 1. 대응표본(쌍체) t검정(paired t-test)\n",
    "\n",
    ">1. 가설검정\n",
    "2. 유의수준 확인\n",
    "3. 정규성 검정  (주의) 차이값에 대한 정규성\n",
    "4. 검정실시(통계량, p-value 확인)\n",
    "5. 귀무가설 기각여부 결정(채택/기각)"
   ]
  },
  {
   "cell_type": "markdown",
   "id": "820add03",
   "metadata": {},
   "source": [
    "### 2. 독립표본 t검정(2sample t-test)\n",
    "\n",
    ">1. 가설검정\n",
    "2. 유의수준 확인\n",
    "3. 정규성 검정  (주의) 두 집단 모두 정규성을 따를 경우\n",
    "4. 등분산 검정 \n",
    "5. 검정실시(통계량, p-value 확인)\n",
    "6. 귀무가설 기각여부 결정(채택/기각)"
   ]
  },
  {
   "cell_type": "markdown",
   "id": "cbf19d33",
   "metadata": {},
   "source": [
    "## &#9989; 예제문제"
   ]
  },
  {
   "cell_type": "markdown",
   "id": "af8be67d",
   "metadata": {},
   "source": [
    "### Case 1) 대응표본(쌍체) t 검정(paired t-test)\n",
    "\n",
    "문제 1-1\n",
    "다음은 혈압약을 먹기 전, 후의 혈압 데이터이다.\n",
    "\n",
    "혈압약을 먹기 전, 후의 차이가 있는지 쌍체 t검정을 실시하시오.\n",
    "\n",
    "(유의수준 5%)\n",
    "\n",
    "- before : 혈압약을 먹기전 혈압, after : 혈압약을 먹은 후 혈압\n",
    "- H_0(귀무가설) : after - before  = 0\n",
    "- H_1(대립가설) : after - before != 0"
   ]
  },
  {
   "cell_type": "code",
   "execution_count": 2,
   "id": "1d286cef",
   "metadata": {},
   "outputs": [],
   "source": [
    "import pandas as pd\n",
    "import numpy as np\n",
    "import scipy.stats as stats\n",
    "from scipy.stats import shapiro"
   ]
  },
  {
   "cell_type": "code",
   "execution_count": 3,
   "id": "19acca74",
   "metadata": {},
   "outputs": [],
   "source": [
    "# 데이터 만들기\n",
    "df = pd.DataFrame( {\n",
    "    'before': [120, 135, 122, 124, 135, 122, 145, 160, 155, 142, 144, 135, 167],\n",
    "    'after' : [110, 132, 123, 119, 123, 115, 140, 162, 142, 138, 135, 142, 160] })"
   ]
  },
  {
   "cell_type": "code",
   "execution_count": 4,
   "id": "ac67ee72",
   "metadata": {},
   "outputs": [],
   "source": [
    "# 1. 가설검정\n",
    "# H0 : 약을 먹기전과 먹은 후의 혈압 평균은 같다(효과가 없다)\n",
    "# H1 : 약을 먹기전과 먹은 후의 혈압 평균은 같지 않다(효과가 있다)"
   ]
  },
  {
   "cell_type": "code",
   "execution_count": 5,
   "id": "a4a09d7c",
   "metadata": {},
   "outputs": [],
   "source": [
    "# 2. 유의수준 확인 : 유의수준 5%로 확인"
   ]
  },
  {
   "cell_type": "code",
   "execution_count": 7,
   "id": "5541abda",
   "metadata": {},
   "outputs": [
    {
     "name": "stdout",
     "output_type": "stream",
     "text": [
      "0.9589 0.7363\n"
     ]
    }
   ],
   "source": [
    "# 3. 정규성 검정 (차이값에 대해 정규성 확인)\n",
    "statistic, pvalue = stats.shapiro(df['after'] - df['before'])\n",
    "print(round(statistic,4), round(pvalue,4))"
   ]
  },
  {
   "cell_type": "markdown",
   "id": "1adb2500",
   "metadata": {},
   "source": [
    "- p-value 값(0.7363)이 유의수준 (0.05)보다 크다.\n",
    "- 귀무가설 (H0) 채택(정규성검정의 H0 : 정규분포를 따른다)"
   ]
  },
  {
   "cell_type": "code",
   "execution_count": 9,
   "id": "c08eb76d",
   "metadata": {},
   "outputs": [
    {
     "name": "stdout",
     "output_type": "stream",
     "text": [
      "-3.1382 0.0086\n"
     ]
    }
   ],
   "source": [
    "# 4.1 (정규성o) 대응표본(쌍체) t검정(paired t-test)\n",
    "statistic, pvalue = stats.ttest_rel(df['after'], df['before']\n",
    "                                    , alternative='two-sided')\n",
    "print(round(statistic,4), round(pvalue,4))"
   ]
  },
  {
   "cell_type": "code",
   "execution_count": 10,
   "id": "acc3eb99",
   "metadata": {},
   "outputs": [
    {
     "name": "stdout",
     "output_type": "stream",
     "text": [
      "11.0 0.0134\n"
     ]
    }
   ],
   "source": [
    "# 4.2 (정규성x) wilcoxon 부호순위 검정\n",
    "statistic, pvalue = stats.wilcoxon(df['after']-df['before'],\n",
    "                                  alternative='two-sided')\n",
    "print(round(statistic,4), round(pvalue,4))"
   ]
  },
  {
   "cell_type": "code",
   "execution_count": 11,
   "id": "bce54ef0",
   "metadata": {},
   "outputs": [],
   "source": [
    "# 5. 귀무가설 기각 여부 결정(채택/기각)\n",
    "# p-value 값(0.0086)이 0.05보다 작기 떄문에 귀무가설을 기각한다\n",
    "# 즉, 약을 먹기 전과 먹은 후의 혈압은 같지 않다(효과가 있다)\n",
    "\n",
    "# 답 : 기각(H1)"
   ]
  },
  {
   "cell_type": "markdown",
   "id": "829072fd",
   "metadata": {},
   "source": [
    "**차이가 있는지 없는지 확인은 양측검정 // 증가, 감소를 확인하는 것은 단측검정**"
   ]
  },
  {
   "cell_type": "markdown",
   "id": "65bf7bd8",
   "metadata": {},
   "source": [
    "문제 1-2  \n",
    "다음은 혈압약을 먹기 전, 후의 혈압 데이터이다.\n",
    "\n",
    "혈압약을 먹은 후 혈압이 감소했는지 확인하기 위해 쌍체 t 검정을 실시하시오\n",
    "\n",
    "(유의수준 5%)\n",
    "\n",
    "- before : 혈압약을 먹기전 혈압, after : 혈압약을 먹은 후의 혈압\n",
    "- H0(귀무가설) : after - before >=0\n",
    "- H1(대립가설) : after - before < 0"
   ]
  },
  {
   "cell_type": "code",
   "execution_count": 3,
   "id": "8ae9ed5c",
   "metadata": {},
   "outputs": [
    {
     "name": "stdout",
     "output_type": "stream",
     "text": [
      "   before  after\n",
      "0     120    110\n",
      "1     135    132\n",
      "2     122    123\n"
     ]
    }
   ],
   "source": [
    "# 데이터 만들기\n",
    "df = pd.DataFrame( {\n",
    "    'before': [120, 135, 122, 124, 135, 122, 145, 160, 155, 142, 144, 135, 167],\n",
    "    'after' : [110, 132, 123, 119, 123, 115, 140, 162, 142, 138, 135, 142, 160] })\n",
    "print(df.head(3))"
   ]
  },
  {
   "cell_type": "code",
   "execution_count": 4,
   "id": "d530b9ca",
   "metadata": {},
   "outputs": [],
   "source": [
    "# 1. 가설검정\n",
    "# H0 : 약을 먹은 후 혈압이 같거나 증가했다. (after - before >= 0)\n",
    "# H1 : 약을 먹은 후 혈압이 감소했다.        (after - before <  0) "
   ]
  },
  {
   "cell_type": "code",
   "execution_count": 5,
   "id": "d6e9510e",
   "metadata": {},
   "outputs": [],
   "source": [
    "# 2. 유의수준 확인 : 유의수준 5%로 확인"
   ]
  },
  {
   "cell_type": "code",
   "execution_count": 6,
   "id": "711f7890",
   "metadata": {},
   "outputs": [
    {
     "name": "stdout",
     "output_type": "stream",
     "text": [
      "0.9589 0.7363\n"
     ]
    }
   ],
   "source": [
    "statistic, pvalue = stats.shapiro(df['after']-df['before'])\n",
    "print(round(statistic, 4), round(pvalue ,4))"
   ]
  },
  {
   "cell_type": "markdown",
   "id": "014b4788",
   "metadata": {},
   "source": [
    "p-value가 0.05보다 크다 \n",
    "귀무가설 채택"
   ]
  },
  {
   "cell_type": "code",
   "execution_count": 8,
   "id": "3907fa80",
   "metadata": {},
   "outputs": [
    {
     "name": "stdout",
     "output_type": "stream",
     "text": [
      "-3.1382 0.0043\n"
     ]
    }
   ],
   "source": [
    "# 4.1 (정규성o) 대응표본(쌍체) t검정(paired t-test)\n",
    "statistic, pvalue = stats.ttest_rel(df['after'], df['before']\n",
    "                                    , alternative='less')\n",
    "print(round(statistic,4), round(pvalue,4))"
   ]
  },
  {
   "cell_type": "code",
   "execution_count": 9,
   "id": "58cee37c",
   "metadata": {},
   "outputs": [
    {
     "name": "stdout",
     "output_type": "stream",
     "text": [
      "11.0 0.0067\n"
     ]
    }
   ],
   "source": [
    "# 4.2 (정규성x) wilcoxon 부호순위 검정\n",
    "statistic, pvalue = stats.wilcoxon(df['after']-df['before'],\n",
    "                                  alternative='less')\n",
    "print(round(statistic,4), round(pvalue,4))"
   ]
  },
  {
   "cell_type": "code",
   "execution_count": 10,
   "id": "db563a44",
   "metadata": {},
   "outputs": [],
   "source": [
    "# 5. 귀무가설 기각 여부 결정(채택/기각)\n",
    "# p-value 값(0.0043)이 0.05보다 작기 떄문에 귀무가설을 기각한다\n",
    "# 즉, 약을 먹은 후 혈압이 감소했다고 할 수 있다.(효과가 있다)\n",
    "\n",
    "# 답 : 기각(H1)"
   ]
  },
  {
   "cell_type": "markdown",
   "id": "a931aed6",
   "metadata": {},
   "source": [
    "### Case 2) 독립표본 t검정(2sample t-test)\n",
    "\n",
    "문제 2-1  \n",
    "다음은 A그룹과 B그룹 인원의 혈압 데이터이다.\n",
    "\n",
    "두 그룹의 혈압평균이 다르다고 할 수 있는지 독립표본 t검정을 실시하시오.\n",
    "\n",
    "(유의수준 5%)\n",
    "\n",
    "- A : A그룹 인원의 혈압, B : B그룹 인원의 혈압\n",
    "- H0(귀무가설) : A  = B\n",
    "- H1(대립가설) : A != B"
   ]
  },
  {
   "cell_type": "code",
   "execution_count": 14,
   "id": "e8923579",
   "metadata": {},
   "outputs": [
    {
     "name": "stdout",
     "output_type": "stream",
     "text": [
      "     A    B\n",
      "0  120  110\n",
      "1  135  132\n",
      "2  122  123\n"
     ]
    }
   ],
   "source": [
    "# 데이터 만들기\n",
    "df = pd.DataFrame( {\n",
    "    'A': [120, 135, 122, 124, 135, 122, 145, 160, 155, 142, 144, 135, 167],\n",
    "    'B' : [110, 132, 123, 119, 123, 115, 140, 162, 142, 138, 135, 142, 160] })\n",
    "print(df.head(3))"
   ]
  },
  {
   "cell_type": "code",
   "execution_count": 12,
   "id": "4b72f361",
   "metadata": {},
   "outputs": [],
   "source": [
    "# 1. 가설검정\n",
    "# H0(귀무가설) : A그룹과 B그룹의 혈압 평균은 같다.      (A = B)\n",
    "# H1(대립가설) : A그룹과 B그룹의 혈압 평균은 같지 않다. (A != B)"
   ]
  },
  {
   "cell_type": "code",
   "execution_count": 13,
   "id": "ff5f26a1",
   "metadata": {},
   "outputs": [],
   "source": [
    "# 2. 유의수준 확인 : 유의수준 5%로 확인"
   ]
  },
  {
   "cell_type": "code",
   "execution_count": 24,
   "id": "e5040bca",
   "metadata": {},
   "outputs": [
    {
     "name": "stdout",
     "output_type": "stream",
     "text": [
      "0.9314 0.3559\n",
      "0.9498 0.5956\n"
     ]
    }
   ],
   "source": [
    "# 3. 정규성 검정\n",
    "# H0(귀무가설) : 정규분포를 따른다.\n",
    "# H1(대립가설) : 정규분포를 따르지 않는다.\n",
    "\n",
    "statisticA, pvalueA = stats.shapiro(df['A'])\n",
    "statisticB, pvalueB = stats.shapiro(df['B'])\n",
    "print(round(statisticA, 4), round(pvalueA, 4))\n",
    "print(round(statisticB, 4), round(pvalueB, 4))"
   ]
  },
  {
   "cell_type": "markdown",
   "id": "68141e3f",
   "metadata": {},
   "source": [
    "- p-value 값(0.3559, 0.5956)이 유의수준(0.05)보다 크다.  \n",
    "귀무가설(H0) 채택\n",
    "- 만약 하나라도 정규분포를 따르지 않는다면 비모수 검정방법을 써야 함  \n",
    "(윌콕슨의 순위합 검정 ranksums)"
   ]
  },
  {
   "cell_type": "code",
   "execution_count": 16,
   "id": "e92300ed",
   "metadata": {},
   "outputs": [
    {
     "name": "stdout",
     "output_type": "stream",
     "text": [
      "0.0279 0.8673\n"
     ]
    }
   ],
   "source": [
    "# 4. 등분산성 검정\n",
    "# H0(귀무가설) : 등분산 한다.\n",
    "# H1(대립가설) : 등분산 하지 않는다.\n",
    "statistic, pvalue = stats.bartlett(df['A'], df['B'])\n",
    "print(round(statistic, 4), round(pvalue, 4))"
   ]
  },
  {
   "cell_type": "markdown",
   "id": "bcfd024b",
   "metadata": {},
   "source": [
    "- p-value 값이 유의수준(0.05) 보다 크다.  \n",
    "귀무가설(H0) 채택 => 등분산성을 따른다고 할 수 있다."
   ]
  },
  {
   "cell_type": "code",
   "execution_count": 17,
   "id": "651755cb",
   "metadata": {},
   "outputs": [
    {
     "name": "stdout",
     "output_type": "stream",
     "text": [
      "0.8192 0.4207\n"
     ]
    }
   ],
   "source": [
    "# 5.1 (정규성o, 등분산성 o/x) t검정\n",
    "statistic, pvalue = stats.ttest_ind(df['A'], df['B'],\n",
    "                                   equal_var = True,\n",
    "                                   alternative='two-sided')\n",
    "# 만약 등분산 하지 않으면 False로 설정\n",
    "print(round(statistic, 4), round(pvalue, 4))"
   ]
  },
  {
   "cell_type": "code",
   "execution_count": 18,
   "id": "800a6f81",
   "metadata": {},
   "outputs": [
    {
     "name": "stdout",
     "output_type": "stream",
     "text": [
      "0.8462 0.3975\n"
     ]
    }
   ],
   "source": [
    "# 5.2 (정규성x)윌콕슨의 순위합 검정\n",
    "statistic, pvalue = stats.ranksums(df['A'], df['B'],\n",
    "                                   alternative='two-sided')\n",
    "print(round(statistic, 4), round(pvalue, 4))"
   ]
  },
  {
   "cell_type": "code",
   "execution_count": 19,
   "id": "641dd0ae",
   "metadata": {},
   "outputs": [],
   "source": [
    "# 6. 귀무가설 기각여부 결정(채택/기각)\n",
    "# p-value 값이 0.05보다 크기 떄문에 귀무가설을 채택한다\n",
    "# 즉, A그룹과 B그룹의 혈압 평균은 같다고 할 수 있다.\n",
    "\n",
    "# 답 : 채택(H0)"
   ]
  },
  {
   "cell_type": "code",
   "execution_count": 20,
   "id": "80437f46",
   "metadata": {},
   "outputs": [
    {
     "name": "stdout",
     "output_type": "stream",
     "text": [
      "138.9231\n",
      "133.9231\n"
     ]
    }
   ],
   "source": [
    "# (참고) 평균데이터 확인\n",
    "print(round(df['A'].mean(), 4))\n",
    "print(round(df['B'].mean(), 4))"
   ]
  },
  {
   "cell_type": "markdown",
   "id": "df9d7d41",
   "metadata": {},
   "source": [
    "문제 2-2  \n",
    "다음은 A그룹과 B그룹 인원의 혈압 데이터이다.\n",
    "\n",
    "A그룹의 혈압 평균이 B그룹보다 크다고 할 수 있는지 독립표본 t검정을 실시하시오.\n",
    "\n",
    "(유의수준 5%)\n",
    "\n",
    "- A : A그룹 인원의 혈압, B : B그룹 인원의 혈압\n",
    "- H0(귀무가설) : A - B <= 0 (or A <= B)\n",
    "- H1(대립가설) : A - B >  0 (or A >  B)"
   ]
  },
  {
   "cell_type": "code",
   "execution_count": 21,
   "id": "f59cc634",
   "metadata": {},
   "outputs": [
    {
     "name": "stdout",
     "output_type": "stream",
     "text": [
      "     A    B\n",
      "0  120  110\n",
      "1  135  132\n",
      "2  122  123\n"
     ]
    }
   ],
   "source": [
    "# 데이터 만들기\n",
    "df = pd.DataFrame( {\n",
    "    'A': [120, 135, 122, 124, 135, 122, 145, 160, 155, 142, 144, 135, 167],\n",
    "    'B' : [110, 132, 123, 119, 123, 115, 140, 162, 142, 138, 135, 142, 160] })\n",
    "print(df.head(3))"
   ]
  },
  {
   "cell_type": "code",
   "execution_count": 22,
   "id": "f0a6013b",
   "metadata": {},
   "outputs": [],
   "source": [
    "# 1. 가설검정\n",
    "# H0(귀무가설) : A그룹의 혈압 평균이 B그룹보다 작거나 같다. (A <= B)\n",
    "# H1(대립가설) : A그룹의 혈압 평균이 B그룹보다 크다.        (A >  B)"
   ]
  },
  {
   "cell_type": "code",
   "execution_count": 23,
   "id": "d79be415",
   "metadata": {},
   "outputs": [],
   "source": [
    "# 2. 유의수준 확인 : 유의수준 5%로 확인"
   ]
  },
  {
   "cell_type": "code",
   "execution_count": 25,
   "id": "93048db1",
   "metadata": {},
   "outputs": [
    {
     "name": "stdout",
     "output_type": "stream",
     "text": [
      "0.9314 0.3559\n",
      "0.9498 0.5956\n"
     ]
    }
   ],
   "source": [
    "# 3. 정규성 검정(차이값에 대해 정규성 확인)\n",
    "# H0(귀무가설) : 정규분포를 따른다.\n",
    "# H1(대립가설) : 정규분포를 따르지 않는다.\n",
    "\n",
    "statisticA, pvalueA = stats.shapiro(df['A'])\n",
    "statisticB, pvalueB = stats.shapiro(df['B'])\n",
    "print(round(statisticA, 4), round(pvalueA, 4))\n",
    "print(round(statisticB, 4), round(pvalueB, 4))"
   ]
  },
  {
   "cell_type": "markdown",
   "id": "8efc4ba9",
   "metadata": {},
   "source": [
    "- p-value 값(0.3559, 0.5956)이 유의수준(0.05)보다 크다.  \n",
    "귀무가설(H0) 채택\n",
    "- 만약 하나라도 정규분포를 따르지 않는다면 비모수 검정방법을 써야 함  \n",
    "(윌콕슨의 순위합 검정 ranksums)"
   ]
  },
  {
   "cell_type": "code",
   "execution_count": 26,
   "id": "b7bc1a79",
   "metadata": {},
   "outputs": [
    {
     "name": "stdout",
     "output_type": "stream",
     "text": [
      "0.0279 0.8673\n"
     ]
    }
   ],
   "source": [
    "# 4. 등분산성 검정\n",
    "# H0(귀무가설) : 등분산 한다.\n",
    "# H1(대립가설) : 등분산 하지 않는다.\n",
    "statistic, pvalue = stats.bartlett(df['A'], df['B'])\n",
    "print(round(statistic, 4), round(pvalue, 4))"
   ]
  },
  {
   "cell_type": "code",
   "execution_count": 30,
   "id": "c0714fde",
   "metadata": {},
   "outputs": [
    {
     "name": "stdout",
     "output_type": "stream",
     "text": [
      "0.8192 0.2104\n"
     ]
    }
   ],
   "source": [
    "# 5.1 (정규성o, 등분산성 o/x) t검정\n",
    "statistic, pvalue = stats.ttest_ind(df['A'], df['B'],\n",
    "                                   equal_var = True,\n",
    "                                   alternative='greater')\n",
    "# 만약 등분산 하지 않으면 False로 설정\n",
    "print(round(statistic, 4), round(pvalue, 4))"
   ]
  },
  {
   "cell_type": "code",
   "execution_count": 31,
   "id": "d8ab4ddf",
   "metadata": {},
   "outputs": [
    {
     "name": "stdout",
     "output_type": "stream",
     "text": [
      "0.8462 0.1987\n"
     ]
    }
   ],
   "source": [
    "# 5.2 (정규성x)윌콕슨의 순위합 검정\n",
    "statistic, pvalue = stats.ranksums(df['A'], df['B'],\n",
    "                                   alternative='greater')\n",
    "# A그룹의 평균값이 B그룹의 평균값보다 클 수 있는가를 대립가설(H1)으로 설정했기에 greater\n",
    "print(round(statistic, 4), round(pvalue, 4))"
   ]
  },
  {
   "cell_type": "code",
   "execution_count": 29,
   "id": "4957e92c",
   "metadata": {},
   "outputs": [],
   "source": [
    "# 6. 귀무가설 기각여부 결정(채택/기각)\n",
    "# p-value 값이 0.05보다 크기 떄문에 귀무가설을 채택한다\n",
    "# 즉, A그룹의 혈압 평균이 B그룹보다 작거나 같다고 할 수 있다.\n",
    "# (A그룹의 혈압 평균이 B그룹보다 크다고 할 수 없다)\n",
    "\n",
    "# 답 : 채택(H0)"
   ]
  }
 ],
 "metadata": {
  "kernelspec": {
   "display_name": "Python 3 (ipykernel)",
   "language": "python",
   "name": "python3"
  },
  "language_info": {
   "codemirror_mode": {
    "name": "ipython",
    "version": 3
   },
   "file_extension": ".py",
   "mimetype": "text/x-python",
   "name": "python",
   "nbconvert_exporter": "python",
   "pygments_lexer": "ipython3",
   "version": "3.9.13"
  }
 },
 "nbformat": 4,
 "nbformat_minor": 5
}
