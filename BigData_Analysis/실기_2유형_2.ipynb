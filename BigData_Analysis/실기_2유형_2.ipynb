{
 "cells": [
  {
   "cell_type": "markdown",
   "id": "33ddf878",
   "metadata": {},
   "source": [
    "---\n",
    "title: '빅분기 실기 - 2유형 문제풀이(2)'\n",
    "author: 'Hyunsoo Kim'\n",
    "date: '2023-10-22'\n",
    "categories: [Python, Pandas, Numpy, sklearn]\n",
    "jupyter: python3\n",
    "page-layout: full\n",
    "---"
   ]
  },
  {
   "cell_type": "markdown",
   "id": "516e120a",
   "metadata": {},
   "source": [
    "> 실기 2 유형(2)\n",
    "\n",
    "- 출처 : [MetaCodeM](https://www.youtube.com/watch?v=L6sSKf2sv0k)\n",
    "- 참고 : [시험환경 체험](https://dataq.goorm.io/exam/116674/%EC%B2%B4%ED%97%98%ED%95%98%EA%B8%B0/quiz/4)"
   ]
  },
  {
   "cell_type": "markdown",
   "id": "75f19321",
   "metadata": {},
   "source": [
    "# 2유형 문제풀이(2)"
   ]
  },
  {
   "cell_type": "markdown",
   "id": "a53c92eb",
   "metadata": {},
   "source": [
    "# 제2유형_연습하기_당뇨진척정도(회귀)"
   ]
  },
  {
   "cell_type": "markdown",
   "id": "8e80dc3d",
   "metadata": {},
   "source": [
    "## &#9989; 데이터 분석 순서\n",
    "### 1. 라이브러리 및 데이터 확인\n",
    "### 2. 데이터 탐색(EDA)\n",
    "### 3. 데이터 전처리 및 분리\n",
    "### 4. 모델링 및 성능평가\n",
    "### 5. 예측값 제출"
   ]
  },
  {
   "cell_type": "markdown",
   "id": "80b6f892",
   "metadata": {},
   "source": [
    "## &#9989; 1. 라이브러리 및 데이터 확인"
   ]
  },
  {
   "cell_type": "code",
   "execution_count": 41,
   "id": "14c3acf2",
   "metadata": {},
   "outputs": [],
   "source": [
    "import pandas as pd\n",
    "import numpy as np"
   ]
  },
  {
   "cell_type": "code",
   "execution_count": 42,
   "id": "dedeca43",
   "metadata": {},
   "outputs": [],
   "source": [
    "###### 실기환경 복사 영역 ######\n",
    "import pandas as pd\n",
    "import numpy as np\n",
    "# 실기 시험 데이터셋으로 셋팅하기 (수정금지)\n",
    "from sklearn.datasets import load_diabetes\n",
    "# diabetes 데이터셋 로드\n",
    "diabetes = load_diabetes()\n",
    "x = pd.DataFrame(diabetes.data, columns=diabetes.feature_names)\n",
    "y = pd.DataFrame(diabetes.target)\n",
    "\n",
    "# 실시 시험 데이터셋으로 셋팅하기 (수정금지)\n",
    "from sklearn.model_selection import train_test_split\n",
    "x_train, x_test, y_train, y_test = train_test_split(x, y, test_size = 0.2,\n",
    "                                                   random_state = 2023)\n",
    "\n",
    "x_test = pd.DataFrame(x_test.reset_index())\n",
    "x_train = pd.DataFrame(x_train.reset_index())\n",
    "y_train = pd.DataFrame(y_train.reset_index())\n",
    "\n",
    "x_test.rename(columns = {'index':'cust_id'}, inplace=True)\n",
    "x_train.rename(columns = {'index':'cust_id'}, inplace=True)\n",
    "y_train.columns = ['cust_id', 'target']\n",
    "###### 실기환경 복사 영역 ######"
   ]
  },
  {
   "cell_type": "code",
   "execution_count": 43,
   "id": "a2e51739",
   "metadata": {},
   "outputs": [],
   "source": [
    "# from sklearn.datasets import load_diabetes\n",
    "# diabetes = load_diabetes()\n",
    "# x = pd.DataFrame(diabetes.data, columns=diabetes.feature_names)\n",
    "# y = pd.DataFrame(diabetes.target)\n",
    "\n",
    "# from sklearn.model_selection import train_test_split\n",
    "# x_train,x_test,y_train,y_test = train_test_split(x,y,test_size=0.2,\n",
    "#                                                 random_state=2023)\n",
    "\n",
    "# x_test = pd.DataFrame(x_test.reset_index())\n",
    "# x_train = pd.DataFrame(x_train.reset_index())\n",
    "# y_train = pd.DataFrame(y_train.reset_index())\n",
    "\n",
    "# x_test.rename(columns={'index':'cust_id'},inplace=True)\n",
    "# x_train.rename(columns={'index':'cust_id'},inplace=True)\n",
    "# y_train.columns=['cust']"
   ]
  },
  {
   "cell_type": "markdown",
   "id": "3d65e9e2",
   "metadata": {},
   "source": [
    "### 🏥 당뇨병 환자의 질병 진행정도를 예측해보자\n",
    "### - 데이터의 결측치, 이상치, 변수들에 대해 전처리하고\n",
    "### - 회귀모델을 사용하여 Rsq, MSE 값을 산출하시오\n",
    "### - 제출은 cust_id, target 변수를 가진 dataframe 형태로 제출하시오"
   ]
  },
  {
   "cell_type": "code",
   "execution_count": 44,
   "id": "d81d634b",
   "metadata": {},
   "outputs": [
    {
     "name": "stdout",
     "output_type": "stream",
     "text": [
      ".. _diabetes_dataset:\n",
      "\n",
      "Diabetes dataset\n",
      "----------------\n",
      "\n",
      "Ten baseline variables, age, sex, body mass index, average blood\n",
      "pressure, and six blood serum measurements were obtained for each of n =\n",
      "442 diabetes patients, as well as the response of interest, a\n",
      "quantitative measure of disease progression one year after baseline.\n",
      "\n",
      "**Data Set Characteristics:**\n",
      "\n",
      "  :Number of Instances: 442\n",
      "\n",
      "  :Number of Attributes: First 10 columns are numeric predictive values\n",
      "\n",
      "  :Target: Column 11 is a quantitative measure of disease progression one year after baseline\n",
      "\n",
      "  :Attribute Information:\n",
      "      - age     age in years\n",
      "      - sex\n",
      "      - bmi     body mass index\n",
      "      - bp      average blood pressure\n",
      "      - s1      tc, total serum cholesterol\n",
      "      - s2      ldl, low-density lipoproteins\n",
      "      - s3      hdl, high-density lipoproteins\n",
      "      - s4      tch, total cholesterol / HDL\n",
      "      - s5      ltg, possibly log of serum triglycerides level\n",
      "      - s6      glu, blood sugar level\n",
      "\n",
      "Note: Each of these 10 feature variables have been mean centered and scaled by the standard deviation times `n_samples` (i.e. the sum of squares of each column totals 1).\n",
      "\n",
      "Source URL:\n",
      "https://www4.stat.ncsu.edu/~boos/var.select/diabetes.html\n",
      "\n",
      "For more information see:\n",
      "Bradley Efron, Trevor Hastie, Iain Johnstone and Robert Tibshirani (2004) \"Least Angle Regression,\" Annals of Statistics (with discussion), 407-499.\n",
      "(https://web.stanford.edu/~hastie/Papers/LARS/LeastAngle_2002.pdf)\n"
     ]
    }
   ],
   "source": [
    "# 데이터 설명\n",
    "print(diabetes.DESCR)"
   ]
  },
  {
   "cell_type": "markdown",
   "id": "c208e97f",
   "metadata": {},
   "source": [
    "## &#9989; 2. 데이터 탐색(EDA)"
   ]
  },
  {
   "cell_type": "code",
   "execution_count": 45,
   "id": "f437ac28",
   "metadata": {},
   "outputs": [
    {
     "name": "stdout",
     "output_type": "stream",
     "text": [
      "(353, 11)\n",
      "(89, 11)\n",
      "(353, 2)\n"
     ]
    }
   ],
   "source": [
    "# 데이터의 행/열 확인\n",
    "\n",
    "print(x_train.shape)\n",
    "print(x_test.shape)\n",
    "print(y_train.shape)"
   ]
  },
  {
   "cell_type": "code",
   "execution_count": 46,
   "id": "6584b2e5",
   "metadata": {},
   "outputs": [
    {
     "name": "stdout",
     "output_type": "stream",
     "text": [
      "   cust_id       age       sex       bmi        bp        s1        s2  \\\n",
      "0        4  0.005383 -0.044642 -0.036385  0.021872  0.003935  0.015596   \n",
      "1      318  0.088931 -0.044642  0.006728  0.025315  0.030078  0.008707   \n",
      "2      301 -0.001882  0.050680 -0.024529  0.052858  0.027326  0.030001   \n",
      "\n",
      "         s3        s4        s5        s6  \n",
      "0  0.008142 -0.002592 -0.031991 -0.046641  \n",
      "1  0.063367 -0.039493  0.009436  0.032059  \n",
      "2  0.030232 -0.002592 -0.021394  0.036201  \n",
      "   cust_id       age       sex       bmi        bp        s1        s2  \\\n",
      "0      280  0.009016  0.050680  0.018584  0.039087  0.017694  0.010586   \n",
      "1      412  0.074401 -0.044642  0.085408  0.063187  0.014942  0.013091   \n",
      "2       68  0.038076  0.050680 -0.029918 -0.040099 -0.033216 -0.024174   \n",
      "\n",
      "         s3        s4        s5        s6  \n",
      "0  0.019187 -0.002592  0.016305 -0.017646  \n",
      "1  0.015505 -0.002592  0.006209  0.085907  \n",
      "2 -0.010266 -0.002592 -0.012908  0.003064  \n",
      "   cust_id  target\n",
      "0        4   135.0\n",
      "1      318   109.0\n",
      "2      301    65.0\n"
     ]
    }
   ],
   "source": [
    "# 초기 데이터 확인\n",
    "\n",
    "print(x_train.head(3))\n",
    "print(x_test.head(3))\n",
    "print(y_train.head(3))"
   ]
  },
  {
   "cell_type": "code",
   "execution_count": 47,
   "id": "6e235638",
   "metadata": {},
   "outputs": [
    {
     "name": "stdout",
     "output_type": "stream",
     "text": [
      "<class 'pandas.core.frame.DataFrame'>\n",
      "RangeIndex: 353 entries, 0 to 352\n",
      "Data columns (total 11 columns):\n",
      " #   Column   Non-Null Count  Dtype  \n",
      "---  ------   --------------  -----  \n",
      " 0   cust_id  353 non-null    int64  \n",
      " 1   age      353 non-null    float64\n",
      " 2   sex      353 non-null    float64\n",
      " 3   bmi      353 non-null    float64\n",
      " 4   bp       353 non-null    float64\n",
      " 5   s1       353 non-null    float64\n",
      " 6   s2       353 non-null    float64\n",
      " 7   s3       353 non-null    float64\n",
      " 8   s4       353 non-null    float64\n",
      " 9   s5       353 non-null    float64\n",
      " 10  s6       353 non-null    float64\n",
      "dtypes: float64(10), int64(1)\n",
      "memory usage: 30.5 KB\n",
      "None\n",
      "<class 'pandas.core.frame.DataFrame'>\n",
      "RangeIndex: 89 entries, 0 to 88\n",
      "Data columns (total 11 columns):\n",
      " #   Column   Non-Null Count  Dtype  \n",
      "---  ------   --------------  -----  \n",
      " 0   cust_id  89 non-null     int64  \n",
      " 1   age      89 non-null     float64\n",
      " 2   sex      89 non-null     float64\n",
      " 3   bmi      89 non-null     float64\n",
      " 4   bp       89 non-null     float64\n",
      " 5   s1       89 non-null     float64\n",
      " 6   s2       89 non-null     float64\n",
      " 7   s3       89 non-null     float64\n",
      " 8   s4       89 non-null     float64\n",
      " 9   s5       89 non-null     float64\n",
      " 10  s6       89 non-null     float64\n",
      "dtypes: float64(10), int64(1)\n",
      "memory usage: 7.8 KB\n",
      "None\n",
      "<class 'pandas.core.frame.DataFrame'>\n",
      "RangeIndex: 353 entries, 0 to 352\n",
      "Data columns (total 2 columns):\n",
      " #   Column   Non-Null Count  Dtype  \n",
      "---  ------   --------------  -----  \n",
      " 0   cust_id  353 non-null    int64  \n",
      " 1   target   353 non-null    float64\n",
      "dtypes: float64(1), int64(1)\n",
      "memory usage: 5.6 KB\n",
      "None\n"
     ]
    }
   ],
   "source": [
    "# 변수명과 데이터 타입이 매칭이 되는지, 결측치가 있는지 확인해보세요\n",
    "\n",
    "print(x_train.info())\n",
    "print(x_test.info())\n",
    "print(y_train.info())"
   ]
  },
  {
   "cell_type": "code",
   "execution_count": 48,
   "id": "1c32f57e",
   "metadata": {},
   "outputs": [
    {
     "name": "stdout",
     "output_type": "stream",
     "text": [
      "          cust_id         age         sex         bmi          bp          s1  \\\n",
      "count  353.000000  353.000000  353.000000  353.000000  353.000000  353.000000   \n",
      "mean   212.634561    0.000804    0.000724    0.000640   -0.000326    0.001179   \n",
      "std    126.668903    0.047617    0.047673    0.048141    0.046585    0.047891   \n",
      "min      0.000000   -0.107226   -0.044642   -0.084886   -0.112400   -0.126781   \n",
      "25%    105.000000   -0.038207   -0.044642   -0.035307   -0.033214   -0.033216   \n",
      "50%    210.000000    0.005383   -0.044642   -0.006206   -0.005671   -0.002945   \n",
      "75%    322.000000    0.038076    0.050680    0.030440    0.032201    0.027326   \n",
      "max    441.000000    0.110727    0.050680    0.170555    0.125158    0.153914   \n",
      "\n",
      "               s2          s3          s4          s5          s6  \n",
      "count  353.000000  353.000000  353.000000  353.000000  353.000000  \n",
      "mean     0.001110   -0.000452    0.000901    0.001446    0.000589  \n",
      "std      0.048248    0.048600    0.048045    0.047160    0.048122  \n",
      "min     -0.115613   -0.102307   -0.076395   -0.126097   -0.137767  \n",
      "25%     -0.029184   -0.039719   -0.039493   -0.033249   -0.034215  \n",
      "50%     -0.001314   -0.006584   -0.002592    0.000271    0.003064  \n",
      "75%      0.031567    0.030232    0.034309    0.033657    0.032059  \n",
      "max      0.198788    0.181179    0.185234    0.133599    0.135612  \n",
      "          cust_id        age        sex        bmi         bp         s1  \\\n",
      "count   89.000000  89.000000  89.000000  89.000000  89.000000  89.000000   \n",
      "mean   251.696629  -0.003188  -0.002871  -0.002537   0.001292  -0.004676   \n",
      "std    127.901365   0.047761   0.047563   0.045665   0.051777   0.046493   \n",
      "min      9.000000  -0.099961  -0.044642  -0.090275  -0.108957  -0.091006   \n",
      "25%    148.000000  -0.034575  -0.044642  -0.030996  -0.036656  -0.037344   \n",
      "50%    280.000000  -0.001882  -0.044642  -0.009439  -0.005671  -0.009825   \n",
      "75%    366.000000   0.030811   0.050680   0.034751   0.042530   0.031454   \n",
      "max    436.000000   0.096197   0.050680   0.137143   0.132044   0.119515   \n",
      "\n",
      "              s2         s3         s4         s5         s6  \n",
      "count  89.000000  89.000000  89.000000  89.000000  89.000000  \n",
      "mean   -0.004401   0.001792  -0.003575  -0.005737  -0.002334  \n",
      "std     0.045030   0.043723   0.045980   0.049252   0.045757  \n",
      "min    -0.089935  -0.080217  -0.076395  -0.104365  -0.129483  \n",
      "25%    -0.030437  -0.028674  -0.039493  -0.038459  -0.030072  \n",
      "50%    -0.014153  -0.002903  -0.002592  -0.014956  -0.005220  \n",
      "75%     0.020607   0.022869   0.003312   0.024053   0.019633  \n",
      "max     0.130208   0.122273   0.141322   0.133599   0.135612  \n",
      "          cust_id      target\n",
      "count  353.000000  353.000000\n",
      "mean   212.634561  152.943343\n",
      "std    126.668903   75.324692\n",
      "min      0.000000   37.000000\n",
      "25%    105.000000   90.000000\n",
      "50%    210.000000  141.000000\n",
      "75%    322.000000  208.000000\n",
      "max    441.000000  346.000000\n"
     ]
    }
   ],
   "source": [
    "# x_train 과 x_test 데이터의 기초통계량을 잘 비교해보세요\n",
    "\n",
    "print(x_train.describe())\n",
    "print(x_test.describe())\n",
    "print(y_train.describe())"
   ]
  },
  {
   "cell_type": "code",
   "execution_count": 49,
   "id": "7f1b0bab",
   "metadata": {},
   "outputs": [
    {
     "name": "stdout",
     "output_type": "stream",
     "text": [
      "   cust_id  target\n",
      "0        4   135.0\n",
      "1      318   109.0\n",
      "2      301    65.0\n",
      "3      189    79.0\n",
      "4      288    80.0\n"
     ]
    }
   ],
   "source": [
    "# y 데이터도 구체적으로 살펴보세요\n",
    "print(y_train.head())"
   ]
  },
  {
   "cell_type": "code",
   "execution_count": 50,
   "id": "1d698bcb",
   "metadata": {},
   "outputs": [
    {
     "name": "stdout",
     "output_type": "stream",
     "text": [
      "          cust_id      target\n",
      "count  353.000000  353.000000\n",
      "mean   212.634561  152.943343\n",
      "std    126.668903   75.324692\n",
      "min      0.000000   37.000000\n",
      "25%    105.000000   90.000000\n",
      "50%    210.000000  141.000000\n",
      "75%    322.000000  208.000000\n",
      "max    441.000000  346.000000\n"
     ]
    }
   ],
   "source": [
    "# y 데이터도 구체적으로 살펴보세요\n",
    "print(y_train.describe())"
   ]
  },
  {
   "cell_type": "markdown",
   "id": "dc03ab4a",
   "metadata": {},
   "source": [
    "## &#9989; 3. 데이터 전처리 및 분리\n",
    "\n",
    "### 1) 결측치, 2) 이상치, 3) 변수처리하기"
   ]
  },
  {
   "cell_type": "code",
   "execution_count": 51,
   "id": "e9973f3a",
   "metadata": {},
   "outputs": [
    {
     "name": "stdout",
     "output_type": "stream",
     "text": [
      "cust_id    0\n",
      "age        0\n",
      "sex        0\n",
      "bmi        0\n",
      "bp         0\n",
      "s1         0\n",
      "s2         0\n",
      "s3         0\n",
      "s4         0\n",
      "s5         0\n",
      "s6         0\n",
      "dtype: int64\n",
      "cust_id    0\n",
      "age        0\n",
      "sex        0\n",
      "bmi        0\n",
      "bp         0\n",
      "s1         0\n",
      "s2         0\n",
      "s3         0\n",
      "s4         0\n",
      "s5         0\n",
      "s6         0\n",
      "dtype: int64\n",
      "cust_id    0\n",
      "target     0\n",
      "dtype: int64\n"
     ]
    }
   ],
   "source": [
    "# 결측치 확인\n",
    "\n",
    "print(x_train.isnull().sum())\n",
    "print(x_test.isnull().sum())\n",
    "print(y_train.isnull().sum())"
   ]
  },
  {
   "cell_type": "code",
   "execution_count": 52,
   "id": "42107722",
   "metadata": {},
   "outputs": [],
   "source": [
    "# 결측치 제거\n",
    "# df = df.dropna()\n",
    "# print(df)\n",
    "\n",
    "# 참고사항\n",
    "# print(df.dropna().shape) # 행 기준으로 삭제"
   ]
  },
  {
   "cell_type": "code",
   "execution_count": 53,
   "id": "48b6eba2",
   "metadata": {},
   "outputs": [],
   "source": [
    "# 결측치 대체 (평균값, 중앙값, 최빈값)\n",
    "# 연속형 변수 :  중앙값, 평균값\n",
    "# df['변수명'].median()\n",
    "# df['변수명'].mean()\n",
    "\n",
    "# 범주형 변수 :  최빈값\n",
    "# df['변수명'].mode()\n",
    "\n",
    "\n",
    "# df['변수명'] = df['변수명'].fillna(대체할값)"
   ]
  },
  {
   "cell_type": "code",
   "execution_count": 54,
   "id": "fd5e69e1",
   "metadata": {},
   "outputs": [],
   "source": [
    "# 이상치 대체\n",
    "# (참고) df['변수명'] = np.where(df['변수명'] >= 5, 대체할 값, df['변수명'])"
   ]
  },
  {
   "cell_type": "code",
   "execution_count": 55,
   "id": "3699b8d1",
   "metadata": {},
   "outputs": [],
   "source": [
    "# 변수처리\n",
    "\n",
    "# 불필요한 변수 제거\n",
    "# df = df.drop(columns = ['변수1', '변수2'])\n",
    "# df = df.drop(['변수1', '변수2'], axis=1)\n",
    "\n",
    "# 필요시 변수 추가(파생변수 생성)\n",
    "# df['파생변수명'] = df['A'] * df['B'] (파생변수 생성 수식)\n",
    "\n",
    "# 원핫인코딩(가변수 처리)\n",
    "# x_train = pd.get_dummies(x_train)\n",
    "# x_test = pd.get_dummies(x_test)\n",
    "\n",
    "# print(x_train.info())\n",
    "# print(x_test.info())"
   ]
  },
  {
   "cell_type": "code",
   "execution_count": 56,
   "id": "bf33611b",
   "metadata": {},
   "outputs": [],
   "source": [
    "# 변수처리\n",
    "\n",
    "# 불필요한 변수(columns) 제거\n",
    "# cust_id 는 불필요한 변수이므로 제거합니다.\n",
    "# 단, test셋의 cust_id가 나중에 제출이 필요하기 떄문에 별도로 저장\n",
    "\n",
    "cust_id = x_test['cust_id'].copy()\n",
    "\n",
    "# 각 데이터에서 cust_id 변수 제거\n",
    "x_train = x_train.drop(columns = ['cust_id']) # drop(columns = ['변수1', '변수2'])\n",
    "x_test = x_test.drop(columns = ['cust_id'])"
   ]
  },
  {
   "cell_type": "markdown",
   "id": "7f7fadf0",
   "metadata": {},
   "source": [
    "###  데이터 분리"
   ]
  },
  {
   "cell_type": "code",
   "execution_count": 57,
   "id": "b1841e68",
   "metadata": {},
   "outputs": [
    {
     "name": "stdout",
     "output_type": "stream",
     "text": [
      "(282, 10)\n",
      "(71, 10)\n",
      "(282,)\n",
      "(71,)\n"
     ]
    }
   ],
   "source": [
    "# 데이터를 훈련 세트와 검증용 세트로 분할 (80% 훈련, 20% 검증용)\n",
    "from sklearn.model_selection import train_test_split\n",
    "x_train, x_val, y_train, y_val = train_test_split(x_train, y_train['target'],\n",
    "                                                   test_size = 0.2,\n",
    "                                                   random_state = 23)\n",
    "# 분류 모델에서는 층화(starify)를 할 필요가 없다. 연속형인 경우에만 사용\n",
    "\n",
    "print(x_train.shape)\n",
    "print(x_val.shape)\n",
    "print(y_train.shape)\n",
    "print(y_val.shape)"
   ]
  },
  {
   "cell_type": "markdown",
   "id": "5ad9f54d",
   "metadata": {},
   "source": [
    "## &#9989; 4. 모델링 및 성능평가"
   ]
  },
  {
   "cell_type": "code",
   "execution_count": 58,
   "id": "7b507531",
   "metadata": {},
   "outputs": [
    {
     "data": {
      "text/plain": [
       "RandomForestRegressor(random_state=2023)"
      ]
     },
     "execution_count": 58,
     "metadata": {},
     "output_type": "execute_result"
    }
   ],
   "source": [
    "# 랜덤포레스 모델 사용 (참고 : 분류모델은 RandomForestClassifier)\n",
    "from sklearn.ensemble import RandomForestRegressor\n",
    "model = RandomForestRegressor(random_state = 2023)\n",
    "model.fit(x_train, y_train)"
   ]
  },
  {
   "cell_type": "code",
   "execution_count": 59,
   "id": "cd9c5f30",
   "metadata": {},
   "outputs": [],
   "source": [
    "# 모델을 사용하여 테스트 데이터 예측\n",
    "y_pred = model.predict(x_val)"
   ]
  },
  {
   "cell_type": "code",
   "execution_count": 60,
   "id": "85ecbf84",
   "metadata": {},
   "outputs": [],
   "source": [
    "# 모델 성능 평가 (평균 제곱 오차 및 R-squared)\n",
    "from sklearn.metrics import mean_squared_error, r2_score\n",
    "mse = mean_squared_error(y_val, y_pred) # (실제값, 예측값)\n",
    "r2 = r2_score(y_val, y_pred) # (실제값, 예측값)"
   ]
  },
  {
   "cell_type": "code",
   "execution_count": 61,
   "id": "fa65852f",
   "metadata": {},
   "outputs": [
    {
     "name": "stdout",
     "output_type": "stream",
     "text": [
      "2571.6276845070424\n"
     ]
    }
   ],
   "source": [
    "# MSE(mean_squared_error, 평균 제곱 오차)\n",
    "print(mse)"
   ]
  },
  {
   "cell_type": "code",
   "execution_count": 62,
   "id": "bdaa6e1b",
   "metadata": {},
   "outputs": [
    {
     "name": "stdout",
     "output_type": "stream",
     "text": [
      "0.5235611874726152\n"
     ]
    }
   ],
   "source": [
    "# R2 score(R-squared)\n",
    "print(r2)"
   ]
  },
  {
   "cell_type": "code",
   "execution_count": 63,
   "id": "bd5cd72d",
   "metadata": {},
   "outputs": [
    {
     "name": "stdout",
     "output_type": "stream",
     "text": [
      "50.71121852713699\n"
     ]
    }
   ],
   "source": [
    "# RMSE (root mean squared error)\n",
    "rmse = mse ** 0.5\n",
    "print(rmse)"
   ]
  },
  {
   "cell_type": "markdown",
   "id": "911bee3a",
   "metadata": {},
   "source": [
    "## &#9989; 5. 예측값 제출"
   ]
  },
  {
   "cell_type": "markdown",
   "id": "095d0eb0",
   "metadata": {},
   "source": [
    "### (주의) x_test 를 모델에 넣어 나온 예측값을 제출해야함"
   ]
  },
  {
   "cell_type": "code",
   "execution_count": 64,
   "id": "72dbb5fd",
   "metadata": {},
   "outputs": [
    {
     "name": "stdout",
     "output_type": "stream",
     "text": [
      "   cust_id  target\n",
      "0      280  186.51\n",
      "1      412  255.92\n",
      "2       68   77.97\n",
      "3      324  184.22\n",
      "4      101  111.14\n"
     ]
    }
   ],
   "source": [
    "#(실기시험 안내사항)\n",
    "# 아래 코드 예측변수와 수험번호를 개인별로 변경하여 활용\n",
    "# pd.DataFrame({'cust_id':cust_id, 'target':y_result}).to_csv('0030000.csv', index=False)\n",
    "\n",
    "# 모델을 사용하여 테스트 데이터 예측\n",
    "y_result = model.predict(x_test)\n",
    "result = pd.DataFrame({'cust_id':cust_id, 'target':y_result})\n",
    "print(result[:5])"
   ]
  },
  {
   "cell_type": "code",
   "execution_count": 65,
   "id": "b4ef08ba",
   "metadata": {},
   "outputs": [],
   "source": [
    "# ★tip : 데이터를 저장한 다음 불러와서 제대로 제출했는지 확인해보자\n",
    "# pd.DataFrame({'result':y_result}).to_csv('수험번호.csv', index=False)\n",
    "# df2 = pd.read_csv(\"수험번호.csv\")\n",
    "# print(df2.head())"
   ]
  }
 ],
 "metadata": {
  "kernelspec": {
   "display_name": "Python 3 (ipykernel)",
   "language": "python",
   "name": "python3"
  },
  "language_info": {
   "codemirror_mode": {
    "name": "ipython",
    "version": 3
   },
   "file_extension": ".py",
   "mimetype": "text/x-python",
   "name": "python",
   "nbconvert_exporter": "python",
   "pygments_lexer": "ipython3",
   "version": "3.9.13"
  }
 },
 "nbformat": 4,
 "nbformat_minor": 5
}
