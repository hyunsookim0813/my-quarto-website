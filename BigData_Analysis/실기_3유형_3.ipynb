{
 "cells": [
  {
   "cell_type": "markdown",
   "id": "bea39db4",
   "metadata": {},
   "source": [
    "---\n",
    "title: '빅분기 실기 - 3유형 문제풀이(3)'\n",
    "author: 'Hyunsoo Kim'\n",
    "date: '2023-11-16'\n",
    "categories: [Python, Pandas, Numpy, scipy]\n",
    "jupyter: python3\n",
    "page-layout: full\n",
    "---"
   ]
  },
  {
   "cell_type": "markdown",
   "id": "4a8fca0a",
   "metadata": {},
   "source": [
    "> 실기 3 유형(3)\n",
    "\n",
    "- 출처 : [MetaCodeM](https://www.youtube.com/watch?v=37GqFZVjc1Y&t=1548s)\n",
    "- 참고 : [시험환경 체험](https://dataq.goorm.io/exam/3/%EB%B9%85%EB%8D%B0%EC%9D%B4%ED%84%B0%EB%B6%84%EC%84%9D%EA%B8%B0%EC%82%AC-%EC%8B%A4%EA%B8%B0-%EC%B2%B4%ED%97%98/quiz/5)\n",
    "\n",
    "- 추가 : [MetaCodeM](https://www.youtube.com/watch?v=UIiydlm-eDg&feature=youtu.be)"
   ]
  },
  {
   "cell_type": "markdown",
   "id": "7380ed32",
   "metadata": {},
   "source": [
    "# 3유형 문제풀이(3)"
   ]
  },
  {
   "cell_type": "markdown",
   "id": "b48e0dca",
   "metadata": {},
   "source": [
    "# 제3유형_모집단 3개 이상"
   ]
  },
  {
   "cell_type": "markdown",
   "id": "2b61de18",
   "metadata": {},
   "source": [
    "## &#9989; 검정방법\n",
    "\n",
    "## 1. 분산분석(ANOVA) : A집단 vs B집단 vs C집단 vs ...\n",
    "- (정규성o) ANOVA 분석\n",
    "- (정규성x) 크루스칼-왈리스 검정(kruskal-wallis test)"
   ]
  },
  {
   "cell_type": "markdown",
   "id": "25be4291",
   "metadata": {},
   "source": [
    "## &#9989; 가설검정 순서(중요!!)\n",
    "\n",
    ">1. 가설검정\n",
    "2. 유의수준 확인\n",
    "3. 정규성 검정  (주의) 집단 모두 정규성을 따를 경우!\n",
    "4. 등분산 검정\n",
    "4. 검정실시(통계량, p-value 확인)  (주의) 등분산여부 확인\n",
    "5. 귀무가설 기각여부 결정(채택/기각)"
   ]
  },
  {
   "cell_type": "markdown",
   "id": "85fb349f",
   "metadata": {},
   "source": [
    "## &#9989; 예제문제"
   ]
  },
  {
   "cell_type": "markdown",
   "id": "536a589b",
   "metadata": {},
   "source": [
    "### 문제 1-1\n",
    "다음은 A, B, C 그룹 인원 성적 데이터이다.\n",
    "\n",
    "세 그룹의 성적 평균이 같다고 할 수 있는지 ANOVA 분석을 실시하시오.\n",
    "\n",
    "(유의수준 5%)\n",
    "\n",
    "- A, B, C : 각 그룹 인원의 성적\n",
    "- H0(귀무가설) : A(평균) = B(평균) = C(평균)\n",
    "- H1(대립가설) : Not H0 (적어도 하나는 같지 않다)"
   ]
  },
  {
   "cell_type": "code",
   "execution_count": 1,
   "id": "c854b555",
   "metadata": {},
   "outputs": [],
   "source": [
    "import pandas as pd\n",
    "import numpy as np\n",
    "import scipy.stats as stats\n",
    "from scipy.stats import shapiro"
   ]
  },
  {
   "cell_type": "code",
   "execution_count": 2,
   "id": "1962bd45",
   "metadata": {},
   "outputs": [
    {
     "name": "stdout",
     "output_type": "stream",
     "text": [
      "     A    B    C\n",
      "0  120  110  130\n",
      "1  135  132  120\n",
      "2  122  123  115\n"
     ]
    }
   ],
   "source": [
    "# 데이터 만들기\n",
    "df = pd.DataFrame( {\n",
    "    'A': [120, 135, 122, 124, 135, 122, 145, 160, 155, 142, 144, 135, 167],\n",
    "    'B': [110, 132, 123, 119, 123, 115, 140, 162, 142, 138, 135, 142, 160],\n",
    "    'C': [130, 120, 115, 122, 133, 144, 122, 120, 110, 134, 125, 122, 122]})\n",
    "print(df.head(3))"
   ]
  },
  {
   "cell_type": "code",
   "execution_count": 3,
   "id": "265a4e26",
   "metadata": {},
   "outputs": [],
   "source": [
    "# 1. 가설검정\n",
    "# H0 : 세 그룹 성적의 평균값이 같다. (A(평균) = B(평균) = C(평균))\n",
    "# H1 : 세 그룹의 성적 평균값이 적어도 하나는 같지 않다. (not H0)"
   ]
  },
  {
   "cell_type": "code",
   "execution_count": 4,
   "id": "8edd4ee0",
   "metadata": {},
   "outputs": [],
   "source": [
    "# 2. 유의수준 확인 : 유의수준 5%로 확인"
   ]
  },
  {
   "cell_type": "code",
   "execution_count": 5,
   "id": "3c344ba0",
   "metadata": {},
   "outputs": [
    {
     "name": "stdout",
     "output_type": "stream",
     "text": [
      "ShapiroResult(statistic=0.9314376711845398, pvalue=0.35585272312164307)\n",
      "ShapiroResult(statistic=0.9498201012611389, pvalue=0.5955665707588196)\n",
      "ShapiroResult(statistic=0.9396706223487854, pvalue=0.45265132188796997)\n"
     ]
    }
   ],
   "source": [
    "# 3. 정규성 검정\n",
    "print(stats.shapiro(df['A']))\n",
    "print(stats.shapiro(df['B']))\n",
    "print(stats.shapiro(df['C']))\n",
    "\n",
    "# statistic, pvalue = stats.shapiro(df['A'])\n",
    "# print(round(statistic,4), round(pvalue,4))"
   ]
  },
  {
   "cell_type": "markdown",
   "id": "bf316a28",
   "metadata": {},
   "source": [
    "- 세 집단 모두 p-value 값이 유의수준(0.05)보다 크다  \n",
    "귀무가설(H0) 채택 => 정규분포를 따른다고 할 수 있다.\n",
    "- 만약 하나라도 정규분포를 따르지 않는다면 비모수 검정방법을 써야함  \n",
    "(크루스칼-왈리스 검정)"
   ]
  },
  {
   "cell_type": "code",
   "execution_count": 6,
   "id": "c70a16cb",
   "metadata": {},
   "outputs": [
    {
     "name": "stdout",
     "output_type": "stream",
     "text": [
      "BartlettResult(statistic=4.222248448848066, pvalue=0.12110174433684852)\n"
     ]
    }
   ],
   "source": [
    "# 4. 등분산성 검정\n",
    "# H0(귀무가설) : 등분산 한다\n",
    "# H1(대립가설) : 등분산 하지 않는다\n",
    "print(stats.bartlett(df['A'], df['B'], df['C']))"
   ]
  },
  {
   "cell_type": "markdown",
   "id": "7d857ccb",
   "metadata": {},
   "source": [
    "- p-value 값이 유의수준(0.05)보다 크다  \n",
    "귀무가설(H0) 채택 => 등분산 한다고 할 수 있다."
   ]
  },
  {
   "cell_type": "code",
   "execution_count": 7,
   "id": "3f590356",
   "metadata": {},
   "outputs": [
    {
     "name": "stdout",
     "output_type": "stream",
     "text": [
      "3.6971 0.0346\n"
     ]
    }
   ],
   "source": [
    "# 5.1 (정규성o, 등분산성 o) 분산분석(F_oneway)\n",
    "import scipy.stats as stats\n",
    "statistic, pvalue = stats.f_oneway(df['A'], df['B'], df['C'])\n",
    "# 주의 : 데이터가 각각 들어가야 함(밑에 예제와 비교해볼 것)\n",
    "\n",
    "print(round(statistic,4), round(pvalue,4))"
   ]
  },
  {
   "cell_type": "code",
   "execution_count": 8,
   "id": "8eaacd0b",
   "metadata": {},
   "outputs": [],
   "source": [
    "# 5.2 (정규성o, 등분산성 x) Welch_ANOVA 분석\n",
    "# import pingouin as pg     # pingouin 패키지 미지원\n",
    "# pg.welch_anova(dv = \"그룹변수명\", between=\"성적데이터\", data=데이터)\n",
    "# pg.welch_anova(df['A'], df['B'], df['C']) 형태로 분석불가"
   ]
  },
  {
   "cell_type": "code",
   "execution_count": 9,
   "id": "2f478731",
   "metadata": {},
   "outputs": [
    {
     "name": "stdout",
     "output_type": "stream",
     "text": [
      "6.897 0.0318\n"
     ]
    }
   ],
   "source": [
    "# 5.3 (정규성x, 등분산성 x) 크루스 왈리스 검정\n",
    "import scipy.stats as stats\n",
    "statistic, pvalue = stats.kruskal(df['A'], df['B'], df['C'])\n",
    "\n",
    "print(round(statistic,4), round(pvalue,4))"
   ]
  },
  {
   "cell_type": "code",
   "execution_count": 10,
   "id": "07778a89",
   "metadata": {},
   "outputs": [],
   "source": [
    "# 6. 귀무가설 기각 여부 결정(채택/기각)\n",
    "# p-value 값(0.0346)이 0.05보다 작기 떄문에 귀무가설을 기각한다\n",
    "# 즉, A, B, C 그룹의 성적 평균이 같다고 할 수 없다.\n",
    "\n",
    "# 답 : 기각(H1)"
   ]
  },
  {
   "cell_type": "markdown",
   "id": "9a80ee91",
   "metadata": {},
   "source": [
    "### 문제 1-2 데이터 형태가 다른 경우"
   ]
  },
  {
   "cell_type": "code",
   "execution_count": 11,
   "id": "4aa3cf31",
   "metadata": {},
   "outputs": [
    {
     "name": "stdout",
     "output_type": "stream",
     "text": [
      "  항목  value\n",
      "0  A    120\n",
      "1  A    135\n",
      "2  A    122\n"
     ]
    }
   ],
   "source": [
    "# 데이터 만들기\n",
    "df2 = pd.DataFrame( {\n",
    "    '항목': ['A','A','A','A','A','A','A','A','A','A','A','A','A',\n",
    "           'B','B','B','B','B','B','B','B','B','B','B','B','B',\n",
    "           'C','C','C','C','C','C','C','C','C','C','C','C','C',],\n",
    "    'value': [120, 135, 122, 124, 135, 122, 145, 160, 155, 142, 144, 135, 167,\n",
    "             110, 132, 123, 119, 123, 115, 140, 162, 142, 138, 135, 142, 160,\n",
    "             130, 120, 115, 122, 133, 144, 122, 120, 110, 134, 125, 122, 122]\n",
    "    })\n",
    "print(df2.head(3))"
   ]
  },
  {
   "cell_type": "code",
   "execution_count": 12,
   "id": "bc6961b4",
   "metadata": {},
   "outputs": [],
   "source": [
    "# 각각 필터링해서 변수명에 저장하고 분석 진행\n",
    "a = df2[ df2['항목']=='A' ]['value']\n",
    "b = df2[ df2['항목']=='B' ]['value']\n",
    "c = df2[ df2['항목']=='C' ]['value']"
   ]
  },
  {
   "cell_type": "code",
   "execution_count": 13,
   "id": "3691858c",
   "metadata": {},
   "outputs": [
    {
     "name": "stdout",
     "output_type": "stream",
     "text": [
      "3.6971 0.0346\n"
     ]
    }
   ],
   "source": [
    "# 분산분석(F_oneway)\n",
    "import scipy.stats as stats\n",
    "statistic, pvalue = stats.f_oneway(a, b, c)\n",
    "print(round(statistic,4), round(pvalue,4))"
   ]
  }
 ],
 "metadata": {
  "kernelspec": {
   "display_name": "Python 3 (ipykernel)",
   "language": "python",
   "name": "python3"
  },
  "language_info": {
   "codemirror_mode": {
    "name": "ipython",
    "version": 3
   },
   "file_extension": ".py",
   "mimetype": "text/x-python",
   "name": "python",
   "nbconvert_exporter": "python",
   "pygments_lexer": "ipython3",
   "version": "3.9.13"
  }
 },
 "nbformat": 4,
 "nbformat_minor": 5
}
