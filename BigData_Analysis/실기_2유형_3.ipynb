{
 "cells": [
  {
   "cell_type": "markdown",
   "id": "2255d524",
   "metadata": {},
   "source": [
    "---\n",
    "title: '빅분기 실기 - 2유형 문제풀이(3)'\n",
    "author: 'Hyunsoo Kim'\n",
    "date: '2023-10-22'\n",
    "categories: [Python, Pandas, Numpy, sklearn]\n",
    "jupyter: python3\n",
    "page-layout: full\n",
    "---"
   ]
  },
  {
   "cell_type": "markdown",
   "id": "7d09a34e",
   "metadata": {},
   "source": [
    "> 실기 2 유형(3)\n",
    "\n",
    "- 출처 : [MetaCodeM](https://www.youtube.com/watch?v=L6sSKf2sv0k)\n",
    "- 참고 : [시험환경 체험](https://dataq.goorm.io/exam/116674/%EC%B2%B4%ED%97%98%ED%95%98%EA%B8%B0/quiz/4)"
   ]
  },
  {
   "cell_type": "markdown",
   "id": "9fe8a32f",
   "metadata": {},
   "source": [
    "# 2유형 문제풀이(3)"
   ]
  },
  {
   "cell_type": "markdown",
   "id": "7de6756d",
   "metadata": {},
   "source": [
    "# 제2유형_연습하기_당뇨진척정도(회귀)"
   ]
  },
  {
   "cell_type": "markdown",
   "id": "8135edb9",
   "metadata": {},
   "source": [
    "## &#9989; 데이터 분석 순서\n",
    "### 1. 라이브러리 및 데이터 확인\n",
    "### 2. 데이터 탐색(EDA)\n",
    "### 3. 데이터 전처리 및 분리\n",
    "### 4. 모델링 및 성능평가\n",
    "### 5. 예측값 제출"
   ]
  },
  {
   "cell_type": "markdown",
   "id": "2e865138",
   "metadata": {},
   "source": [
    "## &#9989; 1. 라이브러리 및 데이터 확인"
   ]
  },
  {
   "cell_type": "code",
   "execution_count": 1,
   "id": "c4e09e29",
   "metadata": {},
   "outputs": [],
   "source": [
    "import pandas as pd\n",
    "import numpy as np"
   ]
  },
  {
   "cell_type": "code",
   "execution_count": 2,
   "id": "955d6a32",
   "metadata": {},
   "outputs": [],
   "source": [
    "###### 실기환경 복사 영역 ######\n",
    "# 실기 시험 데이터셋으로 셋팅하기 (수정금지)\n",
    "\n",
    "import seaborn as sns\n",
    "# tips 데이터셋 로드\n",
    "df = sns.load_dataset('tips')\n",
    "\n",
    "x = df.drop(['tip'], axis=1)\n",
    "y = df['tip']\n",
    "\n",
    "\n",
    "# 실시 시험 데이터셋으로 셋팅하기 (수정금지)\n",
    "from sklearn.model_selection import train_test_split\n",
    "x_train, x_test, y_train, y_test = train_test_split(x, y, test_size = 0.2,\n",
    "                                                   random_state = 2023)\n",
    "\n",
    "x_test = pd.DataFrame(x_test.reset_index())\n",
    "x_train = pd.DataFrame(x_train.reset_index())\n",
    "y_train = pd.DataFrame(y_train.reset_index())\n",
    "\n",
    "x_test.rename(columns = {'index':'cust_id'}, inplace=True)\n",
    "x_train.rename(columns = {'index':'cust_id'}, inplace=True)\n",
    "y_train.columns = ['cust_id', 'target']\n",
    "###### 실기환경 복사 영역 ######"
   ]
  },
  {
   "cell_type": "markdown",
   "id": "f8e3050e",
   "metadata": {},
   "source": [
    "## 레스토랑의 예측 문제\n",
    "\n",
    "## - 데이터의 결측치, 이상치, 변수에 대해 처리하고\n",
    "\n",
    "## - 회귀모델을 사용하여 Rsq, MSE 값을 산출하시오\n",
    "\n",
    "## 데이터셋 설명\n",
    "> - total_bill(): 손님의 식사 총 청구액\n",
    "> - tip(팁): 팁의 양\n",
    "> - sex(성별): 손님의 성별\n",
    "> - smoker(흡연자): 손님의 흡연 여부(\"Yes\" 또는 \"No\")\n",
    "> - day(요일): 식사가 이루어진 요일\n",
    "> - time(시간): 점심 또는 저녁 중 언제 식사가 이루어졌는지\n",
    "> - size(인원 수): 식사에 참석한 인원 수"
   ]
  },
  {
   "cell_type": "markdown",
   "id": "5c760d14",
   "metadata": {},
   "source": [
    "## &#9989; 2. 데이터 탐색(EDA)"
   ]
  },
  {
   "cell_type": "code",
   "execution_count": 3,
   "id": "8ee6b6c6",
   "metadata": {},
   "outputs": [
    {
     "name": "stdout",
     "output_type": "stream",
     "text": [
      "(195, 7)\n",
      "(49, 7)\n",
      "(195, 2)\n"
     ]
    }
   ],
   "source": [
    "# 데이터의 행/열 확인\n",
    "\n",
    "print(x_train.shape)\n",
    "print(x_test.shape)\n",
    "print(y_train.shape)"
   ]
  },
  {
   "cell_type": "code",
   "execution_count": 4,
   "id": "3521617b",
   "metadata": {},
   "outputs": [
    {
     "name": "stdout",
     "output_type": "stream",
     "text": [
      "   cust_id  total_bill     sex smoker  day    time  size\n",
      "0      158       13.39  Female     No  Sun  Dinner     2\n",
      "1      186       20.90  Female    Yes  Sun  Dinner     3\n",
      "2       21       20.29  Female     No  Sat  Dinner     2\n",
      "   cust_id  total_bill     sex smoker  day    time  size\n",
      "0      154       19.77    Male     No  Sun  Dinner     4\n",
      "1        4       24.59  Female     No  Sun  Dinner     4\n",
      "2       30        9.55    Male     No  Sat  Dinner     2\n",
      "   cust_id  target\n",
      "0      158    2.61\n",
      "1      186    3.50\n",
      "2       21    2.75\n"
     ]
    }
   ],
   "source": [
    "# 초기 데이터 확인\n",
    "\n",
    "print(x_train.head(3))\n",
    "print(x_test.head(3))\n",
    "print(y_train.head(3))"
   ]
  },
  {
   "cell_type": "code",
   "execution_count": 5,
   "id": "4005a248",
   "metadata": {},
   "outputs": [
    {
     "name": "stdout",
     "output_type": "stream",
     "text": [
      "<class 'pandas.core.frame.DataFrame'>\n",
      "RangeIndex: 195 entries, 0 to 194\n",
      "Data columns (total 7 columns):\n",
      " #   Column      Non-Null Count  Dtype   \n",
      "---  ------      --------------  -----   \n",
      " 0   cust_id     195 non-null    int64   \n",
      " 1   total_bill  195 non-null    float64 \n",
      " 2   sex         195 non-null    category\n",
      " 3   smoker      195 non-null    category\n",
      " 4   day         195 non-null    category\n",
      " 5   time        195 non-null    category\n",
      " 6   size        195 non-null    int64   \n",
      "dtypes: category(4), float64(1), int64(2)\n",
      "memory usage: 6.0 KB\n",
      "None\n",
      "<class 'pandas.core.frame.DataFrame'>\n",
      "RangeIndex: 49 entries, 0 to 48\n",
      "Data columns (total 7 columns):\n",
      " #   Column      Non-Null Count  Dtype   \n",
      "---  ------      --------------  -----   \n",
      " 0   cust_id     49 non-null     int64   \n",
      " 1   total_bill  49 non-null     float64 \n",
      " 2   sex         49 non-null     category\n",
      " 3   smoker      49 non-null     category\n",
      " 4   day         49 non-null     category\n",
      " 5   time        49 non-null     category\n",
      " 6   size        49 non-null     int64   \n",
      "dtypes: category(4), float64(1), int64(2)\n",
      "memory usage: 2.0 KB\n",
      "None\n",
      "<class 'pandas.core.frame.DataFrame'>\n",
      "RangeIndex: 195 entries, 0 to 194\n",
      "Data columns (total 2 columns):\n",
      " #   Column   Non-Null Count  Dtype  \n",
      "---  ------   --------------  -----  \n",
      " 0   cust_id  195 non-null    int64  \n",
      " 1   target   195 non-null    float64\n",
      "dtypes: float64(1), int64(1)\n",
      "memory usage: 3.2 KB\n",
      "None\n"
     ]
    }
   ],
   "source": [
    "# 변수명과 데이터 타입이 매칭이 되는지, 결측치가 있는지 확인해보세요\n",
    "\n",
    "print(x_train.info())\n",
    "print(x_test.info())\n",
    "print(y_train.info())"
   ]
  },
  {
   "cell_type": "code",
   "execution_count": 6,
   "id": "937621d6",
   "metadata": {},
   "outputs": [
    {
     "name": "stdout",
     "output_type": "stream",
     "text": [
      "          cust_id  total_bill        size\n",
      "count  195.000000  195.000000  195.000000\n",
      "mean   122.056410   20.054667    2.543590\n",
      "std     70.668034    8.961645    0.942631\n",
      "min      0.000000    3.070000    1.000000\n",
      "25%     59.500000   13.420000    2.000000\n",
      "50%    121.000000   17.920000    2.000000\n",
      "75%    182.500000   24.395000    3.000000\n",
      "max    243.000000   50.810000    6.000000\n",
      "          cust_id  total_bill       size\n",
      "count   49.000000   49.000000  49.000000\n",
      "mean   119.285714   18.716531   2.673469\n",
      "std     70.918674    8.669864   0.987162\n",
      "min      2.000000    5.750000   2.000000\n",
      "25%     62.000000   12.740000   2.000000\n",
      "50%    123.000000   16.660000   2.000000\n",
      "75%    180.000000   21.010000   3.000000\n",
      "max    239.000000   44.300000   6.000000\n",
      "          cust_id      target\n",
      "count  195.000000  195.000000\n",
      "mean   122.056410    3.021692\n",
      "std     70.668034    1.402690\n",
      "min      0.000000    1.000000\n",
      "25%     59.500000    2.000000\n",
      "50%    121.000000    2.920000\n",
      "75%    182.500000    3.530000\n",
      "max    243.000000   10.000000\n"
     ]
    }
   ],
   "source": [
    "# x_train 과 x_test 데이터의 기초통계량을 잘 비교해보세요\n",
    "\n",
    "print(x_train.describe())\n",
    "print(x_test.describe())\n",
    "print(y_train.describe())"
   ]
  },
  {
   "cell_type": "code",
   "execution_count": 7,
   "id": "ac15b7fd",
   "metadata": {},
   "outputs": [
    {
     "name": "stdout",
     "output_type": "stream",
     "text": [
      "         sex smoker  day    time\n",
      "count    195    195  195     195\n",
      "unique     2      2    4       2\n",
      "top     Male     No  Sat  Dinner\n",
      "freq     125    120   71     142\n",
      "         sex smoker  day    time\n",
      "count     49     49   49      49\n",
      "unique     2      2    4       2\n",
      "top     Male     No  Sat  Dinner\n",
      "freq      32     31   16      34\n"
     ]
    }
   ],
   "source": [
    "# object, category 데이터도 추가 확인\n",
    "# print(x_trian.describe(include='object'))\n",
    "# print(x_test.describe(include='object'))\n",
    "\n",
    "print(x_train.describe(include='category'))\n",
    "print(x_test.describe(include='category'))"
   ]
  },
  {
   "cell_type": "code",
   "execution_count": 8,
   "id": "665c6815",
   "metadata": {},
   "outputs": [
    {
     "name": "stdout",
     "output_type": "stream",
     "text": [
      "   cust_id  target\n",
      "0      158    2.61\n",
      "1      186    3.50\n",
      "2       21    2.75\n",
      "3       74    2.20\n",
      "4       43    1.32\n"
     ]
    }
   ],
   "source": [
    "# y데이터도 구체적으로 살펴보세요\n",
    "print(y_train.head())"
   ]
  },
  {
   "cell_type": "code",
   "execution_count": 9,
   "id": "9f5945c7",
   "metadata": {},
   "outputs": [
    {
     "name": "stdout",
     "output_type": "stream",
     "text": [
      "         count        mean        std  min   25%     50%     75%    max\n",
      "cust_id  195.0  122.056410  70.668034  0.0  59.5  121.00  182.50  243.0\n",
      "target   195.0    3.021692   1.402690  1.0   2.0    2.92    3.53   10.0\n"
     ]
    }
   ],
   "source": [
    "# y데이터도 구체적으로 살펴보세요\n",
    "print(y_train.describe().T)"
   ]
  },
  {
   "cell_type": "markdown",
   "id": "8c003e52",
   "metadata": {},
   "source": [
    "## &#9989; 3. 데이터 전처리 및 분리"
   ]
  },
  {
   "cell_type": "markdown",
   "id": "0ffd613b",
   "metadata": {},
   "source": [
    "### 1) 결측치, 2) 이상치, 3) 변수 처리하기"
   ]
  },
  {
   "cell_type": "code",
   "execution_count": 10,
   "id": "737aefc4",
   "metadata": {},
   "outputs": [
    {
     "name": "stdout",
     "output_type": "stream",
     "text": [
      "cust_id       0\n",
      "total_bill    0\n",
      "sex           0\n",
      "smoker        0\n",
      "day           0\n",
      "time          0\n",
      "size          0\n",
      "dtype: int64\n",
      "cust_id       0\n",
      "total_bill    0\n",
      "sex           0\n",
      "smoker        0\n",
      "day           0\n",
      "time          0\n",
      "size          0\n",
      "dtype: int64\n",
      "cust_id    0\n",
      "target     0\n",
      "dtype: int64\n"
     ]
    }
   ],
   "source": [
    "# 결측치 확인\n",
    "\n",
    "print(x_train.isnull().sum())\n",
    "print(x_test.isnull().sum())\n",
    "print(y_train.isnull().sum())"
   ]
  },
  {
   "cell_type": "code",
   "execution_count": 11,
   "id": "778bd433",
   "metadata": {},
   "outputs": [],
   "source": [
    "# 결측치 제거\n",
    "# df = df.dropna()\n",
    "# print(df)\n",
    "\n",
    "# 참고사항\n",
    "# print(df.dropna().shape) # 행 기준으로 삭제"
   ]
  },
  {
   "cell_type": "code",
   "execution_count": 12,
   "id": "68394237",
   "metadata": {},
   "outputs": [],
   "source": [
    "# 결측치 대체 (평균값, 중앙값, 최빈값)\n",
    "# 연속형 변수 :  중앙값, 평균값\n",
    "# df['변수명'].median()\n",
    "# df['변수명'].mean()\n",
    "\n",
    "# 범주형 변수 :  최빈값\n",
    "# df['변수명'].mode()\n",
    "\n",
    "\n",
    "# df['변수명'] = df['변수명'].fillna(대체할값)"
   ]
  },
  {
   "cell_type": "code",
   "execution_count": 13,
   "id": "8f89557b",
   "metadata": {},
   "outputs": [],
   "source": [
    "# 이상치 대체\n",
    "# (참고) df['변수명'] = np.where(df['변수명'] >= 5, 대체할 값, df['변수명'])"
   ]
  },
  {
   "cell_type": "code",
   "execution_count": 14,
   "id": "c7e270a4",
   "metadata": {},
   "outputs": [],
   "source": [
    "# 변수처리\n",
    "\n",
    "# 불필요한 변수 제거\n",
    "# df = df.drop(columns = ['변수1', '변수2'])\n",
    "# df = df.drop(['변수1', '변수2'], axis=1)\n",
    "\n",
    "# 필요시 변수 추가(파생변수 생성)\n",
    "# df['파생변수명'] = df['A'] * df['B'] (파생변수 생성 수식)\n",
    "\n",
    "# 원핫인코딩(가변수 처리)\n",
    "# x_train = pd.get_dummies(x_train)\n",
    "# x_test = pd.get_dummies(x_test)\n",
    "\n",
    "# print(x_train.info())\n",
    "# print(x_test.info())"
   ]
  },
  {
   "cell_type": "code",
   "execution_count": 15,
   "id": "bf67cce7",
   "metadata": {},
   "outputs": [],
   "source": [
    "# 변수처리\n",
    "\n",
    "# 불필요한 변수(columns) 제거\n",
    "# cust_id 는 불필요한 변수이므로 제거합니다.\n",
    "# 단, test셋의 cust_id가 나중에 제출이 필요하기 떄문에 별도로 저장\n",
    "\n",
    "cust_id = x_test['cust_id'].copy()\n",
    "\n",
    "# 각 데이터에서 cust_id 변수 제거\n",
    "x_train = x_train.drop(columns = ['cust_id']) # drop(columns = ['변수1', '변수2'])\n",
    "x_test = x_test.drop(columns = ['cust_id'])"
   ]
  },
  {
   "cell_type": "code",
   "execution_count": 16,
   "id": "77e31e4c",
   "metadata": {},
   "outputs": [
    {
     "name": "stdout",
     "output_type": "stream",
     "text": [
      "<class 'pandas.core.frame.DataFrame'>\n",
      "RangeIndex: 195 entries, 0 to 194\n",
      "Data columns (total 6 columns):\n",
      " #   Column      Non-Null Count  Dtype   \n",
      "---  ------      --------------  -----   \n",
      " 0   total_bill  195 non-null    float64 \n",
      " 1   sex         195 non-null    category\n",
      " 2   smoker      195 non-null    category\n",
      " 3   day         195 non-null    category\n",
      " 4   time        195 non-null    category\n",
      " 5   size        195 non-null    int64   \n",
      "dtypes: category(4), float64(1), int64(1)\n",
      "memory usage: 4.5 KB\n",
      "None\n"
     ]
    }
   ],
   "source": [
    "# 변수처리(원핫인코딩)\n",
    "print(x_train.info())"
   ]
  },
  {
   "cell_type": "code",
   "execution_count": 17,
   "id": "6963dcd7",
   "metadata": {},
   "outputs": [
    {
     "name": "stdout",
     "output_type": "stream",
     "text": [
      "<class 'pandas.core.frame.DataFrame'>\n",
      "RangeIndex: 195 entries, 0 to 194\n",
      "Data columns (total 12 columns):\n",
      " #   Column       Non-Null Count  Dtype  \n",
      "---  ------       --------------  -----  \n",
      " 0   total_bill   195 non-null    float64\n",
      " 1   size         195 non-null    int64  \n",
      " 2   sex_Male     195 non-null    uint8  \n",
      " 3   sex_Female   195 non-null    uint8  \n",
      " 4   smoker_Yes   195 non-null    uint8  \n",
      " 5   smoker_No    195 non-null    uint8  \n",
      " 6   day_Thur     195 non-null    uint8  \n",
      " 7   day_Fri      195 non-null    uint8  \n",
      " 8   day_Sat      195 non-null    uint8  \n",
      " 9   day_Sun      195 non-null    uint8  \n",
      " 10  time_Lunch   195 non-null    uint8  \n",
      " 11  time_Dinner  195 non-null    uint8  \n",
      "dtypes: float64(1), int64(1), uint8(10)\n",
      "memory usage: 5.1 KB\n",
      "None\n",
      "<class 'pandas.core.frame.DataFrame'>\n",
      "RangeIndex: 49 entries, 0 to 48\n",
      "Data columns (total 12 columns):\n",
      " #   Column       Non-Null Count  Dtype  \n",
      "---  ------       --------------  -----  \n",
      " 0   total_bill   49 non-null     float64\n",
      " 1   size         49 non-null     int64  \n",
      " 2   sex_Male     49 non-null     uint8  \n",
      " 3   sex_Female   49 non-null     uint8  \n",
      " 4   smoker_Yes   49 non-null     uint8  \n",
      " 5   smoker_No    49 non-null     uint8  \n",
      " 6   day_Thur     49 non-null     uint8  \n",
      " 7   day_Fri      49 non-null     uint8  \n",
      " 8   day_Sat      49 non-null     uint8  \n",
      " 9   day_Sun      49 non-null     uint8  \n",
      " 10  time_Lunch   49 non-null     uint8  \n",
      " 11  time_Dinner  49 non-null     uint8  \n",
      "dtypes: float64(1), int64(1), uint8(10)\n",
      "memory usage: 1.4 KB\n",
      "None\n"
     ]
    }
   ],
   "source": [
    "# 변수처리(원핫인코딩)\n",
    "x_train = pd.get_dummies(x_train)\n",
    "x_test = pd.get_dummies(x_test)\n",
    "\n",
    "print(x_train.info())\n",
    "print(x_test.info())"
   ]
  },
  {
   "cell_type": "markdown",
   "id": "9b59fb4f",
   "metadata": {},
   "source": [
    "### 데이터 분리"
   ]
  },
  {
   "cell_type": "code",
   "execution_count": 18,
   "id": "f75ec4bf",
   "metadata": {},
   "outputs": [
    {
     "name": "stdout",
     "output_type": "stream",
     "text": [
      "(156, 12)\n",
      "(39, 12)\n",
      "(156,)\n",
      "(39,)\n"
     ]
    }
   ],
   "source": [
    "# 데이터를 훈련 세트와 검증용 세트로 분할 (80% 훈련, 20% 검증용)\n",
    "from sklearn.model_selection import train_test_split\n",
    "x_train, x_val, y_train, y_val = train_test_split(x_train, y_train['target'],\n",
    "                                                   test_size = 0.2,\n",
    "                                                   random_state = 23)\n",
    "# 분류 모델에서는 층화(starify)를 할 필요가 없다. 연속형인 경우에만 사용\n",
    "\n",
    "print(x_train.shape)\n",
    "print(x_val.shape)\n",
    "print(y_train.shape)\n",
    "print(y_val.shape)"
   ]
  },
  {
   "cell_type": "markdown",
   "id": "5a920a89",
   "metadata": {},
   "source": [
    "## &#9989; 4. 모델링 밑 성능평가"
   ]
  },
  {
   "cell_type": "code",
   "execution_count": 19,
   "id": "fb6b950c",
   "metadata": {},
   "outputs": [
    {
     "data": {
      "text/plain": [
       "RandomForestRegressor(random_state=2023)"
      ]
     },
     "execution_count": 19,
     "metadata": {},
     "output_type": "execute_result"
    }
   ],
   "source": [
    "# 랜덤포레스트 모델 사용 (참고: 분류모델은 RandomForestClassifier)\n",
    "from sklearn.ensemble import RandomForestRegressor\n",
    "model = RandomForestRegressor(random_state=2023)\n",
    "model.fit(x_train, y_train)"
   ]
  },
  {
   "cell_type": "code",
   "execution_count": 20,
   "id": "2430aaa3",
   "metadata": {},
   "outputs": [],
   "source": [
    "# 모델을 사용하여 테스트 데이터 예측\n",
    "y_pred = model.predict(x_val)"
   ]
  },
  {
   "cell_type": "code",
   "execution_count": 21,
   "id": "33fa01ad",
   "metadata": {},
   "outputs": [],
   "source": [
    "# 모델 성능 평가 (R-squared, MSE 등)\n",
    "from sklearn.metrics import r2_score, mean_squared_error\n",
    "r2 = r2_score(y_val, y_pred)            # (실제값, 예측값)\n",
    "mse = mean_squared_error(y_val, y_pred) # (실제값, 예측값)"
   ]
  },
  {
   "cell_type": "code",
   "execution_count": 22,
   "id": "34f493d0",
   "metadata": {},
   "outputs": [
    {
     "name": "stdout",
     "output_type": "stream",
     "text": [
      "0.9812277338461534\n"
     ]
    }
   ],
   "source": [
    "# MSE\n",
    "print(mse)"
   ]
  },
  {
   "cell_type": "code",
   "execution_count": 23,
   "id": "c64f6030",
   "metadata": {},
   "outputs": [
    {
     "name": "stdout",
     "output_type": "stream",
     "text": [
      "0.990569398803614\n"
     ]
    }
   ],
   "source": [
    "# RMSE\n",
    "rmse = mse**0.5\n",
    "print(rmse)"
   ]
  },
  {
   "cell_type": "code",
   "execution_count": 24,
   "id": "9812d653",
   "metadata": {},
   "outputs": [
    {
     "name": "stdout",
     "output_type": "stream",
     "text": [
      "0.4286497615634072\n"
     ]
    }
   ],
   "source": [
    "# R2 score(R-squared)\n",
    "print(r2)"
   ]
  },
  {
   "cell_type": "markdown",
   "id": "2ce02226",
   "metadata": {},
   "source": [
    "## &#9989; 5. 예측값 제출"
   ]
  },
  {
   "cell_type": "markdown",
   "id": "ce4e9e67",
   "metadata": {},
   "source": [
    "### (주의) x_test 를 모델에 넣어 나온 예측값을 제출해야함"
   ]
  },
  {
   "cell_type": "code",
   "execution_count": 25,
   "id": "57232586",
   "metadata": {},
   "outputs": [
    {
     "name": "stdout",
     "output_type": "stream",
     "text": [
      "   cust_id  target\n",
      "0      154  3.2266\n",
      "1        4  4.1160\n",
      "2       30  1.8966\n",
      "3       75  1.8735\n",
      "4       33  3.0267\n"
     ]
    }
   ],
   "source": [
    "#(실기시험 안내사항)\n",
    "# 아래 코드 예측변수와 수험번호를 개인별로 변경하여 활용\n",
    "# pd.DataFrame({'cust_id':cust_id, 'target':y_result}).to_csv('0030000.csv', index=False)\n",
    "\n",
    "# 모델을 사용하여 테스트 데이터 예측\n",
    "y_result = model.predict(x_test)\n",
    "result = pd.DataFrame({'cust_id':cust_id, 'target':y_result})\n",
    "print(result[:5])"
   ]
  },
  {
   "cell_type": "code",
   "execution_count": null,
   "id": "999a8e34",
   "metadata": {},
   "outputs": [],
   "source": [
    "# ★tip : 데이터를 저장한 다음 불러와서 제대로 제출했는지 확인해보자\n",
    "# pd.DataFrame({'result':y_result}).to_csv('수험번호.csv', index=False)\n",
    "# df2 = pd.read_csv(\"수험번호.csv\")\n",
    "# print(df2.head())"
   ]
  }
 ],
 "metadata": {
  "kernelspec": {
   "display_name": "Python 3 (ipykernel)",
   "language": "python",
   "name": "python3"
  },
  "language_info": {
   "codemirror_mode": {
    "name": "ipython",
    "version": 3
   },
   "file_extension": ".py",
   "mimetype": "text/x-python",
   "name": "python",
   "nbconvert_exporter": "python",
   "pygments_lexer": "ipython3",
   "version": "3.9.13"
  }
 },
 "nbformat": 4,
 "nbformat_minor": 5
}
