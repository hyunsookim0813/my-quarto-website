{
 "cells": [
  {
   "cell_type": "markdown",
   "id": "2d4d8742",
   "metadata": {},
   "source": [
    "---\n",
    "title: '빅분기 실기 - 3유형 문제풀이(5)'\n",
    "author: 'Hyunsoo Kim'\n",
    "date: '2023-11-16'\n",
    "categories: [Python, Pandas, Numpy, scipy]\n",
    "jupyter: python3\n",
    "page-layout: full\n",
    "---"
   ]
  },
  {
   "cell_type": "markdown",
   "id": "fdac0555",
   "metadata": {},
   "source": [
    "> 실기 3 유형(5)\n",
    "\n",
    "- 출처 : [MetaCodeM](https://www.youtube.com/watch?v=37GqFZVjc1Y&t=1548s)\n",
    "- 참고 : [시험환경 체험](https://dataq.goorm.io/exam/3/%EB%B9%85%EB%8D%B0%EC%9D%B4%ED%84%B0%EB%B6%84%EC%84%9D%EA%B8%B0%EC%82%AC-%EC%8B%A4%EA%B8%B0-%EC%B2%B4%ED%97%98/quiz/5)\n",
    "\n",
    "- 추가 : [MetaCodeM](https://www.youtube.com/watch?v=UIiydlm-eDg&feature=youtu.be)"
   ]
  },
  {
   "cell_type": "markdown",
   "id": "d599c1cc",
   "metadata": {},
   "source": [
    "# 3유형 문제풀이(5)"
   ]
  },
  {
   "cell_type": "markdown",
   "id": "04b4d0e8",
   "metadata": {},
   "source": [
    "# 제3유형_다중회귀분석 및 상관분석"
   ]
  },
  {
   "cell_type": "markdown",
   "id": "01048bfe",
   "metadata": {},
   "source": [
    "## &#9989; 다중회귀분석"
   ]
  },
  {
   "cell_type": "code",
   "execution_count": 1,
   "id": "928011de",
   "metadata": {},
   "outputs": [],
   "source": [
    "import pandas as pd\n",
    "import numpy as np"
   ]
  },
  {
   "cell_type": "markdown",
   "id": "0859d676",
   "metadata": {},
   "source": [
    "### 당뇨병 환자의 질병 진행정도 데이터셋"
   ]
  },
  {
   "cell_type": "code",
   "execution_count": 2,
   "id": "3dfb4885",
   "metadata": {},
   "outputs": [],
   "source": [
    "###############  실기환경 복사 영역  ###############\n",
    "import pandas as pd\n",
    "import numpy as np\n",
    "# 실기 시험 데이터셋으로 셋팅하기 (수정금지)\n",
    "from sklearn.datasets import load_diabetes\n",
    "# diabetes 데이터셋 로드\n",
    "diabetes = load_diabetes()\n",
    "x = pd.DataFrame(diabetes.data, columns=diabetes.feature_names)\n",
    "y = pd.DataFrame(diabetes.target)\n",
    "y.columns = ['target'] \n",
    "###############  실기환경 복사 영역  ###############"
   ]
  },
  {
   "cell_type": "code",
   "execution_count": 3,
   "id": "a6ece96d",
   "metadata": {},
   "outputs": [
    {
     "name": "stdout",
     "output_type": "stream",
     "text": [
      ".. _diabetes_dataset:\n",
      "\n",
      "Diabetes dataset\n",
      "----------------\n",
      "\n",
      "Ten baseline variables, age, sex, body mass index, average blood\n",
      "pressure, and six blood serum measurements were obtained for each of n =\n",
      "442 diabetes patients, as well as the response of interest, a\n",
      "quantitative measure of disease progression one year after baseline.\n",
      "\n",
      "**Data Set Characteristics:**\n",
      "\n",
      "  :Number of Instances: 442\n",
      "\n",
      "  :Number of Attributes: First 10 columns are numeric predictive values\n",
      "\n",
      "  :Target: Column 11 is a quantitative measure of disease progression one year after baseline\n",
      "\n",
      "  :Attribute Information:\n",
      "      - age     age in years\n",
      "      - sex\n",
      "      - bmi     body mass index\n",
      "      - bp      average blood pressure\n",
      "      - s1      tc, total serum cholesterol\n",
      "      - s2      ldl, low-density lipoproteins\n",
      "      - s3      hdl, high-density lipoproteins\n",
      "      - s4      tch, total cholesterol / HDL\n",
      "      - s5      ltg, possibly log of serum triglycerides level\n",
      "      - s6      glu, blood sugar level\n",
      "\n",
      "Note: Each of these 10 feature variables have been mean centered and scaled by the standard deviation times `n_samples` (i.e. the sum of squares of each column totals 1).\n",
      "\n",
      "Source URL:\n",
      "https://www4.stat.ncsu.edu/~boos/var.select/diabetes.html\n",
      "\n",
      "For more information see:\n",
      "Bradley Efron, Trevor Hastie, Iain Johnstone and Robert Tibshirani (2004) \"Least Angle Regression,\" Annals of Statistics (with discussion), 407-499.\n",
      "(https://web.stanford.edu/~hastie/Papers/LARS/LeastAngle_2002.pdf)\n"
     ]
    }
   ],
   "source": [
    "# 데이터 설명\n",
    "print(diabetes.DESCR)"
   ]
  },
  {
   "cell_type": "markdown",
   "id": "4e3bd404",
   "metadata": {},
   "source": [
    "### 1. sklearn 라이브러리 활용"
   ]
  },
  {
   "cell_type": "code",
   "execution_count": 4,
   "id": "521732c9",
   "metadata": {},
   "outputs": [],
   "source": [
    "# sklearn 라이브러리 활용\n",
    "import pandas as pd\n",
    "import numpy as np\n",
    "from sklearn.linear_model import LinearRegression"
   ]
  },
  {
   "cell_type": "code",
   "execution_count": 8,
   "id": "5349dee1",
   "metadata": {},
   "outputs": [
    {
     "name": "stdout",
     "output_type": "stream",
     "text": [
      "        age       sex       bmi\n",
      "0  0.038076  0.050680  0.061696\n",
      "1 -0.001882 -0.044642 -0.051474\n",
      "2  0.085299  0.050680  0.044451\n",
      "3 -0.089063 -0.044642 -0.011595\n",
      "4  0.005383 -0.044642 -0.036385\n",
      "----------------------------------\n",
      "   target\n",
      "0   151.0\n",
      "1    75.0\n",
      "2   141.0\n",
      "3   206.0\n",
      "4   135.0\n"
     ]
    }
   ],
   "source": [
    "# 독립변수와 종속변수 설정\n",
    "x = x[['age','sex','bmi']]\n",
    "print(x.head())\n",
    "print(y.head())"
   ]
  },
  {
   "cell_type": "markdown",
   "id": "044ed9de",
   "metadata": {},
   "source": [
    "- 회귀식 : y = b0 + b1x1 + b2x2 + b3x3  \n",
    "    (x1=age, x2=sex, x3=bmi)"
   ]
  },
  {
   "cell_type": "code",
   "execution_count": 11,
   "id": "884aed44",
   "metadata": {},
   "outputs": [
    {
     "data": {
      "text/plain": [
       "LinearRegression()"
      ]
     },
     "execution_count": 11,
     "metadata": {},
     "output_type": "execute_result"
    }
   ],
   "source": [
    "# 모델링 \n",
    "from sklearn.linear_model import LinearRegression\n",
    "model = LinearRegression()\n",
    "model.fit(x, y)"
   ]
  },
  {
   "cell_type": "code",
   "execution_count": 12,
   "id": "85c6b97d",
   "metadata": {},
   "outputs": [
    {
     "name": "stdout",
     "output_type": "stream",
     "text": [
      "0.35\n"
     ]
    }
   ],
   "source": [
    "# 회귀분석 관련 지표 출력\n",
    "\n",
    "# 1. Rsq(결정계수) : model.score(x,y)\n",
    "model.score(x, y)\n",
    "print(round(model.score(x,y),2))"
   ]
  },
  {
   "cell_type": "code",
   "execution_count": 14,
   "id": "5f6ea510",
   "metadata": {},
   "outputs": [
    {
     "name": "stdout",
     "output_type": "stream",
     "text": [
      "[[138.9  -36.14 926.91]]\n",
      "138.9\n",
      "-36.14\n",
      "926.91\n"
     ]
    }
   ],
   "source": [
    "# 2. 회귀계수 출력 : model.coef_\n",
    "print(np.round(model.coef_, 2))        # 전체 회귀계수\n",
    "print(np.round(model.coef_[0,0], 2))   # x1의 회귀계수\n",
    "print(np.round(model.coef_[0,1], 2))   # x2의 회귀계수\n",
    "print(np.round(model.coef_[0,2], 2))   # x3의 회귀계수"
   ]
  },
  {
   "cell_type": "code",
   "execution_count": 15,
   "id": "33ac84b7",
   "metadata": {},
   "outputs": [
    {
     "name": "stdout",
     "output_type": "stream",
     "text": [
      "[152.13]\n"
     ]
    }
   ],
   "source": [
    "# 3. 회귀계수(절편) : model.intercept_\n",
    "print(np.round(model.intercept_, 2))"
   ]
  },
  {
   "cell_type": "markdown",
   "id": "445aa453",
   "metadata": {},
   "source": [
    "- 회귀식 : y = b0 + b1x1 + b2x2 + b3x3  \n",
    "(x1=age, x2=sex, x3=bmi)\n",
    "\n",
    "### 결과 : 152.13 + 138.9age -36.14sex + 926.91bmi"
   ]
  },
  {
   "cell_type": "markdown",
   "id": "591c65bb",
   "metadata": {},
   "source": [
    "## 2. statsmodels 라이브러리 사용"
   ]
  },
  {
   "cell_type": "code",
   "execution_count": 16,
   "id": "4514cf20",
   "metadata": {},
   "outputs": [],
   "source": [
    "###############  실기환경 복사 영역  ###############\n",
    "import pandas as pd\n",
    "import numpy as np\n",
    "# 실기 시험 데이터셋으로 셋팅하기 (수정금지)\n",
    "from sklearn.datasets import load_diabetes\n",
    "# diabetes 데이터셋 로드\n",
    "diabetes = load_diabetes()\n",
    "x = pd.DataFrame(diabetes.data, columns=diabetes.feature_names)\n",
    "y = pd.DataFrame(diabetes.target)\n",
    "y.columns = ['target'] \n",
    "###############  실기환경 복사 영역  ###############"
   ]
  },
  {
   "cell_type": "code",
   "execution_count": 17,
   "id": "c49628a1",
   "metadata": {},
   "outputs": [
    {
     "name": "stdout",
     "output_type": "stream",
     "text": [
      "        age       sex       bmi\n",
      "0  0.038076  0.050680  0.061696\n",
      "1 -0.001882 -0.044642 -0.051474\n",
      "2  0.085299  0.050680  0.044451\n",
      "3 -0.089063 -0.044642 -0.011595\n",
      "4  0.005383 -0.044642 -0.036385\n",
      "   target\n",
      "0   151.0\n",
      "1    75.0\n",
      "2   141.0\n",
      "3   206.0\n",
      "4   135.0\n"
     ]
    }
   ],
   "source": [
    "# statsmodel.formula 활용\n",
    "import statsmodels.api as sm\n",
    "# 독립변수와 종속변수 설정\n",
    "x = x[['age','sex','bmi']]\n",
    "y = y[['target']]\n",
    "print(x.head())\n",
    "print(y.head())"
   ]
  },
  {
   "cell_type": "code",
   "execution_count": 18,
   "id": "b4aa0de1",
   "metadata": {},
   "outputs": [
    {
     "name": "stdout",
     "output_type": "stream",
     "text": [
      "                            OLS Regression Results                            \n",
      "==============================================================================\n",
      "Dep. Variable:                 target   R-squared:                       0.351\n",
      "Model:                            OLS   Adj. R-squared:                  0.346\n",
      "Method:                 Least Squares   F-statistic:                     78.94\n",
      "Date:                Wed, 29 Nov 2023   Prob (F-statistic):           7.77e-41\n",
      "Time:                        14:29:14   Log-Likelihood:                -2451.6\n",
      "No. Observations:                 442   AIC:                             4911.\n",
      "Df Residuals:                     438   BIC:                             4928.\n",
      "Df Model:                           3                                         \n",
      "Covariance Type:            nonrobust                                         \n",
      "==============================================================================\n",
      "                 coef    std err          t      P>|t|      [0.025      0.975]\n",
      "------------------------------------------------------------------------------\n",
      "const        152.1335      2.964     51.321      0.000     146.307     157.960\n",
      "age          138.9039     64.254      2.162      0.031      12.618     265.189\n",
      "sex          -36.1353     63.391     -0.570      0.569    -160.724      88.453\n",
      "bmi          926.9120     63.525     14.591      0.000     802.061    1051.763\n",
      "==============================================================================\n",
      "Omnibus:                       14.687   Durbin-Watson:                   1.851\n",
      "Prob(Omnibus):                  0.001   Jarque-Bera (JB):                8.290\n",
      "Skew:                           0.150   Prob(JB):                       0.0158\n",
      "Kurtosis:                       2.400   Cond. No.                         23.7\n",
      "==============================================================================\n",
      "\n",
      "Notes:\n",
      "[1] Standard Errors assume that the covariance matrix of the errors is correctly specified.\n"
     ]
    }
   ],
   "source": [
    "# 모델링\n",
    "import statsmodels.api as sm\n",
    "\n",
    "x = sm.add_constant(x)        # 주의 : 상수항 추가해줘야 함\n",
    "model = sm.OLS(y, x).fit()\n",
    "# y_pred = model.predict(x)\n",
    "summary = model.summary()\n",
    "print(summary)"
   ]
  },
  {
   "cell_type": "code",
   "execution_count": 19,
   "id": "2db81917",
   "metadata": {},
   "outputs": [],
   "source": [
    "# 1. Rsq(결정계수)\n",
    "# r2 = 0.351\n",
    "\n",
    "# 2. 회귀계수\n",
    "# age = 138.9039\n",
    "# sex = -36.1353\n",
    "# bmi = 926.9120\n",
    "\n",
    "# 3. 회귀계수(절편)\n",
    "# const = 152.1335\n",
    "\n",
    "# 4. 회귀식 p-value\n",
    "# pvalue = 7.77e-41 # 0에 가까운 작은 값"
   ]
  },
  {
   "cell_type": "markdown",
   "id": "26d1d33e",
   "metadata": {},
   "source": [
    "## (결과 비교해보기) 두 라이브러리 모두 같은 결과값을 출력"
   ]
  },
  {
   "cell_type": "markdown",
   "id": "bd4b8fbe",
   "metadata": {},
   "source": [
    "- 회귀식 : y = b0 + b1x1 + b2x2 + b3x3  \n",
    "(x1=age, x2=sex, x3=bmi)\n",
    "\n",
    "\n",
    "### 1. sklearn : y = 152.13 + 138.9age -36.14sex + 926.91bmi\n",
    "### 2. statsmodel : y = 152.13 + 138.9age -36.14sex + 926.91bmi"
   ]
  },
  {
   "cell_type": "markdown",
   "id": "f9157f8a",
   "metadata": {},
   "source": [
    "## &#9989; 상관분석"
   ]
  },
  {
   "cell_type": "code",
   "execution_count": 20,
   "id": "9a7208a2",
   "metadata": {},
   "outputs": [],
   "source": [
    "###############  실기환경 복사 영역  ###############\n",
    "import pandas as pd\n",
    "import numpy as np\n",
    "# 실기 시험 데이터셋으로 셋팅하기 (수정금지)\n",
    "from sklearn.datasets import load_diabetes\n",
    "# diabetes 데이터셋 로드\n",
    "diabetes = load_diabetes()\n",
    "x = pd.DataFrame(diabetes.data, columns=diabetes.feature_names)\n",
    "y = pd.DataFrame(diabetes.target)\n",
    "y.columns = ['target'] \n",
    "###############  실기환경 복사 영역  ###############"
   ]
  },
  {
   "cell_type": "code",
   "execution_count": 21,
   "id": "ef5c8a8d",
   "metadata": {},
   "outputs": [
    {
     "name": "stdout",
     "output_type": "stream",
     "text": [
      "0    0.061696\n",
      "1   -0.051474\n",
      "2    0.044451\n",
      "3   -0.011595\n",
      "4   -0.036385\n",
      "Name: bmi, dtype: float64\n",
      "0    151.0\n",
      "1     75.0\n",
      "2    141.0\n",
      "3    206.0\n",
      "4    135.0\n",
      "Name: target, dtype: float64\n"
     ]
    }
   ],
   "source": [
    "# 상관분석을 할 2가지 변수 설정\n",
    "x = x['bmi']\n",
    "y = y['target']\n",
    "print(x.head())\n",
    "print(y.head())"
   ]
  },
  {
   "cell_type": "code",
   "execution_count": 22,
   "id": "d7ca325a",
   "metadata": {},
   "outputs": [
    {
     "name": "stdout",
     "output_type": "stream",
     "text": [
      "0.59\n",
      "0.0\n",
      "15.19\n"
     ]
    }
   ],
   "source": [
    "# 라이브러리 불러오기\n",
    "from scipy.stats import pearsonr\n",
    "\n",
    "# 상관계수에 대한 검정실시\n",
    "r, pvalue = pearsonr(x, y)\n",
    "\n",
    "# 가설검정\n",
    "# H0 : 두 변수간 선형관계가 존재하지 않는다 (p=0)\n",
    "# H1 : 두 변수간 선형관계가 존재한다 (p!=0)\n",
    "\n",
    "# 1. 상관계수\n",
    "print(round(r,2))\n",
    "\n",
    "# 2. p-value\n",
    "print(round(pvalue,2))\n",
    "\n",
    "# 3. 검정통계량\n",
    "# 통계량은 별로돌 구해야 함 (T = r*root(n-2) / root(1-2r))\n",
    "# r = 상관계수\n",
    "# n = 데이터의 개수\n",
    "\n",
    "n = len(x) # 데이터 수\n",
    "r2 = r**2  # 상관꼐수의 제곱  \n",
    "statistic = r * ((n-2)**0.5) / ((1-r2)**0.5)\n",
    "\n",
    "print(round(statistic,2)) # 통계량값이 크면 p-value 값이 작아진다\n",
    "\n",
    "# 4. 귀무가설 기각여부 결정(채택/기각)\n",
    "# p-value 값이 0.05보다 작기 떄문에 귀무가설을 기각한다.\n",
    "# 즉, 두 변수간 선형관계가 존재한다고 할 수 있다.(상관계수가 0이 아니다)\n",
    "\n",
    "# 답 : 기각"
   ]
  }
 ],
 "metadata": {
  "kernelspec": {
   "display_name": "Python 3 (ipykernel)",
   "language": "python",
   "name": "python3"
  },
  "language_info": {
   "codemirror_mode": {
    "name": "ipython",
    "version": 3
   },
   "file_extension": ".py",
   "mimetype": "text/x-python",
   "name": "python",
   "nbconvert_exporter": "python",
   "pygments_lexer": "ipython3",
   "version": "3.9.13"
  }
 },
 "nbformat": 4,
 "nbformat_minor": 5
}
